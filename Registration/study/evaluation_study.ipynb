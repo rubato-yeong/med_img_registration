{
 "cells": [
  {
   "cell_type": "markdown",
   "source": [
    "# Evaluation Study"
   ],
   "metadata": {}
  },
  {
   "cell_type": "markdown",
   "source": [
    "## Setup"
   ],
   "metadata": {}
  },
  {
   "cell_type": "code",
   "execution_count": 3,
   "source": [
    "import os, sys\r\n",
    "import shutil\r\n",
    "import math\r\n",
    "import time\r\n",
    "from glob import glob\r\n",
    "import numpy as np\r\n",
    "import pandas as pd\r\n",
    "import matplotlib.pyplot as plt\r\n",
    "import seaborn as sns\r\n",
    "\r\n",
    "import torch\r\n",
    "import torch.nn as nn\r\n",
    "import torch.nn.functional as F\r\n",
    "\r\n",
    "sys.path.append('..')"
   ],
   "outputs": [],
   "metadata": {}
  },
  {
   "cell_type": "code",
   "execution_count": 10,
   "source": [
    "# PATH Setting\r\n",
    "DIR_PATH = 'F:/20210730_samples'\r\n",
    "SAVE_PATH = os.path.join(DIR_PATH, 'numpy')\r\n",
    "CT_PATH = os.path.join(SAVE_PATH, 'CT_target')\r\n",
    "PT_PATH = os.path.join(SAVE_PATH, 'PT_vanilla')\r\n",
    "PT_PATH_2 = os.path.join(SAVE_PATH, 'PT_resize')"
   ],
   "outputs": [],
   "metadata": {}
  },
  {
   "cell_type": "code",
   "execution_count": 11,
   "source": [
    "device = torch.device('cuda')"
   ],
   "outputs": [],
   "metadata": {}
  },
  {
   "cell_type": "markdown",
   "source": [
    "## NCC"
   ],
   "metadata": {}
  },
  {
   "cell_type": "code",
   "execution_count": 117,
   "source": [
    "Ii = np.zeros([16, 1, 128, 128, 256])\r\n",
    "Ji = np.zeros([16, 1, 128, 128, 256])\r\n",
    "for i in range(16):\r\n",
    "    Ii[i,0] = np.load(os.path.join(CT_PATH, os.listdir(CT_PATH)[i]))\r\n",
    "    Ji[i,0] = np.load(os.path.join(PT_PATH, os.listdir(PT_PATH)[i]))\r\n",
    "\r\n",
    "Ii = torch.FloatTensor(Ii).to(device)\r\n",
    "Ji = torch.FloatTensor(Ji).to(device)"
   ],
   "outputs": [],
   "metadata": {}
  },
  {
   "cell_type": "code",
   "execution_count": 119,
   "source": [
    "Ii = np.zeros([16, 1, 128, 128, 256])\r\n",
    "Ji = np.zeros([16, 1, 128, 128, 256])\r\n",
    "for i in range(16):\r\n",
    "    Ii[i,0] = np.load(os.path.join(CT_PATH, os.listdir(CT_PATH)[i]))\r\n",
    "    Ji[i,0] = np.load(os.path.join(PT_PATH_2, os.listdir(PT_PATH_2)[i]))\r\n",
    "\r\n",
    "Ii = torch.FloatTensor(Ii).to(device)\r\n",
    "Ji = torch.FloatTensor(Ji).to(device)"
   ],
   "outputs": [],
   "metadata": {}
  },
  {
   "cell_type": "code",
   "execution_count": 19,
   "source": [
    "import utils.model.losses as losses\r\n",
    "\r\n",
    "start = time.time()\r\n",
    "\r\n",
    "criterion = losses.NCC(local=False, metric=True, device=device).to(device)\r\n",
    "cc = criterion(Ii, Ji).cpu()\r\n",
    "print ('Autograd Check', cc.requires_grad)\r\n",
    "print ('NCC', cc)\r\n",
    "print ('Average NCC', cc.mean().item())\r\n",
    "print ('Time:', time.time()-start)"
   ],
   "outputs": [
    {
     "output_type": "stream",
     "name": "stdout",
     "text": [
      "Autograd Check False\n",
      "NCC tensor([0.4268, 0.4540, 0.5476, 0.4465, 0.3494, 0.5016, 0.3968, 0.2531, 0.2562,\n",
      "        0.2873, 0.4179, 0.3197, 0.3976, 0.3193, 0.5823, 0.3773])\n",
      "Average NCC 0.3958446681499481\n",
      "Time: 4.13455867767334\n"
     ]
    }
   ],
   "metadata": {}
  },
  {
   "cell_type": "code",
   "execution_count": 6,
   "source": [
    "torch.linspace(4,5,10)"
   ],
   "outputs": [
    {
     "output_type": "execute_result",
     "data": {
      "text/plain": [
       "tensor([4.0000, 4.1111, 4.2222, 4.3333, 4.4444, 4.5556, 4.6667, 4.7778, 4.8889,\n",
       "        5.0000])"
      ]
     },
     "metadata": {},
     "execution_count": 6
    }
   ],
   "metadata": {}
  },
  {
   "cell_type": "code",
   "execution_count": 123,
   "source": [
    "import utils.model.losses as losses\r\n",
    "\r\n",
    "start = time.time()\r\n",
    "\r\n",
    "criterion = losses.MutualInformation(sigma_ratio=0.1, device=device).to(device)\r\n",
    "cc = criterion(Ii[:4], Ii[:4]).cpu()\r\n",
    "print ('Autograd Check', cc.requires_grad)\r\n",
    "print ('NCC', cc)\r\n",
    "print ('Average NCC', cc.mean().item())\r\n",
    "print ('Time:', time.time()-start)"
   ],
   "outputs": [
    {
     "output_type": "stream",
     "name": "stdout",
     "text": [
      "Autograd Check False\n",
      "NCC tensor([0.9143, 0.8923, 0.9299, 0.9514])\n",
      "Average NCC 0.9219973087310791\n",
      "Time: 0.4689037799835205\n"
     ]
    }
   ],
   "metadata": {}
  },
  {
   "cell_type": "code",
   "execution_count": 31,
   "source": [
    "a = np.array([[0.1, 0.2, 0.1],\r\n",
    "              [0.9, 0.8, 0.9]])\r\n",
    "b = np.array([[0.2, 0.3, 0.5],\r\n",
    "              [0.8, 0.7, 0.5]])\r\n",
    "np.sum(np.matmul(a, b.T))"
   ],
   "outputs": [
    {
     "output_type": "execute_result",
     "data": {
      "text/plain": [
       "3.0"
      ]
     },
     "metadata": {},
     "execution_count": 31
    }
   ],
   "metadata": {}
  },
  {
   "cell_type": "code",
   "execution_count": 76,
   "source": [
    "a = np.arange(12).reshape(2,3,2)\r\n",
    "a = torch.FloatTensor(a)\r\n",
    "at = a / torch.sum(a, dim=-1, keepdims=True)\r\n",
    "b = np.arange(12).reshape(2,3,2)\r\n",
    "b = torch.FloatTensor(b)\r\n",
    "bt = b / torch.sum(b, dim=-1, keepdims=True)\r\n",
    "print (at,bt,sep='\\n')"
   ],
   "outputs": [
    {
     "output_type": "stream",
     "name": "stdout",
     "text": [
      "tensor([[[0.0000, 1.0000],\n",
      "         [0.4000, 0.6000],\n",
      "         [0.4444, 0.5556]],\n",
      "\n",
      "        [[0.4615, 0.5385],\n",
      "         [0.4706, 0.5294],\n",
      "         [0.4762, 0.5238]]])\n",
      "tensor([[[0.0000, 1.0000],\n",
      "         [0.4000, 0.6000],\n",
      "         [0.4444, 0.5556]],\n",
      "\n",
      "        [[0.4615, 0.5385],\n",
      "         [0.4706, 0.5294],\n",
      "         [0.4762, 0.5238]]])\n"
     ]
    }
   ],
   "metadata": {}
  },
  {
   "cell_type": "code",
   "execution_count": 84,
   "source": [
    "pa = torch.mean(at, dim=1, keepdim=True)\r\n",
    "pb = torch.mean(bt, dim=1, keepdim=True)\r\n",
    "papb = torch.bmm(pa.permute(0,2,1), pb)\r\n",
    "papb"
   ],
   "outputs": [
    {
     "output_type": "execute_result",
     "data": {
      "text/plain": [
       "tensor([[[0.0792, 0.2022],\n",
       "         [0.2022, 0.5163]],\n",
       "\n",
       "        [[0.2204, 0.2491],\n",
       "         [0.2491, 0.2815]]])"
      ]
     },
     "metadata": {},
     "execution_count": 84
    }
   ],
   "metadata": {}
  },
  {
   "cell_type": "code",
   "execution_count": 85,
   "source": [
    "print (pa)\r\n",
    "print (pb)"
   ],
   "outputs": [
    {
     "output_type": "stream",
     "name": "stdout",
     "text": [
      "tensor([[[0.2815, 0.7185]],\n",
      "\n",
      "        [[0.4694, 0.5306]]])\n",
      "tensor([[[0.2815, 0.7185]],\n",
      "\n",
      "        [[0.4694, 0.5306]]])\n"
     ]
    }
   ],
   "metadata": {}
  },
  {
   "cell_type": "code",
   "execution_count": 86,
   "source": [
    "pab = torch.bmm(at.permute(0,2,1), bt)/3\r\n",
    "pab"
   ],
   "outputs": [
    {
     "output_type": "execute_result",
     "data": {
      "text/plain": [
       "tensor([[[0.1192, 0.1623],\n",
       "         [0.1623, 0.5562]],\n",
       "\n",
       "        [[0.2204, 0.2490],\n",
       "         [0.2490, 0.2815]]])"
      ]
     },
     "metadata": {},
     "execution_count": 86
    }
   ],
   "metadata": {}
  },
  {
   "cell_type": "code",
   "execution_count": 87,
   "source": [
    "mi = torch.sum(torch.sum(pab * torch.log(pab / papb), dim=1), dim=1)"
   ],
   "outputs": [],
   "metadata": {}
  },
  {
   "cell_type": "code",
   "execution_count": 88,
   "source": [
    "mi"
   ],
   "outputs": [
    {
     "output_type": "execute_result",
     "data": {
      "text/plain": [
       "tensor([ 1.8681e-02, -7.6761e-10])"
      ]
     },
     "metadata": {},
     "execution_count": 88
    }
   ],
   "metadata": {}
  },
  {
   "cell_type": "code",
   "execution_count": 89,
   "source": [
    "torch.log(pab / papb)"
   ],
   "outputs": [
    {
     "output_type": "execute_result",
     "data": {
      "text/plain": [
       "tensor([[[ 4.0823e-01, -2.2003e-01],\n",
       "         [-2.2003e-01,  7.4525e-02]],\n",
       "\n",
       "        [[ 1.6533e-04, -1.4634e-04],\n",
       "         [-1.4634e-04,  1.2945e-04]]])"
      ]
     },
     "metadata": {},
     "execution_count": 89
    }
   ],
   "metadata": {}
  },
  {
   "cell_type": "code",
   "execution_count": 90,
   "source": [
    "torch.sum(pab * torch.log(pab / papb), dim=1)"
   ],
   "outputs": [
    {
     "output_type": "execute_result",
     "data": {
      "text/plain": [
       "tensor([[ 1.2940e-02,  5.7404e-03],\n",
       "        [-2.8049e-09,  2.0373e-09]])"
      ]
     },
     "metadata": {},
     "execution_count": 90
    }
   ],
   "metadata": {}
  },
  {
   "cell_type": "code",
   "execution_count": 91,
   "source": [
    "a = np.arange(6).reshape(3,2)\r\n",
    "a = torch.FloatTensor(a)\r\n",
    "at = a / torch.sum(a, dim=-1, keepdims=True)\r\n",
    "b = np.arange(6).reshape(3,2)\r\n",
    "b = torch.FloatTensor(b)\r\n",
    "bt = b / torch.sum(b, dim=-1, keepdims=True)\r\n",
    "print (at,bt,sep='\\n')"
   ],
   "outputs": [
    {
     "output_type": "stream",
     "name": "stdout",
     "text": [
      "tensor([[0.0000, 1.0000],\n",
      "        [0.4000, 0.6000],\n",
      "        [0.4444, 0.5556]])\n",
      "tensor([[0.0000, 1.0000],\n",
      "        [0.4000, 0.6000],\n",
      "        [0.4444, 0.5556]])\n"
     ]
    }
   ],
   "metadata": {}
  },
  {
   "cell_type": "code",
   "execution_count": 95,
   "source": [
    "pa = torch.mean(at, dim=0, keepdim=True)\r\n",
    "pb = torch.mean(bt, dim=0, keepdim=True)\r\n",
    "papb = torch.matmul(pa.permute(1,0), pb)\r\n",
    "print (pa)\r\n",
    "print (pb)\r\n",
    "print (papb)"
   ],
   "outputs": [
    {
     "output_type": "stream",
     "name": "stdout",
     "text": [
      "tensor([[0.2815, 0.7185]])\n",
      "tensor([[0.2815, 0.7185]])\n",
      "tensor([[0.0792, 0.2022],\n",
      "        [0.2022, 0.5163]])\n"
     ]
    }
   ],
   "metadata": {}
  },
  {
   "cell_type": "code",
   "execution_count": 97,
   "source": [
    "pab = torch.matmul(at.permute(1,0), bt)/3\r\n",
    "pab"
   ],
   "outputs": [
    {
     "output_type": "execute_result",
     "data": {
      "text/plain": [
       "tensor([[0.1192, 0.1623],\n",
       "        [0.1623, 0.5562]])"
      ]
     },
     "metadata": {},
     "execution_count": 97
    }
   ],
   "metadata": {}
  },
  {
   "cell_type": "code",
   "execution_count": 104,
   "source": [
    "pab * torch.log2(pab / papb)"
   ],
   "outputs": [
    {
     "output_type": "execute_result",
     "data": {
      "text/plain": [
       "tensor([[ 0.0702, -0.0515],\n",
       "        [-0.0515,  0.0598]])"
      ]
     },
     "metadata": {},
     "execution_count": 104
    }
   ],
   "metadata": {}
  },
  {
   "cell_type": "code",
   "execution_count": 102,
   "source": [
    " torch.sum(pab * torch.log2(pab / papb))"
   ],
   "outputs": [
    {
     "output_type": "execute_result",
     "data": {
      "text/plain": [
       "tensor(0.0270)"
      ]
     },
     "metadata": {},
     "execution_count": 102
    }
   ],
   "metadata": {}
  },
  {
   "cell_type": "code",
   "execution_count": 107,
   "source": [
    "hx = -torch.sum(pb*torch.log2(pb))"
   ],
   "outputs": [],
   "metadata": {}
  },
  {
   "cell_type": "code",
   "execution_count": 106,
   "source": [
    "hxy = -torch.sum(pab*torch.log2(pab))"
   ],
   "outputs": [],
   "metadata": {}
  },
  {
   "cell_type": "code",
   "execution_count": 108,
   "source": [
    "2*hx-hxy"
   ],
   "outputs": [
    {
     "output_type": "execute_result",
     "data": {
      "text/plain": [
       "tensor(0.0270)"
      ]
     },
     "metadata": {},
     "execution_count": 108
    }
   ],
   "metadata": {}
  },
  {
   "cell_type": "code",
   "execution_count": 109,
   "source": [
    "hxy"
   ],
   "outputs": [
    {
     "output_type": "execute_result",
     "data": {
      "text/plain": [
       "tensor(1.6880)"
      ]
     },
     "metadata": {},
     "execution_count": 109
    }
   ],
   "metadata": {}
  },
  {
   "cell_type": "code",
   "execution_count": 114,
   "source": [
    "hx"
   ],
   "outputs": [
    {
     "output_type": "execute_result",
     "data": {
      "text/plain": [
       "tensor(0.8575)"
      ]
     },
     "metadata": {},
     "execution_count": 114
    }
   ],
   "metadata": {}
  },
  {
   "cell_type": "code",
   "execution_count": 4,
   "source": [
    "a = np.arange(6).reshape(3,2)\r\n",
    "a = torch.FloatTensor(a)\r\n",
    "at = a / torch.sum(a, dim=-1, keepdims=True)\r\n",
    "b = np.arange(6).reshape(3,2)\r\n",
    "b = torch.FloatTensor(b)\r\n",
    "bt = b / torch.sum(b, dim=-1, keepdims=True)\r\n",
    "print (at,bt,sep='\\n')"
   ],
   "outputs": [
    {
     "output_type": "stream",
     "name": "stdout",
     "text": [
      "tensor([[0.0000, 1.0000],\n",
      "        [0.4000, 0.6000],\n",
      "        [0.4444, 0.5556]])\n",
      "tensor([[0.0000, 1.0000],\n",
      "        [0.4000, 0.6000],\n",
      "        [0.4444, 0.5556]])\n"
     ]
    }
   ],
   "metadata": {}
  },
  {
   "cell_type": "code",
   "execution_count": 5,
   "source": [
    "at"
   ],
   "outputs": [
    {
     "output_type": "execute_result",
     "data": {
      "text/plain": [
       "tensor([[0.0000, 1.0000],\n",
       "        [0.4000, 0.6000],\n",
       "        [0.4444, 0.5556]])"
      ]
     },
     "metadata": {},
     "execution_count": 5
    }
   ],
   "metadata": {}
  },
  {
   "cell_type": "code",
   "execution_count": 7,
   "source": [
    "torch.argmin(at, dim=1)"
   ],
   "outputs": [
    {
     "output_type": "execute_result",
     "data": {
      "text/plain": [
       "tensor([0, 0, 0])"
      ]
     },
     "metadata": {},
     "execution_count": 7
    }
   ],
   "metadata": {}
  },
  {
   "cell_type": "code",
   "execution_count": 31,
   "source": [
    "at = 0"
   ],
   "outputs": [],
   "metadata": {}
  },
  {
   "cell_type": "code",
   "execution_count": 32,
   "source": [
    "at[[i for i in range(3)],[0,0,0]] = 1"
   ],
   "outputs": [
    {
     "output_type": "error",
     "ename": "TypeError",
     "evalue": "'int' object does not support item assignment",
     "traceback": [
      "\u001b[1;31m---------------------------------------------------------------------------\u001b[0m",
      "\u001b[1;31mTypeError\u001b[0m                                 Traceback (most recent call last)",
      "\u001b[1;32m<ipython-input-32-43339a7c73e5>\u001b[0m in \u001b[0;36m<module>\u001b[1;34m\u001b[0m\n\u001b[1;32m----> 1\u001b[1;33m \u001b[0mat\u001b[0m\u001b[1;33m[\u001b[0m\u001b[1;33m[\u001b[0m\u001b[0mi\u001b[0m \u001b[1;32mfor\u001b[0m \u001b[0mi\u001b[0m \u001b[1;32min\u001b[0m \u001b[0mrange\u001b[0m\u001b[1;33m(\u001b[0m\u001b[1;36m3\u001b[0m\u001b[1;33m)\u001b[0m\u001b[1;33m]\u001b[0m\u001b[1;33m,\u001b[0m\u001b[1;33m[\u001b[0m\u001b[1;36m0\u001b[0m\u001b[1;33m,\u001b[0m\u001b[1;36m0\u001b[0m\u001b[1;33m,\u001b[0m\u001b[1;36m0\u001b[0m\u001b[1;33m]\u001b[0m\u001b[1;33m]\u001b[0m \u001b[1;33m=\u001b[0m \u001b[1;36m1\u001b[0m\u001b[1;33m\u001b[0m\u001b[1;33m\u001b[0m\u001b[0m\n\u001b[0m",
      "\u001b[1;31mTypeError\u001b[0m: 'int' object does not support item assignment"
     ]
    }
   ],
   "metadata": {}
  },
  {
   "cell_type": "code",
   "execution_count": 30,
   "source": [
    "at"
   ],
   "outputs": [
    {
     "output_type": "execute_result",
     "data": {
      "text/plain": [
       "tensor([[1.0000, 1.0000],\n",
       "        [1.0000, 0.6000],\n",
       "        [1.0000, 0.5556]])"
      ]
     },
     "metadata": {},
     "execution_count": 30
    }
   ],
   "metadata": {}
  },
  {
   "cell_type": "code",
   "execution_count": 33,
   "source": [
    "a = np.arange(12).reshape(2,3,2)\r\n",
    "a = torch.FloatTensor(a)\r\n",
    "at = a / torch.sum(a, dim=-1, keepdims=True)\r\n",
    "b = np.arange(12).reshape(2,3,2)\r\n",
    "b = torch.FloatTensor(b)\r\n",
    "bt = b / torch.sum(b, dim=-1, keepdims=True)\r\n",
    "print (at,bt,sep='\\n')"
   ],
   "outputs": [
    {
     "output_type": "stream",
     "name": "stdout",
     "text": [
      "tensor([[[0.0000, 1.0000],\n",
      "         [0.4000, 0.6000],\n",
      "         [0.4444, 0.5556]],\n",
      "\n",
      "        [[0.4615, 0.5385],\n",
      "         [0.4706, 0.5294],\n",
      "         [0.4762, 0.5238]]])\n",
      "tensor([[[0.0000, 1.0000],\n",
      "         [0.4000, 0.6000],\n",
      "         [0.4444, 0.5556]],\n",
      "\n",
      "        [[0.4615, 0.5385],\n",
      "         [0.4706, 0.5294],\n",
      "         [0.4762, 0.5238]]])\n"
     ]
    }
   ],
   "metadata": {}
  },
  {
   "cell_type": "code",
   "execution_count": 44,
   "source": [
    "a"
   ],
   "outputs": [
    {
     "output_type": "execute_result",
     "data": {
      "text/plain": [
       "tensor([[0, 0, 0],\n",
       "        [0, 0, 0]])"
      ]
     },
     "metadata": {},
     "execution_count": 44
    }
   ],
   "metadata": {}
  },
  {
   "cell_type": "code",
   "execution_count": 45,
   "source": [
    "emp = torch.zeros_like(at)\r\n",
    "emp"
   ],
   "outputs": [
    {
     "output_type": "execute_result",
     "data": {
      "text/plain": [
       "tensor([[[0., 0.],\n",
       "         [0., 0.],\n",
       "         [0., 0.]],\n",
       "\n",
       "        [[0., 0.],\n",
       "         [0., 0.],\n",
       "         [0., 0.]]])"
      ]
     },
     "metadata": {},
     "execution_count": 45
    }
   ],
   "metadata": {}
  },
  {
   "cell_type": "code",
   "execution_count": 48,
   "source": [
    "emp[[0,0]]"
   ],
   "outputs": [
    {
     "output_type": "execute_result",
     "data": {
      "text/plain": [
       "tensor([[[0., 0.],\n",
       "         [0., 0.],\n",
       "         [0., 0.]],\n",
       "\n",
       "        [[0., 0.],\n",
       "         [0., 0.],\n",
       "         [0., 0.]]])"
      ]
     },
     "metadata": {},
     "execution_count": 48
    }
   ],
   "metadata": {}
  },
  {
   "cell_type": "code",
   "execution_count": 41,
   "source": [
    "torch.max(at,dim=2)"
   ],
   "outputs": [
    {
     "output_type": "execute_result",
     "data": {
      "text/plain": [
       "torch.return_types.max(\n",
       "values=tensor([[1.0000, 0.6000, 0.5556],\n",
       "        [0.5385, 0.5294, 0.5238]]),\n",
       "indices=tensor([[1, 1, 1],\n",
       "        [1, 1, 1]]))"
      ]
     },
     "metadata": {},
     "execution_count": 41
    }
   ],
   "metadata": {}
  },
  {
   "cell_type": "code",
   "execution_count": null,
   "source": [],
   "outputs": [],
   "metadata": {}
  }
 ],
 "metadata": {
  "orig_nbformat": 4,
  "language_info": {
   "name": "python",
   "version": "3.8.10",
   "mimetype": "text/x-python",
   "codemirror_mode": {
    "name": "ipython",
    "version": 3
   },
   "pygments_lexer": "ipython3",
   "nbconvert_exporter": "python",
   "file_extension": ".py"
  },
  "kernelspec": {
   "name": "python3",
   "display_name": "Python 3.8.10 64-bit ('torch': conda)"
  },
  "interpreter": {
   "hash": "acce06b49c94f1480d6840cdb9b2e7c4d2e90f84d9ec42d5eadc9fe035ca1697"
  }
 },
 "nbformat": 4,
 "nbformat_minor": 2
}