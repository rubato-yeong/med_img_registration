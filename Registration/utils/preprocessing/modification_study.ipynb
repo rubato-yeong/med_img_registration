{
 "cells": [
  {
   "cell_type": "markdown",
   "source": [
    "# Modification Study"
   ],
   "metadata": {}
  },
  {
   "cell_type": "markdown",
   "source": [
    "## 0. Setup"
   ],
   "metadata": {}
  },
  {
   "cell_type": "code",
   "execution_count": 3,
   "source": [
    "import os, sys\r\n",
    "from tqdm.notebook import tqdm\r\n",
    "import time\r\n",
    "import numpy as np\r\n",
    "import pandas as pd\r\n",
    "import matplotlib.pyplot as plt\r\n",
    "import seaborn as sns"
   ],
   "outputs": [],
   "metadata": {}
  },
  {
   "cell_type": "code",
   "execution_count": 4,
   "source": [
    "DIR_PATH = 'F:/20210730_samples'\r\n",
    "SAVE_PATH = os.path.join(DIR_PATH, 'numpy')\r\n",
    "CT_PATH = os.path.join(SAVE_PATH, 'CT_target')\r\n",
    "PT_PATH = os.path.join(SAVE_PATH, 'PT_resize')"
   ],
   "outputs": [],
   "metadata": {}
  },
  {
   "cell_type": "markdown",
   "source": [
    "## 1. Voxel Analysis"
   ],
   "metadata": {}
  },
  {
   "cell_type": "code",
   "execution_count": 5,
   "source": [
    "# Voxel Loading...\r\n",
    "\r\n",
    "CT_list = os.listdir(CT_PATH)\r\n",
    "PT_list = os.listdir(PT_PATH)\r\n",
    "\r\n",
    "sample_num = len(os.listdir(CT_PATH)) # extract sample #\r\n",
    "vol_shape = np.load(os.path.join(CT_PATH, CT_list[0])).shape # extract data shape\r\n",
    "CT_voxel = np.zeros([sample_num, *vol_shape])\r\n",
    "PT_voxel = np.zeros([sample_num, *vol_shape])\r\n",
    "\r\n",
    "for i in range(sample_num):\r\n",
    "    CT_voxel[i] = np.load(os.path.join(CT_PATH, CT_list[i]))\r\n",
    "    PT_voxel[i] = np.load(os.path.join(PT_PATH, PT_list[i]))"
   ],
   "outputs": [],
   "metadata": {}
  },
  {
   "cell_type": "code",
   "execution_count": 61,
   "source": [
    "plt.hist(PT_voxel[6, 64].reshape(-1), bins=50)\r\n",
    "plt.xlim(0, 1)\r\n",
    "plt.ylim(0, 10)\r\n",
    "plt.show()"
   ],
   "outputs": [
    {
     "output_type": "display_data",
     "data": {
      "text/plain": [
       "<Figure size 432x288 with 1 Axes>"
      ],
      "image/png": "[encoded data removed]"
     },
     "metadata": {
      "needs_background": "light"
     }
    }
   ],
   "metadata": {}
  },
  {
   "cell_type": "code",
   "execution_count": 51,
   "source": [
    "PT_voxel.shape"
   ],
   "outputs": [
    {
     "output_type": "execute_result",
     "data": {
      "text/plain": [
       "(16, 128, 128, 256)"
      ]
     },
     "metadata": {},
     "execution_count": 51
    }
   ],
   "metadata": {}
  },
  {
   "cell_type": "code",
   "execution_count": null,
   "source": [],
   "outputs": [],
   "metadata": {}
  }
 ],
 "metadata": {
  "orig_nbformat": 4,
  "language_info": {
   "name": "python",
   "version": "3.7.10",
   "mimetype": "text/x-python",
   "codemirror_mode": {
    "name": "ipython",
    "version": 3
   },
   "pygments_lexer": "ipython3",
   "nbconvert_exporter": "python",
   "file_extension": ".py"
  },
  "kernelspec": {
   "name": "python3",
   "display_name": "Python 3.7.10 64-bit ('voxelmorph': conda)"
  },
  "interpreter": {
   "hash": "60fb9bdc6b32a1c624fbd48d4665ec4cc805be64c2934a451dbe13d3d7951066"
  }
 },
 "nbformat": 4,
 "nbformat_minor": 2
}