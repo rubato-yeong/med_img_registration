{
 "metadata": {
  "language_info": {
   "codemirror_mode": {
    "name": "ipython",
    "version": 3
   },
   "file_extension": ".py",
   "mimetype": "text/x-python",
   "name": "python",
   "nbconvert_exporter": "python",
   "pygments_lexer": "ipython3",
   "version": "3.7.10"
  },
  "orig_nbformat": 4,
  "kernelspec": {
   "name": "python3",
   "display_name": "Python 3.7.10 64-bit ('tensorflow': conda)"
  },
  "interpreter": {
   "hash": "ab74d10811af00d8f488d006584039496baf986123e43226977dad875fa15257"
  }
 },
 "nbformat": 4,
 "nbformat_minor": 2,
 "cells": [
  {
   "source": [
    "# III. Training (VoxelMorph)\n",
    "## Contents\n",
    "0. Import / Setup\n",
    "1. Data Preparation\n",
    "2. MSE Model Training\n",
    "3. NCC Model Training"
   ],
   "cell_type": "markdown",
   "metadata": {}
  },
  {
   "source": [
    "## * Run on [Google Colab](https://colab.research.google.com/drive/1hYXuu2UI_MlOyyz7ipH-5ckRfgQBHWdm?usp=sharing)"
   ],
   "cell_type": "markdown",
   "metadata": {}
  },
  {
   "cell_type": "code",
   "execution_count": null,
   "metadata": {},
   "outputs": [],
   "source": []
  }
 ]
}