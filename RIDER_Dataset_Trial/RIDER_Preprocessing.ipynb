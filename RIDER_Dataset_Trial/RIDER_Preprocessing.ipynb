{
 "metadata": {
  "language_info": {
   "codemirror_mode": {
    "name": "ipython",
    "version": 3
   },
   "file_extension": ".py",
   "mimetype": "text/x-python",
   "name": "python",
   "nbconvert_exporter": "python",
   "pygments_lexer": "ipython3",
   "version": "3.7.10"
  },
  "orig_nbformat": 4,
  "kernelspec": {
   "name": "python3",
   "display_name": "Python 3.7.10 64-bit ('tensorflow': conda)"
  },
  "interpreter": {
   "hash": "ab74d10811af00d8f488d006584039496baf986123e43226977dad875fa15257"
  }
 },
 "nbformat": 4,
 "nbformat_minor": 2,
 "cells": [
  {
   "source": [
    "# PET-CT Registration Practice"
   ],
   "cell_type": "markdown",
   "metadata": {}
  },
  {
   "source": [
    "## Purpose of This Practice\n",
    "- Study **dicom** Medical Image Files.\n",
    "- Experience real **PET-CT** dataset.\n",
    "\n",
    "### RIDER Lung PET-CT Dataset\n",
    "##### Reference : https://wiki.cancerimagingarchive.net/display/Public/RIDER+Lung+PET-CT#225127500af19c1c2e444b1abb1cc196e52abae6"
   ],
   "cell_type": "markdown",
   "metadata": {}
  },
  {
   "source": [
    "# I. Data Preprocessing\n",
    "## Contents\n",
    "0. Import / Setup\n",
    "1. PET-CT Metadata Preprocessing\n",
    "2. Data Selection\n",
    "3. Voxel Generation"
   ],
   "cell_type": "markdown",
   "metadata": {}
  },
  {
   "source": [
    "## 0. Import / Setup"
   ],
   "cell_type": "markdown",
   "metadata": {}
  },
  {
   "cell_type": "code",
   "execution_count": 1,
   "metadata": {},
   "outputs": [],
   "source": [
    "import os, sys\n",
    "import shutil\n",
    "import math\n",
    "from tqdm.notebook import tqdm\n",
    "import time\n",
    "from glob import glob\n",
    "import numpy as np\n",
    "import pandas as pd\n",
    "import matplotlib.pyplot as plt\n",
    "import seaborn as sns\n",
    "import pydicom"
   ]
  },
  {
   "cell_type": "code",
   "execution_count": 2,
   "metadata": {},
   "outputs": [
    {
     "output_type": "stream",
     "name": "stdout",
     "text": [
      "D:\\manifest-TWT4rfni3436550357686601184\n"
     ]
    }
   ],
   "source": [
    "# PATH Setting\n",
    "DISK_PATH = 'D:\\\\'\n",
    "META_PATH = 'manifest-TWT4rfni3436550357686601184'\n",
    "DIR_PATH = os.path.join(DISK_PATH, META_PATH)\n",
    "print (DIR_PATH)"
   ]
  },
  {
   "source": [
    "## 1. PET-CT Metadata Preprocessing"
   ],
   "cell_type": "markdown",
   "metadata": {}
  },
  {
   "source": [
    "### 1) Data Loading"
   ],
   "cell_type": "markdown",
   "metadata": {}
  },
  {
   "cell_type": "code",
   "execution_count": 148,
   "metadata": {},
   "outputs": [
    {
     "output_type": "execute_result",
     "data": {
      "text/plain": [
       "                                             Series UID         Collection  \\\n",
       "0     1.3.6.1.4.1.9328.50.17.21539635004042802696358...  RIDER Lung PET-CT   \n",
       "1     1.3.6.1.4.1.9328.50.17.24674249575175155363249...  RIDER Lung PET-CT   \n",
       "2     1.3.6.1.4.1.9328.50.17.14298831690972470748724...  RIDER Lung PET-CT   \n",
       "3     1.3.6.1.4.1.9328.50.17.33448411630762243528802...  RIDER Lung PET-CT   \n",
       "4     1.3.6.1.4.1.9328.50.17.13157237625811298431135...  RIDER Lung PET-CT   \n",
       "...                                                 ...                ...   \n",
       "1323  1.3.6.1.4.1.9328.50.17.29526182708906873966519...  RIDER Lung PET-CT   \n",
       "1324  1.3.6.1.4.1.9328.50.17.27647997212178938595947...  RIDER Lung PET-CT   \n",
       "1325  1.3.6.1.4.1.9328.50.17.29196707572056236162490...  RIDER Lung PET-CT   \n",
       "1326  1.3.6.1.4.1.9328.50.17.10888495592818845871887...  RIDER Lung PET-CT   \n",
       "1327  1.3.6.1.4.1.9328.50.17.29822011685214407434477...  RIDER Lung PET-CT   \n",
       "\n",
       "      3rd Party Analysis                           Data Description URI  \\\n",
       "0                    NaN  https://doi.org/10.7937/K9/TCIA.2015.OFIP7TVM   \n",
       "1                    NaN  https://doi.org/10.7937/K9/TCIA.2015.OFIP7TVM   \n",
       "2                    NaN  https://doi.org/10.7937/K9/TCIA.2015.OFIP7TVM   \n",
       "3                    NaN  https://doi.org/10.7937/K9/TCIA.2015.OFIP7TVM   \n",
       "4                    NaN  https://doi.org/10.7937/K9/TCIA.2015.OFIP7TVM   \n",
       "...                  ...                                            ...   \n",
       "1323                 NaN  https://doi.org/10.7937/K9/TCIA.2015.OFIP7TVM   \n",
       "1324                 NaN  https://doi.org/10.7937/K9/TCIA.2015.OFIP7TVM   \n",
       "1325                 NaN  https://doi.org/10.7937/K9/TCIA.2015.OFIP7TVM   \n",
       "1326                 NaN  https://doi.org/10.7937/K9/TCIA.2015.OFIP7TVM   \n",
       "1327                 NaN  https://doi.org/10.7937/K9/TCIA.2015.OFIP7TVM   \n",
       "\n",
       "            Subject ID                                          Study UID  \\\n",
       "0     RIDER-1002189179  1.3.6.1.4.1.9328.50.17.74928344181377977351227...   \n",
       "1     RIDER-1002189179  1.3.6.1.4.1.9328.50.17.74928344181377977351227...   \n",
       "2     RIDER-1002189179  1.3.6.1.4.1.9328.50.17.74928344181377977351227...   \n",
       "3     RIDER-1002189179  1.3.6.1.4.1.9328.50.17.74928344181377977351227...   \n",
       "4     RIDER-1006487867  1.3.6.1.4.1.9328.50.17.10616571986483711586653...   \n",
       "...                ...                                                ...   \n",
       "1323  RIDER-9640765801  1.3.6.1.4.1.9328.50.17.11844132793672058035829...   \n",
       "1324  RIDER-9640765801  1.3.6.1.4.1.9328.50.17.11844132793672058035829...   \n",
       "1325  RIDER-9640765801  1.3.6.1.4.1.9328.50.17.11844132793672058035829...   \n",
       "1326  RIDER-9640765801  1.3.6.1.4.1.9328.50.17.11844132793672058035829...   \n",
       "1327  RIDER-9640765801  1.3.6.1.4.1.9328.50.17.11844132793672058035829...   \n",
       "\n",
       "     Study Description  Study Date               Series Description  \\\n",
       "0                  NaN  05-07-2006                    CT 2.5mm cb03   \n",
       "1                  NaN  05-07-2006                  3D FBP H10 cb03   \n",
       "2                  NaN  05-07-2006  5min 3D OSEM 8it28sub 10MM cb03   \n",
       "3                  NaN  05-07-2006   5min 3D OSEM 8it28sub 7MM cb03   \n",
       "4       Unspecified CT  06-29-2006                              NaN   \n",
       "...                ...         ...                              ...   \n",
       "1323   FDG 6AFOV TORSO  02-02-2006                 CT SCOUT HEAD IN   \n",
       "1324   FDG 6AFOV TORSO  02-02-2006                       AC for PET   \n",
       "1325   FDG 6AFOV TORSO  02-02-2006           70CM FOV 3.27MM CT STD   \n",
       "1326   FDG 6AFOV TORSO  02-02-2006                      PET FDG SUV   \n",
       "1327   FDG 6AFOV TORSO  02-02-2006                      PET FDG NAC   \n",
       "\n",
       "            Manufacturer Modality                              SOP Class Name  \\\n",
       "0     GE MEDICAL SYSTEMS       CT                            CT Image Storage   \n",
       "1     GE MEDICAL SYSTEMS       PT  Positron Emission Tomography Image Storage   \n",
       "2     GE MEDICAL SYSTEMS       PT  Positron Emission Tomography Image Storage   \n",
       "3     GE MEDICAL SYSTEMS       PT  Positron Emission Tomography Image Storage   \n",
       "4     GE MEDICAL SYSTEMS       CT                            CT Image Storage   \n",
       "...                  ...      ...                                         ...   \n",
       "1323  GE MEDICAL SYSTEMS       CT                            CT Image Storage   \n",
       "1324  GE MEDICAL SYSTEMS       CT                            CT Image Storage   \n",
       "1325  GE MEDICAL SYSTEMS       CT                            CT Image Storage   \n",
       "1326  GE MEDICAL SYSTEMS       PT  Positron Emission Tomography Image Storage   \n",
       "1327  GE MEDICAL SYSTEMS       PT  Positron Emission Tomography Image Storage   \n",
       "\n",
       "                    SOP Class UID  Number of Images  File Size  \\\n",
       "0       1.2.840.10008.5.1.4.1.1.2                64   32.12 MB   \n",
       "1     1.2.840.10008.5.1.4.1.1.128                47    1.59 MB   \n",
       "2     1.2.840.10008.5.1.4.1.1.128                47    1.59 MB   \n",
       "3     1.2.840.10008.5.1.4.1.1.128                47    1.59 MB   \n",
       "4       1.2.840.10008.5.1.4.1.1.2                 2    4.35 MB   \n",
       "...                           ...               ...        ...   \n",
       "1323    1.2.840.10008.5.1.4.1.1.2                 2    4.97 MB   \n",
       "1324    1.2.840.10008.5.1.4.1.1.2               429  215.30 MB   \n",
       "1325    1.2.840.10008.5.1.4.1.1.2               739  370.88 MB   \n",
       "1326  1.2.840.10008.5.1.4.1.1.128               267    9.08 MB   \n",
       "1327  1.2.840.10008.5.1.4.1.1.128               267    9.07 MB   \n",
       "\n",
       "                                          File Location  \\\n",
       "0     .\\RIDER Lung PET-CT\\RIDER-1002189179\\05-07-200...   \n",
       "1     .\\RIDER Lung PET-CT\\RIDER-1002189179\\05-07-200...   \n",
       "2     .\\RIDER Lung PET-CT\\RIDER-1002189179\\05-07-200...   \n",
       "3     .\\RIDER Lung PET-CT\\RIDER-1002189179\\05-07-200...   \n",
       "4     .\\RIDER Lung PET-CT\\RIDER-1006487867\\06-29-200...   \n",
       "...                                                 ...   \n",
       "1323  .\\RIDER Lung PET-CT\\RIDER-9640765801\\02-02-200...   \n",
       "1324  .\\RIDER Lung PET-CT\\RIDER-9640765801\\02-02-200...   \n",
       "1325  .\\RIDER Lung PET-CT\\RIDER-9640765801\\02-02-200...   \n",
       "1326  .\\RIDER Lung PET-CT\\RIDER-9640765801\\02-02-200...   \n",
       "1327  .\\RIDER Lung PET-CT\\RIDER-9640765801\\02-02-200...   \n",
       "\n",
       "           Download Timestamp  \n",
       "0     2021-07-07T21:33:13.717  \n",
       "1     2021-07-07T21:31:39.064  \n",
       "2     2021-07-07T21:31:39.064  \n",
       "3     2021-07-07T21:31:45.154  \n",
       "4     2021-07-07T21:31:52.929  \n",
       "...                       ...  \n",
       "1323  2021-07-08T19:43:11.042  \n",
       "1324  2021-07-08T19:45:15.912  \n",
       "1325   2021-07-08T19:56:04.11  \n",
       "1326  2021-07-08T19:34:45.372  \n",
       "1327  2021-07-08T19:43:41.948  \n",
       "\n",
       "[1328 rows x 17 columns]"
      ],
      "text/html": "<div>\n<style scoped>\n    .dataframe tbody tr th:only-of-type {\n        vertical-align: middle;\n    }\n\n    .dataframe tbody tr th {\n        vertical-align: top;\n    }\n\n    .dataframe thead th {\n        text-align: right;\n    }\n</style>\n<table border=\"1\" class=\"dataframe\">\n  <thead>\n    <tr style=\"text-align: right;\">\n      <th></th>\n      <th>Series UID</th>\n      <th>Collection</th>\n      <th>3rd Party Analysis</th>\n      <th>Data Description URI</th>\n      <th>Subject ID</th>\n      <th>Study UID</th>\n      <th>Study Description</th>\n      <th>Study Date</th>\n      <th>Series Description</th>\n      <th>Manufacturer</th>\n      <th>Modality</th>\n      <th>SOP Class Name</th>\n      <th>SOP Class UID</th>\n      <th>Number of Images</th>\n      <th>File Size</th>\n      <th>File Location</th>\n      <th>Download Timestamp</th>\n    </tr>\n  </thead>\n  <tbody>\n    <tr>\n      <th>0</th>\n      <td>1.3.6.1.4.1.9328.50.17.21539635004042802696358...</td>\n      <td>RIDER Lung PET-CT</td>\n      <td>NaN</td>\n      <td>https://doi.org/10.7937/K9/TCIA.2015.OFIP7TVM</td>\n      <td>RIDER-1002189179</td>\n      <td>1.3.6.1.4.1.9328.50.17.74928344181377977351227...</td>\n      <td>NaN</td>\n      <td>05-07-2006</td>\n      <td>CT 2.5mm cb03</td>\n      <td>GE MEDICAL SYSTEMS</td>\n      <td>CT</td>\n      <td>CT Image Storage</td>\n      <td>1.2.840.10008.5.1.4.1.1.2</td>\n      <td>64</td>\n      <td>32.12 MB</td>\n      <td>.\\RIDER Lung PET-CT\\RIDER-1002189179\\05-07-200...</td>\n      <td>2021-07-07T21:33:13.717</td>\n    </tr>\n    <tr>\n      <th>1</th>\n      <td>1.3.6.1.4.1.9328.50.17.24674249575175155363249...</td>\n      <td>RIDER Lung PET-CT</td>\n      <td>NaN</td>\n      <td>https://doi.org/10.7937/K9/TCIA.2015.OFIP7TVM</td>\n      <td>RIDER-1002189179</td>\n      <td>1.3.6.1.4.1.9328.50.17.74928344181377977351227...</td>\n      <td>NaN</td>\n      <td>05-07-2006</td>\n      <td>3D FBP H10 cb03</td>\n      <td>GE MEDICAL SYSTEMS</td>\n      <td>PT</td>\n      <td>Positron Emission Tomography Image Storage</td>\n      <td>1.2.840.10008.5.1.4.1.1.128</td>\n      <td>47</td>\n      <td>1.59 MB</td>\n      <td>.\\RIDER Lung PET-CT\\RIDER-1002189179\\05-07-200...</td>\n      <td>2021-07-07T21:31:39.064</td>\n    </tr>\n    <tr>\n      <th>2</th>\n      <td>1.3.6.1.4.1.9328.50.17.14298831690972470748724...</td>\n      <td>RIDER Lung PET-CT</td>\n      <td>NaN</td>\n      <td>https://doi.org/10.7937/K9/TCIA.2015.OFIP7TVM</td>\n      <td>RIDER-1002189179</td>\n      <td>1.3.6.1.4.1.9328.50.17.74928344181377977351227...</td>\n      <td>NaN</td>\n      <td>05-07-2006</td>\n      <td>5min 3D OSEM 8it28sub 10MM cb03</td>\n      <td>GE MEDICAL SYSTEMS</td>\n      <td>PT</td>\n      <td>Positron Emission Tomography Image Storage</td>\n      <td>1.2.840.10008.5.1.4.1.1.128</td>\n      <td>47</td>\n      <td>1.59 MB</td>\n      <td>.\\RIDER Lung PET-CT\\RIDER-1002189179\\05-07-200...</td>\n      <td>2021-07-07T21:31:39.064</td>\n    </tr>\n    <tr>\n      <th>3</th>\n      <td>1.3.6.1.4.1.9328.50.17.33448411630762243528802...</td>\n      <td>RIDER Lung PET-CT</td>\n      <td>NaN</td>\n      <td>https://doi.org/10.7937/K9/TCIA.2015.OFIP7TVM</td>\n      <td>RIDER-1002189179</td>\n      <td>1.3.6.1.4.1.9328.50.17.74928344181377977351227...</td>\n      <td>NaN</td>\n      <td>05-07-2006</td>\n      <td>5min 3D OSEM 8it28sub 7MM cb03</td>\n      <td>GE MEDICAL SYSTEMS</td>\n      <td>PT</td>\n      <td>Positron Emission Tomography Image Storage</td>\n      <td>1.2.840.10008.5.1.4.1.1.128</td>\n      <td>47</td>\n      <td>1.59 MB</td>\n      <td>.\\RIDER Lung PET-CT\\RIDER-1002189179\\05-07-200...</td>\n      <td>2021-07-07T21:31:45.154</td>\n    </tr>\n    <tr>\n      <th>4</th>\n      <td>1.3.6.1.4.1.9328.50.17.13157237625811298431135...</td>\n      <td>RIDER Lung PET-CT</td>\n      <td>NaN</td>\n      <td>https://doi.org/10.7937/K9/TCIA.2015.OFIP7TVM</td>\n      <td>RIDER-1006487867</td>\n      <td>1.3.6.1.4.1.9328.50.17.10616571986483711586653...</td>\n      <td>Unspecified CT</td>\n      <td>06-29-2006</td>\n      <td>NaN</td>\n      <td>GE MEDICAL SYSTEMS</td>\n      <td>CT</td>\n      <td>CT Image Storage</td>\n      <td>1.2.840.10008.5.1.4.1.1.2</td>\n      <td>2</td>\n      <td>4.35 MB</td>\n      <td>.\\RIDER Lung PET-CT\\RIDER-1006487867\\06-29-200...</td>\n      <td>2021-07-07T21:31:52.929</td>\n    </tr>\n    <tr>\n      <th>...</th>\n      <td>...</td>\n      <td>...</td>\n      <td>...</td>\n      <td>...</td>\n      <td>...</td>\n      <td>...</td>\n      <td>...</td>\n      <td>...</td>\n      <td>...</td>\n      <td>...</td>\n      <td>...</td>\n      <td>...</td>\n      <td>...</td>\n      <td>...</td>\n      <td>...</td>\n      <td>...</td>\n      <td>...</td>\n    </tr>\n    <tr>\n      <th>1323</th>\n      <td>1.3.6.1.4.1.9328.50.17.29526182708906873966519...</td>\n      <td>RIDER Lung PET-CT</td>\n      <td>NaN</td>\n      <td>https://doi.org/10.7937/K9/TCIA.2015.OFIP7TVM</td>\n      <td>RIDER-9640765801</td>\n      <td>1.3.6.1.4.1.9328.50.17.11844132793672058035829...</td>\n      <td>FDG 6AFOV TORSO</td>\n      <td>02-02-2006</td>\n      <td>CT SCOUT HEAD IN</td>\n      <td>GE MEDICAL SYSTEMS</td>\n      <td>CT</td>\n      <td>CT Image Storage</td>\n      <td>1.2.840.10008.5.1.4.1.1.2</td>\n      <td>2</td>\n      <td>4.97 MB</td>\n      <td>.\\RIDER Lung PET-CT\\RIDER-9640765801\\02-02-200...</td>\n      <td>2021-07-08T19:43:11.042</td>\n    </tr>\n    <tr>\n      <th>1324</th>\n      <td>1.3.6.1.4.1.9328.50.17.27647997212178938595947...</td>\n      <td>RIDER Lung PET-CT</td>\n      <td>NaN</td>\n      <td>https://doi.org/10.7937/K9/TCIA.2015.OFIP7TVM</td>\n      <td>RIDER-9640765801</td>\n      <td>1.3.6.1.4.1.9328.50.17.11844132793672058035829...</td>\n      <td>FDG 6AFOV TORSO</td>\n      <td>02-02-2006</td>\n      <td>AC for PET</td>\n      <td>GE MEDICAL SYSTEMS</td>\n      <td>CT</td>\n      <td>CT Image Storage</td>\n      <td>1.2.840.10008.5.1.4.1.1.2</td>\n      <td>429</td>\n      <td>215.30 MB</td>\n      <td>.\\RIDER Lung PET-CT\\RIDER-9640765801\\02-02-200...</td>\n      <td>2021-07-08T19:45:15.912</td>\n    </tr>\n    <tr>\n      <th>1325</th>\n      <td>1.3.6.1.4.1.9328.50.17.29196707572056236162490...</td>\n      <td>RIDER Lung PET-CT</td>\n      <td>NaN</td>\n      <td>https://doi.org/10.7937/K9/TCIA.2015.OFIP7TVM</td>\n      <td>RIDER-9640765801</td>\n      <td>1.3.6.1.4.1.9328.50.17.11844132793672058035829...</td>\n      <td>FDG 6AFOV TORSO</td>\n      <td>02-02-2006</td>\n      <td>70CM FOV 3.27MM CT STD</td>\n      <td>GE MEDICAL SYSTEMS</td>\n      <td>CT</td>\n      <td>CT Image Storage</td>\n      <td>1.2.840.10008.5.1.4.1.1.2</td>\n      <td>739</td>\n      <td>370.88 MB</td>\n      <td>.\\RIDER Lung PET-CT\\RIDER-9640765801\\02-02-200...</td>\n      <td>2021-07-08T19:56:04.11</td>\n    </tr>\n    <tr>\n      <th>1326</th>\n      <td>1.3.6.1.4.1.9328.50.17.10888495592818845871887...</td>\n      <td>RIDER Lung PET-CT</td>\n      <td>NaN</td>\n      <td>https://doi.org/10.7937/K9/TCIA.2015.OFIP7TVM</td>\n      <td>RIDER-9640765801</td>\n      <td>1.3.6.1.4.1.9328.50.17.11844132793672058035829...</td>\n      <td>FDG 6AFOV TORSO</td>\n      <td>02-02-2006</td>\n      <td>PET FDG SUV</td>\n      <td>GE MEDICAL SYSTEMS</td>\n      <td>PT</td>\n      <td>Positron Emission Tomography Image Storage</td>\n      <td>1.2.840.10008.5.1.4.1.1.128</td>\n      <td>267</td>\n      <td>9.08 MB</td>\n      <td>.\\RIDER Lung PET-CT\\RIDER-9640765801\\02-02-200...</td>\n      <td>2021-07-08T19:34:45.372</td>\n    </tr>\n    <tr>\n      <th>1327</th>\n      <td>1.3.6.1.4.1.9328.50.17.29822011685214407434477...</td>\n      <td>RIDER Lung PET-CT</td>\n      <td>NaN</td>\n      <td>https://doi.org/10.7937/K9/TCIA.2015.OFIP7TVM</td>\n      <td>RIDER-9640765801</td>\n      <td>1.3.6.1.4.1.9328.50.17.11844132793672058035829...</td>\n      <td>FDG 6AFOV TORSO</td>\n      <td>02-02-2006</td>\n      <td>PET FDG NAC</td>\n      <td>GE MEDICAL SYSTEMS</td>\n      <td>PT</td>\n      <td>Positron Emission Tomography Image Storage</td>\n      <td>1.2.840.10008.5.1.4.1.1.128</td>\n      <td>267</td>\n      <td>9.07 MB</td>\n      <td>.\\RIDER Lung PET-CT\\RIDER-9640765801\\02-02-200...</td>\n      <td>2021-07-08T19:43:41.948</td>\n    </tr>\n  </tbody>\n</table>\n<p>1328 rows × 17 columns</p>\n</div>"
     },
     "metadata": {},
     "execution_count": 148
    }
   ],
   "source": [
    "metadata = pd.read_csv(DIR_PATH + '/metadata.csv')\n",
    "metadata"
   ]
  },
  {
   "cell_type": "code",
   "execution_count": 149,
   "metadata": {},
   "outputs": [],
   "source": [
    "# Sorting\n",
    "metadata = metadata.sort_values(by=['Subject ID', 'Study UID'])"
   ]
  },
  {
   "source": [
    "### 2) Check PET-CT Pair Datas"
   ],
   "cell_type": "markdown",
   "metadata": {}
  },
  {
   "cell_type": "code",
   "execution_count": 103,
   "metadata": {},
   "outputs": [],
   "source": [
    "def checkPETandCT(df):\n",
    "    output = []\n",
    "    for idx in df.groupby(['Subject ID', 'Study UID']).count()['Modality'].index:\n",
    "        value = (df[['Subject ID', 'Study UID']] == idx).values\n",
    "        grid = (value[:,0] == value[:,1]) == (value[:,0] == True)\n",
    "        mods = df.loc[grid, :]['Modality'].values\n",
    "        bools = 'CT' in mods and 'PT' in mods\n",
    "        for loc in df.loc[grid, :]['File Location']:\n",
    "            output.append(bools)\n",
    "    return output"
   ]
  },
  {
   "cell_type": "code",
   "execution_count": 105,
   "metadata": {},
   "outputs": [
    {
     "output_type": "stream",
     "name": "stdout",
     "text": [
      "1328\n"
     ]
    }
   ],
   "source": [
    "check_petct = checkPETandCT(metadata)\n",
    "print (len(check_petct))"
   ]
  },
  {
   "source": [
    "### 3) Delete Other Datas"
   ],
   "cell_type": "markdown",
   "metadata": {}
  },
  {
   "cell_type": "code",
   "execution_count": 175,
   "metadata": {},
   "outputs": [],
   "source": [
    "def delete_dir(df, check, DIR_PATH):\n",
    "    for i, bools in enumerate(check, 0):\n",
    "        if not bools:\n",
    "            ABS_PATH = DIR_PATH + df['File Location'][i][1:]\n",
    "            META_PATH = os.path.join(ABS_PATH, os.pardir)\n",
    "            try:\n",
    "                shutil.rmtree(ABS_PATH)\n",
    "            except: pass\n",
    "            try: os.rmdir(META_PATH)\n",
    "            except: pass\n",
    "            try: os.rmdir(os.path.join(META_PATH, os.pardir))\n",
    "            except: pass\n",
    "    print('Delete Checked Directories Clearly.')"
   ]
  },
  {
   "cell_type": "code",
   "execution_count": 176,
   "metadata": {},
   "outputs": [
    {
     "output_type": "stream",
     "name": "stdout",
     "text": [
      "Delete Checked Directories Clearly.\n"
     ]
    }
   ],
   "source": [
    "delete_dir(metadata, check_petct, DIR_PATH)"
   ]
  },
  {
   "source": [
    "### 4) Save Preprocessed Metadata"
   ],
   "cell_type": "markdown",
   "metadata": {}
  },
  {
   "cell_type": "code",
   "execution_count": 211,
   "metadata": {},
   "outputs": [],
   "source": [
    "new_metadata = metadata[check_petct]\n",
    "new_metadata.to_csv(DIR_PATH + '/new_metadata.csv', na_rep='null')"
   ]
  },
  {
   "cell_type": "code",
   "execution_count": 218,
   "metadata": {},
   "outputs": [
    {
     "output_type": "stream",
     "name": "stdout",
     "text": [
      "Patient Number\nMetadata: 93\nFolder  : 93\n\nSeries Number\nMetadata: 828\nFolder  : 828\n"
     ]
    }
   ],
   "source": [
    "# Validation\n",
    "def count_folder(DIR_PATH):\n",
    "    count = 0\n",
    "    for PATH_1 in os.listdir(DIR_PATH + '/RIDER Lung PET-CT')[1:]:\n",
    "        for PATH_2 in os.listdir(DIR_PATH + '/RIDER Lung PET-CT/'+ PATH_1):\n",
    "            count += len(os.listdir(DIR_PATH + '/RIDER Lung PET-CT/'+ PATH_1+'/'+PATH_2))\n",
    "    return count\n",
    "\n",
    "print (\"Patient Number\")\n",
    "print (\"Metadata:\", len(new_metadata.groupby(['Subject ID']).size().index))\n",
    "print (\"Folder  :\", len(os.listdir(DIR_PATH + '/RIDER Lung PET-CT'))-1)\n",
    "print (\"\")\n",
    "print (\"Series Number\")\n",
    "print (\"Metadata:\", len(new_metadata))\n",
    "print (\"Folder  :\", count_folder(DIR_PATH))"
   ]
  },
  {
   "source": [
    "## 2. Data Selection"
   ],
   "cell_type": "markdown",
   "metadata": {}
  },
  {
   "source": [
    "### 1) Delete Strange Data\n",
    "#### Procedure\n",
    "1. Make dataframe with possible cases.\n",
    "2. Check data with 3D Slicer Program.\n",
    "3. Delete strange datas."
   ],
   "cell_type": "markdown",
   "metadata": {}
  },
  {
   "cell_type": "code",
   "execution_count": 9,
   "metadata": {},
   "outputs": [],
   "source": [
    "# Load new_metadata if needed\n",
    "new_metadata = pd.read_csv(DIR_PATH + '/new_metadata.csv', index_col=0)"
   ]
  },
  {
   "cell_type": "code",
   "execution_count": 263,
   "metadata": {},
   "outputs": [
    {
     "output_type": "execute_result",
     "data": {
      "text/plain": [
       "     index                                         Series UID  \\\n",
       "0        0  1.3.6.1.4.1.9328.50.17.21539635004042802696358...   \n",
       "1        1  1.3.6.1.4.1.9328.50.17.24674249575175155363249...   \n",
       "2        2  1.3.6.1.4.1.9328.50.17.14298831690972470748724...   \n",
       "3        3  1.3.6.1.4.1.9328.50.17.33448411630762243528802...   \n",
       "4       10  1.3.6.1.4.1.9328.50.17.10979049634014230470074...   \n",
       "..     ...                                                ...   \n",
       "823   1323  1.3.6.1.4.1.9328.50.17.29526182708906873966519...   \n",
       "824   1324  1.3.6.1.4.1.9328.50.17.27647997212178938595947...   \n",
       "825   1325  1.3.6.1.4.1.9328.50.17.29196707572056236162490...   \n",
       "826   1326  1.3.6.1.4.1.9328.50.17.10888495592818845871887...   \n",
       "827   1327  1.3.6.1.4.1.9328.50.17.29822011685214407434477...   \n",
       "\n",
       "            Collection  3rd Party Analysis  \\\n",
       "0    RIDER Lung PET-CT                 NaN   \n",
       "1    RIDER Lung PET-CT                 NaN   \n",
       "2    RIDER Lung PET-CT                 NaN   \n",
       "3    RIDER Lung PET-CT                 NaN   \n",
       "4    RIDER Lung PET-CT                 NaN   \n",
       "..                 ...                 ...   \n",
       "823  RIDER Lung PET-CT                 NaN   \n",
       "824  RIDER Lung PET-CT                 NaN   \n",
       "825  RIDER Lung PET-CT                 NaN   \n",
       "826  RIDER Lung PET-CT                 NaN   \n",
       "827  RIDER Lung PET-CT                 NaN   \n",
       "\n",
       "                              Data Description URI        Subject ID  \\\n",
       "0    https://doi.org/10.7937/K9/TCIA.2015.OFIP7TVM  RIDER-1002189179   \n",
       "1    https://doi.org/10.7937/K9/TCIA.2015.OFIP7TVM  RIDER-1002189179   \n",
       "2    https://doi.org/10.7937/K9/TCIA.2015.OFIP7TVM  RIDER-1002189179   \n",
       "3    https://doi.org/10.7937/K9/TCIA.2015.OFIP7TVM  RIDER-1002189179   \n",
       "4    https://doi.org/10.7937/K9/TCIA.2015.OFIP7TVM  RIDER-1009463841   \n",
       "..                                             ...               ...   \n",
       "823  https://doi.org/10.7937/K9/TCIA.2015.OFIP7TVM  RIDER-9640765801   \n",
       "824  https://doi.org/10.7937/K9/TCIA.2015.OFIP7TVM  RIDER-9640765801   \n",
       "825  https://doi.org/10.7937/K9/TCIA.2015.OFIP7TVM  RIDER-9640765801   \n",
       "826  https://doi.org/10.7937/K9/TCIA.2015.OFIP7TVM  RIDER-9640765801   \n",
       "827  https://doi.org/10.7937/K9/TCIA.2015.OFIP7TVM  RIDER-9640765801   \n",
       "\n",
       "                                             Study UID Study Description  \\\n",
       "0    1.3.6.1.4.1.9328.50.17.74928344181377977351227...               NaN   \n",
       "1    1.3.6.1.4.1.9328.50.17.74928344181377977351227...               NaN   \n",
       "2    1.3.6.1.4.1.9328.50.17.74928344181377977351227...               NaN   \n",
       "3    1.3.6.1.4.1.9328.50.17.74928344181377977351227...               NaN   \n",
       "4    1.3.6.1.4.1.9328.50.17.17116950301501248436577...               NaN   \n",
       "..                                                 ...               ...   \n",
       "823  1.3.6.1.4.1.9328.50.17.11844132793672058035829...   FDG 6AFOV TORSO   \n",
       "824  1.3.6.1.4.1.9328.50.17.11844132793672058035829...   FDG 6AFOV TORSO   \n",
       "825  1.3.6.1.4.1.9328.50.17.11844132793672058035829...   FDG 6AFOV TORSO   \n",
       "826  1.3.6.1.4.1.9328.50.17.11844132793672058035829...   FDG 6AFOV TORSO   \n",
       "827  1.3.6.1.4.1.9328.50.17.11844132793672058035829...   FDG 6AFOV TORSO   \n",
       "\n",
       "     Study Date               Series Description        Manufacturer Modality  \\\n",
       "0    05-07-2006                    CT 2.5mm cb03  GE MEDICAL SYSTEMS       CT   \n",
       "1    05-07-2006                  3D FBP H10 cb03  GE MEDICAL SYSTEMS       PT   \n",
       "2    05-07-2006  5min 3D OSEM 8it28sub 10MM cb03  GE MEDICAL SYSTEMS       PT   \n",
       "3    05-07-2006   5min 3D OSEM 8it28sub 7MM cb03  GE MEDICAL SYSTEMS       PT   \n",
       "4    05-07-2006                    CT 2.5mm cb02  GE MEDICAL SYSTEMS       CT   \n",
       "..          ...                              ...                 ...      ...   \n",
       "823  02-02-2006                 CT SCOUT HEAD IN  GE MEDICAL SYSTEMS       CT   \n",
       "824  02-02-2006                       AC for PET  GE MEDICAL SYSTEMS       CT   \n",
       "825  02-02-2006           70CM FOV 3.27MM CT STD  GE MEDICAL SYSTEMS       CT   \n",
       "826  02-02-2006                      PET FDG SUV  GE MEDICAL SYSTEMS       PT   \n",
       "827  02-02-2006                      PET FDG NAC  GE MEDICAL SYSTEMS       PT   \n",
       "\n",
       "                                 SOP Class Name                SOP Class UID  \\\n",
       "0                              CT Image Storage    1.2.840.10008.5.1.4.1.1.2   \n",
       "1    Positron Emission Tomography Image Storage  1.2.840.10008.5.1.4.1.1.128   \n",
       "2    Positron Emission Tomography Image Storage  1.2.840.10008.5.1.4.1.1.128   \n",
       "3    Positron Emission Tomography Image Storage  1.2.840.10008.5.1.4.1.1.128   \n",
       "4                              CT Image Storage    1.2.840.10008.5.1.4.1.1.2   \n",
       "..                                          ...                          ...   \n",
       "823                            CT Image Storage    1.2.840.10008.5.1.4.1.1.2   \n",
       "824                            CT Image Storage    1.2.840.10008.5.1.4.1.1.2   \n",
       "825                            CT Image Storage    1.2.840.10008.5.1.4.1.1.2   \n",
       "826  Positron Emission Tomography Image Storage  1.2.840.10008.5.1.4.1.1.128   \n",
       "827  Positron Emission Tomography Image Storage  1.2.840.10008.5.1.4.1.1.128   \n",
       "\n",
       "     Number of Images  File Size  \\\n",
       "0                  64   32.12 MB   \n",
       "1                  47    1.59 MB   \n",
       "2                  47    1.59 MB   \n",
       "3                  47    1.59 MB   \n",
       "4                  65   32.62 MB   \n",
       "..                ...        ...   \n",
       "823                 2    4.97 MB   \n",
       "824               429  215.30 MB   \n",
       "825               739  370.88 MB   \n",
       "826               267    9.08 MB   \n",
       "827               267    9.07 MB   \n",
       "\n",
       "                                         File Location  \\\n",
       "0    .\\RIDER Lung PET-CT\\RIDER-1002189179\\05-07-200...   \n",
       "1    .\\RIDER Lung PET-CT\\RIDER-1002189179\\05-07-200...   \n",
       "2    .\\RIDER Lung PET-CT\\RIDER-1002189179\\05-07-200...   \n",
       "3    .\\RIDER Lung PET-CT\\RIDER-1002189179\\05-07-200...   \n",
       "4    .\\RIDER Lung PET-CT\\RIDER-1009463841\\05-07-200...   \n",
       "..                                                 ...   \n",
       "823  .\\RIDER Lung PET-CT\\RIDER-9640765801\\02-02-200...   \n",
       "824  .\\RIDER Lung PET-CT\\RIDER-9640765801\\02-02-200...   \n",
       "825  .\\RIDER Lung PET-CT\\RIDER-9640765801\\02-02-200...   \n",
       "826  .\\RIDER Lung PET-CT\\RIDER-9640765801\\02-02-200...   \n",
       "827  .\\RIDER Lung PET-CT\\RIDER-9640765801\\02-02-200...   \n",
       "\n",
       "          Download Timestamp  \n",
       "0    2021-07-07T21:33:13.717  \n",
       "1    2021-07-07T21:31:39.064  \n",
       "2    2021-07-07T21:31:39.064  \n",
       "3    2021-07-07T21:31:45.154  \n",
       "4     2021-07-07T21:40:08.64  \n",
       "..                       ...  \n",
       "823  2021-07-08T19:43:11.042  \n",
       "824  2021-07-08T19:45:15.912  \n",
       "825   2021-07-08T19:56:04.11  \n",
       "826  2021-07-08T19:34:45.372  \n",
       "827  2021-07-08T19:43:41.948  \n",
       "\n",
       "[828 rows x 18 columns]"
      ],
      "text/html": "<div>\n<style scoped>\n    .dataframe tbody tr th:only-of-type {\n        vertical-align: middle;\n    }\n\n    .dataframe tbody tr th {\n        vertical-align: top;\n    }\n\n    .dataframe thead th {\n        text-align: right;\n    }\n</style>\n<table border=\"1\" class=\"dataframe\">\n  <thead>\n    <tr style=\"text-align: right;\">\n      <th></th>\n      <th>index</th>\n      <th>Series UID</th>\n      <th>Collection</th>\n      <th>3rd Party Analysis</th>\n      <th>Data Description URI</th>\n      <th>Subject ID</th>\n      <th>Study UID</th>\n      <th>Study Description</th>\n      <th>Study Date</th>\n      <th>Series Description</th>\n      <th>Manufacturer</th>\n      <th>Modality</th>\n      <th>SOP Class Name</th>\n      <th>SOP Class UID</th>\n      <th>Number of Images</th>\n      <th>File Size</th>\n      <th>File Location</th>\n      <th>Download Timestamp</th>\n    </tr>\n  </thead>\n  <tbody>\n    <tr>\n      <th>0</th>\n      <td>0</td>\n      <td>1.3.6.1.4.1.9328.50.17.21539635004042802696358...</td>\n      <td>RIDER Lung PET-CT</td>\n      <td>NaN</td>\n      <td>https://doi.org/10.7937/K9/TCIA.2015.OFIP7TVM</td>\n      <td>RIDER-1002189179</td>\n      <td>1.3.6.1.4.1.9328.50.17.74928344181377977351227...</td>\n      <td>NaN</td>\n      <td>05-07-2006</td>\n      <td>CT 2.5mm cb03</td>\n      <td>GE MEDICAL SYSTEMS</td>\n      <td>CT</td>\n      <td>CT Image Storage</td>\n      <td>1.2.840.10008.5.1.4.1.1.2</td>\n      <td>64</td>\n      <td>32.12 MB</td>\n      <td>.\\RIDER Lung PET-CT\\RIDER-1002189179\\05-07-200...</td>\n      <td>2021-07-07T21:33:13.717</td>\n    </tr>\n    <tr>\n      <th>1</th>\n      <td>1</td>\n      <td>1.3.6.1.4.1.9328.50.17.24674249575175155363249...</td>\n      <td>RIDER Lung PET-CT</td>\n      <td>NaN</td>\n      <td>https://doi.org/10.7937/K9/TCIA.2015.OFIP7TVM</td>\n      <td>RIDER-1002189179</td>\n      <td>1.3.6.1.4.1.9328.50.17.74928344181377977351227...</td>\n      <td>NaN</td>\n      <td>05-07-2006</td>\n      <td>3D FBP H10 cb03</td>\n      <td>GE MEDICAL SYSTEMS</td>\n      <td>PT</td>\n      <td>Positron Emission Tomography Image Storage</td>\n      <td>1.2.840.10008.5.1.4.1.1.128</td>\n      <td>47</td>\n      <td>1.59 MB</td>\n      <td>.\\RIDER Lung PET-CT\\RIDER-1002189179\\05-07-200...</td>\n      <td>2021-07-07T21:31:39.064</td>\n    </tr>\n    <tr>\n      <th>2</th>\n      <td>2</td>\n      <td>1.3.6.1.4.1.9328.50.17.14298831690972470748724...</td>\n      <td>RIDER Lung PET-CT</td>\n      <td>NaN</td>\n      <td>https://doi.org/10.7937/K9/TCIA.2015.OFIP7TVM</td>\n      <td>RIDER-1002189179</td>\n      <td>1.3.6.1.4.1.9328.50.17.74928344181377977351227...</td>\n      <td>NaN</td>\n      <td>05-07-2006</td>\n      <td>5min 3D OSEM 8it28sub 10MM cb03</td>\n      <td>GE MEDICAL SYSTEMS</td>\n      <td>PT</td>\n      <td>Positron Emission Tomography Image Storage</td>\n      <td>1.2.840.10008.5.1.4.1.1.128</td>\n      <td>47</td>\n      <td>1.59 MB</td>\n      <td>.\\RIDER Lung PET-CT\\RIDER-1002189179\\05-07-200...</td>\n      <td>2021-07-07T21:31:39.064</td>\n    </tr>\n    <tr>\n      <th>3</th>\n      <td>3</td>\n      <td>1.3.6.1.4.1.9328.50.17.33448411630762243528802...</td>\n      <td>RIDER Lung PET-CT</td>\n      <td>NaN</td>\n      <td>https://doi.org/10.7937/K9/TCIA.2015.OFIP7TVM</td>\n      <td>RIDER-1002189179</td>\n      <td>1.3.6.1.4.1.9328.50.17.74928344181377977351227...</td>\n      <td>NaN</td>\n      <td>05-07-2006</td>\n      <td>5min 3D OSEM 8it28sub 7MM cb03</td>\n      <td>GE MEDICAL SYSTEMS</td>\n      <td>PT</td>\n      <td>Positron Emission Tomography Image Storage</td>\n      <td>1.2.840.10008.5.1.4.1.1.128</td>\n      <td>47</td>\n      <td>1.59 MB</td>\n      <td>.\\RIDER Lung PET-CT\\RIDER-1002189179\\05-07-200...</td>\n      <td>2021-07-07T21:31:45.154</td>\n    </tr>\n    <tr>\n      <th>4</th>\n      <td>10</td>\n      <td>1.3.6.1.4.1.9328.50.17.10979049634014230470074...</td>\n      <td>RIDER Lung PET-CT</td>\n      <td>NaN</td>\n      <td>https://doi.org/10.7937/K9/TCIA.2015.OFIP7TVM</td>\n      <td>RIDER-1009463841</td>\n      <td>1.3.6.1.4.1.9328.50.17.17116950301501248436577...</td>\n      <td>NaN</td>\n      <td>05-07-2006</td>\n      <td>CT 2.5mm cb02</td>\n      <td>GE MEDICAL SYSTEMS</td>\n      <td>CT</td>\n      <td>CT Image Storage</td>\n      <td>1.2.840.10008.5.1.4.1.1.2</td>\n      <td>65</td>\n      <td>32.62 MB</td>\n      <td>.\\RIDER Lung PET-CT\\RIDER-1009463841\\05-07-200...</td>\n      <td>2021-07-07T21:40:08.64</td>\n    </tr>\n    <tr>\n      <th>...</th>\n      <td>...</td>\n      <td>...</td>\n      <td>...</td>\n      <td>...</td>\n      <td>...</td>\n      <td>...</td>\n      <td>...</td>\n      <td>...</td>\n      <td>...</td>\n      <td>...</td>\n      <td>...</td>\n      <td>...</td>\n      <td>...</td>\n      <td>...</td>\n      <td>...</td>\n      <td>...</td>\n      <td>...</td>\n      <td>...</td>\n    </tr>\n    <tr>\n      <th>823</th>\n      <td>1323</td>\n      <td>1.3.6.1.4.1.9328.50.17.29526182708906873966519...</td>\n      <td>RIDER Lung PET-CT</td>\n      <td>NaN</td>\n      <td>https://doi.org/10.7937/K9/TCIA.2015.OFIP7TVM</td>\n      <td>RIDER-9640765801</td>\n      <td>1.3.6.1.4.1.9328.50.17.11844132793672058035829...</td>\n      <td>FDG 6AFOV TORSO</td>\n      <td>02-02-2006</td>\n      <td>CT SCOUT HEAD IN</td>\n      <td>GE MEDICAL SYSTEMS</td>\n      <td>CT</td>\n      <td>CT Image Storage</td>\n      <td>1.2.840.10008.5.1.4.1.1.2</td>\n      <td>2</td>\n      <td>4.97 MB</td>\n      <td>.\\RIDER Lung PET-CT\\RIDER-9640765801\\02-02-200...</td>\n      <td>2021-07-08T19:43:11.042</td>\n    </tr>\n    <tr>\n      <th>824</th>\n      <td>1324</td>\n      <td>1.3.6.1.4.1.9328.50.17.27647997212178938595947...</td>\n      <td>RIDER Lung PET-CT</td>\n      <td>NaN</td>\n      <td>https://doi.org/10.7937/K9/TCIA.2015.OFIP7TVM</td>\n      <td>RIDER-9640765801</td>\n      <td>1.3.6.1.4.1.9328.50.17.11844132793672058035829...</td>\n      <td>FDG 6AFOV TORSO</td>\n      <td>02-02-2006</td>\n      <td>AC for PET</td>\n      <td>GE MEDICAL SYSTEMS</td>\n      <td>CT</td>\n      <td>CT Image Storage</td>\n      <td>1.2.840.10008.5.1.4.1.1.2</td>\n      <td>429</td>\n      <td>215.30 MB</td>\n      <td>.\\RIDER Lung PET-CT\\RIDER-9640765801\\02-02-200...</td>\n      <td>2021-07-08T19:45:15.912</td>\n    </tr>\n    <tr>\n      <th>825</th>\n      <td>1325</td>\n      <td>1.3.6.1.4.1.9328.50.17.29196707572056236162490...</td>\n      <td>RIDER Lung PET-CT</td>\n      <td>NaN</td>\n      <td>https://doi.org/10.7937/K9/TCIA.2015.OFIP7TVM</td>\n      <td>RIDER-9640765801</td>\n      <td>1.3.6.1.4.1.9328.50.17.11844132793672058035829...</td>\n      <td>FDG 6AFOV TORSO</td>\n      <td>02-02-2006</td>\n      <td>70CM FOV 3.27MM CT STD</td>\n      <td>GE MEDICAL SYSTEMS</td>\n      <td>CT</td>\n      <td>CT Image Storage</td>\n      <td>1.2.840.10008.5.1.4.1.1.2</td>\n      <td>739</td>\n      <td>370.88 MB</td>\n      <td>.\\RIDER Lung PET-CT\\RIDER-9640765801\\02-02-200...</td>\n      <td>2021-07-08T19:56:04.11</td>\n    </tr>\n    <tr>\n      <th>826</th>\n      <td>1326</td>\n      <td>1.3.6.1.4.1.9328.50.17.10888495592818845871887...</td>\n      <td>RIDER Lung PET-CT</td>\n      <td>NaN</td>\n      <td>https://doi.org/10.7937/K9/TCIA.2015.OFIP7TVM</td>\n      <td>RIDER-9640765801</td>\n      <td>1.3.6.1.4.1.9328.50.17.11844132793672058035829...</td>\n      <td>FDG 6AFOV TORSO</td>\n      <td>02-02-2006</td>\n      <td>PET FDG SUV</td>\n      <td>GE MEDICAL SYSTEMS</td>\n      <td>PT</td>\n      <td>Positron Emission Tomography Image Storage</td>\n      <td>1.2.840.10008.5.1.4.1.1.128</td>\n      <td>267</td>\n      <td>9.08 MB</td>\n      <td>.\\RIDER Lung PET-CT\\RIDER-9640765801\\02-02-200...</td>\n      <td>2021-07-08T19:34:45.372</td>\n    </tr>\n    <tr>\n      <th>827</th>\n      <td>1327</td>\n      <td>1.3.6.1.4.1.9328.50.17.29822011685214407434477...</td>\n      <td>RIDER Lung PET-CT</td>\n      <td>NaN</td>\n      <td>https://doi.org/10.7937/K9/TCIA.2015.OFIP7TVM</td>\n      <td>RIDER-9640765801</td>\n      <td>1.3.6.1.4.1.9328.50.17.11844132793672058035829...</td>\n      <td>FDG 6AFOV TORSO</td>\n      <td>02-02-2006</td>\n      <td>PET FDG NAC</td>\n      <td>GE MEDICAL SYSTEMS</td>\n      <td>PT</td>\n      <td>Positron Emission Tomography Image Storage</td>\n      <td>1.2.840.10008.5.1.4.1.1.128</td>\n      <td>267</td>\n      <td>9.07 MB</td>\n      <td>.\\RIDER Lung PET-CT\\RIDER-9640765801\\02-02-200...</td>\n      <td>2021-07-08T19:43:41.948</td>\n    </tr>\n  </tbody>\n</table>\n<p>828 rows × 18 columns</p>\n</div>"
     },
     "metadata": {},
     "execution_count": 263
    }
   ],
   "source": [
    "sel_metadata = dict()\n",
    "sel_metadata['First'] = new_metadata.reset_index()\n",
    "sel_metadata['First']"
   ]
  },
  {
   "source": [
    "#### a. slice < 10"
   ],
   "cell_type": "markdown",
   "metadata": {}
  },
  {
   "cell_type": "code",
   "execution_count": 223,
   "metadata": {},
   "outputs": [
    {
     "output_type": "execute_result",
     "data": {
      "text/plain": [
       "            Subject ID    Study Description  Study Date Series Description  \\\n",
       "24    RIDER-1080629396                  NaN  05-23-2006   CT SCOUT HEAD IN   \n",
       "59    RIDER-1172912404      FDG 5AFOV TORSO  12-15-2005   CT SCOUT HEAD IN   \n",
       "66    RIDER-1172912404      FDG 5AFOV TORSO  06-14-2005   CT SCOUT HEAD IN   \n",
       "89    RIDER-1284094278     FDG 7 AFOV TORSO  11-24-2006   CT SCOUT HEAD IN   \n",
       "109   RIDER-1301567537  PET CT LIMITED AREA  01-23-2007     CT SCOUT BRAIN   \n",
       "...                ...                  ...         ...                ...   \n",
       "1257  RIDER-7506348166      FDG 5AFOV TORSO  01-04-2007   CT SCOUT HEAD IN   \n",
       "1278  RIDER-8054797922       FDG 5AFOV LUNG  03-21-2006   CT SCOUT HEAD IN   \n",
       "1288  RIDER-8054797922      FDG 5AFOV TORSO  01-31-2006   CT SCOUT HEAD IN   \n",
       "1306  RIDER-8876965844   2-FOV uniform.test  09-28-2006  CT SCOUT HEAD OUT   \n",
       "1323  RIDER-9640765801      FDG 6AFOV TORSO  02-02-2006   CT SCOUT HEAD IN   \n",
       "\n",
       "     Modality  Number of Images  \\\n",
       "24         CT                 1   \n",
       "59         CT                 2   \n",
       "66         CT                 1   \n",
       "89         CT                 1   \n",
       "109        CT                 1   \n",
       "...       ...               ...   \n",
       "1257       CT                 2   \n",
       "1278       CT                 2   \n",
       "1288       CT                 2   \n",
       "1306       CT                 1   \n",
       "1323       CT                 2   \n",
       "\n",
       "                                          File Location  \n",
       "24    .\\RIDER Lung PET-CT\\RIDER-1080629396\\05-23-200...  \n",
       "59    .\\RIDER Lung PET-CT\\RIDER-1172912404\\12-15-200...  \n",
       "66    .\\RIDER Lung PET-CT\\RIDER-1172912404\\06-14-200...  \n",
       "89    .\\RIDER Lung PET-CT\\RIDER-1284094278\\11-24-200...  \n",
       "109   .\\RIDER Lung PET-CT\\RIDER-1301567537\\01-23-200...  \n",
       "...                                                 ...  \n",
       "1257  .\\RIDER Lung PET-CT\\RIDER-7506348166\\01-04-200...  \n",
       "1278  .\\RIDER Lung PET-CT\\RIDER-8054797922\\03-21-200...  \n",
       "1288  .\\RIDER Lung PET-CT\\RIDER-8054797922\\01-31-200...  \n",
       "1306  .\\RIDER Lung PET-CT\\RIDER-8876965844\\09-28-200...  \n",
       "1323  .\\RIDER Lung PET-CT\\RIDER-9640765801\\02-02-200...  \n",
       "\n",
       "[69 rows x 7 columns]"
      ],
      "text/html": "<div>\n<style scoped>\n    .dataframe tbody tr th:only-of-type {\n        vertical-align: middle;\n    }\n\n    .dataframe tbody tr th {\n        vertical-align: top;\n    }\n\n    .dataframe thead th {\n        text-align: right;\n    }\n</style>\n<table border=\"1\" class=\"dataframe\">\n  <thead>\n    <tr style=\"text-align: right;\">\n      <th></th>\n      <th>Subject ID</th>\n      <th>Study Description</th>\n      <th>Study Date</th>\n      <th>Series Description</th>\n      <th>Modality</th>\n      <th>Number of Images</th>\n      <th>File Location</th>\n    </tr>\n  </thead>\n  <tbody>\n    <tr>\n      <th>24</th>\n      <td>RIDER-1080629396</td>\n      <td>NaN</td>\n      <td>05-23-2006</td>\n      <td>CT SCOUT HEAD IN</td>\n      <td>CT</td>\n      <td>1</td>\n      <td>.\\RIDER Lung PET-CT\\RIDER-1080629396\\05-23-200...</td>\n    </tr>\n    <tr>\n      <th>59</th>\n      <td>RIDER-1172912404</td>\n      <td>FDG 5AFOV TORSO</td>\n      <td>12-15-2005</td>\n      <td>CT SCOUT HEAD IN</td>\n      <td>CT</td>\n      <td>2</td>\n      <td>.\\RIDER Lung PET-CT\\RIDER-1172912404\\12-15-200...</td>\n    </tr>\n    <tr>\n      <th>66</th>\n      <td>RIDER-1172912404</td>\n      <td>FDG 5AFOV TORSO</td>\n      <td>06-14-2005</td>\n      <td>CT SCOUT HEAD IN</td>\n      <td>CT</td>\n      <td>1</td>\n      <td>.\\RIDER Lung PET-CT\\RIDER-1172912404\\06-14-200...</td>\n    </tr>\n    <tr>\n      <th>89</th>\n      <td>RIDER-1284094278</td>\n      <td>FDG 7 AFOV TORSO</td>\n      <td>11-24-2006</td>\n      <td>CT SCOUT HEAD IN</td>\n      <td>CT</td>\n      <td>1</td>\n      <td>.\\RIDER Lung PET-CT\\RIDER-1284094278\\11-24-200...</td>\n    </tr>\n    <tr>\n      <th>109</th>\n      <td>RIDER-1301567537</td>\n      <td>PET CT LIMITED AREA</td>\n      <td>01-23-2007</td>\n      <td>CT SCOUT BRAIN</td>\n      <td>CT</td>\n      <td>1</td>\n      <td>.\\RIDER Lung PET-CT\\RIDER-1301567537\\01-23-200...</td>\n    </tr>\n    <tr>\n      <th>...</th>\n      <td>...</td>\n      <td>...</td>\n      <td>...</td>\n      <td>...</td>\n      <td>...</td>\n      <td>...</td>\n      <td>...</td>\n    </tr>\n    <tr>\n      <th>1257</th>\n      <td>RIDER-7506348166</td>\n      <td>FDG 5AFOV TORSO</td>\n      <td>01-04-2007</td>\n      <td>CT SCOUT HEAD IN</td>\n      <td>CT</td>\n      <td>2</td>\n      <td>.\\RIDER Lung PET-CT\\RIDER-7506348166\\01-04-200...</td>\n    </tr>\n    <tr>\n      <th>1278</th>\n      <td>RIDER-8054797922</td>\n      <td>FDG 5AFOV LUNG</td>\n      <td>03-21-2006</td>\n      <td>CT SCOUT HEAD IN</td>\n      <td>CT</td>\n      <td>2</td>\n      <td>.\\RIDER Lung PET-CT\\RIDER-8054797922\\03-21-200...</td>\n    </tr>\n    <tr>\n      <th>1288</th>\n      <td>RIDER-8054797922</td>\n      <td>FDG 5AFOV TORSO</td>\n      <td>01-31-2006</td>\n      <td>CT SCOUT HEAD IN</td>\n      <td>CT</td>\n      <td>2</td>\n      <td>.\\RIDER Lung PET-CT\\RIDER-8054797922\\01-31-200...</td>\n    </tr>\n    <tr>\n      <th>1306</th>\n      <td>RIDER-8876965844</td>\n      <td>2-FOV uniform.test</td>\n      <td>09-28-2006</td>\n      <td>CT SCOUT HEAD OUT</td>\n      <td>CT</td>\n      <td>1</td>\n      <td>.\\RIDER Lung PET-CT\\RIDER-8876965844\\09-28-200...</td>\n    </tr>\n    <tr>\n      <th>1323</th>\n      <td>RIDER-9640765801</td>\n      <td>FDG 6AFOV TORSO</td>\n      <td>02-02-2006</td>\n      <td>CT SCOUT HEAD IN</td>\n      <td>CT</td>\n      <td>2</td>\n      <td>.\\RIDER Lung PET-CT\\RIDER-9640765801\\02-02-200...</td>\n    </tr>\n  </tbody>\n</table>\n<p>69 rows × 7 columns</p>\n</div>"
     },
     "metadata": {},
     "execution_count": 223
    }
   ],
   "source": [
    "# Check Data with (# of .dcm) < 10\n",
    "min_df = new_metadata.loc[new_metadata['Number of Images']<10, ['Subject ID', 'Study Description', 'Study Date', 'Series Description', 'Modality', 'Number of Images', 'File Location']]\n",
    "min_df.to_csv(DIR_PATH + '/min_df.csv', na_rep='null')\n",
    "min_df"
   ]
  },
  {
   "cell_type": "code",
   "execution_count": 231,
   "metadata": {},
   "outputs": [],
   "source": [
    "# Copy data to './min_df_data'\n",
    "for loc in min_df['File Location']:\n",
    "    shutil.copytree(DIR_PATH + loc[1:], DIR_PATH + '/min_df_data' + loc[1:])"
   ]
  },
  {
   "source": [
    "print('Check data with 3D Slicer Program...')\n",
    "print('Conclusion : No Useful Data, Delete All')"
   ],
   "cell_type": "code",
   "metadata": {},
   "execution_count": 237,
   "outputs": [
    {
     "output_type": "stream",
     "name": "stdout",
     "text": [
      "Check data with 3D Slicer Program...\nConclusion : No Useful Data, Delete All\n"
     ]
    }
   ]
  },
  {
   "cell_type": "code",
   "execution_count": 264,
   "metadata": {},
   "outputs": [],
   "source": [
    "# Delete All\n",
    "for loc in min_df['File Location']:\n",
    "    ABS_PATH = DIR_PATH + loc[1:]\n",
    "    UPPER_PATH = os.path.join(ABS_PATH, os.pardir)\n",
    "    try: shutil.rmtree(ABS_PATH)\n",
    "    except: pass\n",
    "    try: os.rmdir(UPPER_PATH)\n",
    "    except: pass\n",
    "    try: os.rmdir(os.path.join(UPPER_PATH, os.pardir))\n",
    "    except: pass\n",
    "\n",
    "# Make New DataFrame\n",
    "sel_loc = []\n",
    "for loc in sel_metadata['First']['index']:\n",
    "    if loc in min_df.index: sel_loc.append(False)\n",
    "    else: sel_loc.append(True)\n",
    "sel_metadata['Min'] = sel_metadata['First'].iloc[sel_loc]"
   ]
  },
  {
   "cell_type": "code",
   "execution_count": 265,
   "metadata": {},
   "outputs": [
    {
     "output_type": "stream",
     "name": "stdout",
     "text": [
      "Patient Number\nMetadata: 93\nFolder  : 93\n\nSeries Number\nMetadata: 759\nFolder  : 759\n"
     ]
    }
   ],
   "source": [
    "# Validation\n",
    "\n",
    "print (\"Patient Number\")\n",
    "print (\"Metadata:\", len(sel_metadata['Min'].groupby(['Subject ID']).size().index))\n",
    "print (\"Folder  :\", len(os.listdir(DIR_PATH + '/RIDER Lung PET-CT'))-1)\n",
    "print (\"\")\n",
    "print (\"Series Number\")\n",
    "print (\"Metadata:\", len(sel_metadata['Min']))\n",
    "print (\"Folder  :\", count_folder(DIR_PATH))"
   ]
  },
  {
   "source": [
    "#### b. 10 <= slice < 100"
   ],
   "cell_type": "markdown",
   "metadata": {}
  },
  {
   "cell_type": "code",
   "execution_count": 18,
   "metadata": {},
   "outputs": [
    {
     "output_type": "execute_result",
     "data": {
      "text/plain": [
       "           Subject ID   Study Description  Study Date  \\\n",
       "0    RIDER-1002189179                 NaN  05-07-2006   \n",
       "1    RIDER-1002189179                 NaN  05-07-2006   \n",
       "2    RIDER-1002189179                 NaN  05-07-2006   \n",
       "3    RIDER-1002189179                 NaN  05-07-2006   \n",
       "4    RIDER-1009463841                 NaN  05-07-2006   \n",
       "..                ...                 ...         ...   \n",
       "816  RIDER-8876965844  2-FOV uniform.test  09-28-2006   \n",
       "817  RIDER-8876965844  2-FOV uniform.test  09-28-2006   \n",
       "818  RIDER-8876965844  2-FOV uniform.test  09-28-2006   \n",
       "819  RIDER-8876965844  2-FOV uniform.test  09-28-2006   \n",
       "820  RIDER-8876965844  2-FOV uniform.test  09-28-2006   \n",
       "\n",
       "                     Series Description Modality  Number of Images  \\\n",
       "0                         CT 2.5mm cb03       CT                64   \n",
       "1                       3D FBP H10 cb03       PT                47   \n",
       "2       5min 3D OSEM 8it28sub 10MM cb03       PT                47   \n",
       "3        5min 3D OSEM 8it28sub 7MM cb03       PT                47   \n",
       "4                         CT 2.5mm cb02       CT                65   \n",
       "..                                  ...      ...               ...   \n",
       "816   2AFOV-UniformTest 3D DefaultRecon       PT                91   \n",
       "817                   FDG 3D XAFOV OSEM       PT                91   \n",
       "818  2AFOV-UniformTest 2D ReconDefaults       PT                91   \n",
       "819                         PET FDG SUV       PT                91   \n",
       "820                         PET FDG NAC       PT                91   \n",
       "\n",
       "                                         File Location  \n",
       "0    .\\RIDER Lung PET-CT\\RIDER-1002189179\\05-07-200...  \n",
       "1    .\\RIDER Lung PET-CT\\RIDER-1002189179\\05-07-200...  \n",
       "2    .\\RIDER Lung PET-CT\\RIDER-1002189179\\05-07-200...  \n",
       "3    .\\RIDER Lung PET-CT\\RIDER-1002189179\\05-07-200...  \n",
       "4    .\\RIDER Lung PET-CT\\RIDER-1009463841\\05-07-200...  \n",
       "..                                                 ...  \n",
       "816  .\\RIDER Lung PET-CT\\RIDER-8876965844\\09-28-200...  \n",
       "817  .\\RIDER Lung PET-CT\\RIDER-8876965844\\09-28-200...  \n",
       "818  .\\RIDER Lung PET-CT\\RIDER-8876965844\\09-28-200...  \n",
       "819  .\\RIDER Lung PET-CT\\RIDER-8876965844\\09-28-200...  \n",
       "820  .\\RIDER Lung PET-CT\\RIDER-8876965844\\09-28-200...  \n",
       "\n",
       "[327 rows x 7 columns]"
      ],
      "text/html": "<div>\n<style scoped>\n    .dataframe tbody tr th:only-of-type {\n        vertical-align: middle;\n    }\n\n    .dataframe tbody tr th {\n        vertical-align: top;\n    }\n\n    .dataframe thead th {\n        text-align: right;\n    }\n</style>\n<table border=\"1\" class=\"dataframe\">\n  <thead>\n    <tr style=\"text-align: right;\">\n      <th></th>\n      <th>Subject ID</th>\n      <th>Study Description</th>\n      <th>Study Date</th>\n      <th>Series Description</th>\n      <th>Modality</th>\n      <th>Number of Images</th>\n      <th>File Location</th>\n    </tr>\n  </thead>\n  <tbody>\n    <tr>\n      <th>0</th>\n      <td>RIDER-1002189179</td>\n      <td>NaN</td>\n      <td>05-07-2006</td>\n      <td>CT 2.5mm cb03</td>\n      <td>CT</td>\n      <td>64</td>\n      <td>.\\RIDER Lung PET-CT\\RIDER-1002189179\\05-07-200...</td>\n    </tr>\n    <tr>\n      <th>1</th>\n      <td>RIDER-1002189179</td>\n      <td>NaN</td>\n      <td>05-07-2006</td>\n      <td>3D FBP H10 cb03</td>\n      <td>PT</td>\n      <td>47</td>\n      <td>.\\RIDER Lung PET-CT\\RIDER-1002189179\\05-07-200...</td>\n    </tr>\n    <tr>\n      <th>2</th>\n      <td>RIDER-1002189179</td>\n      <td>NaN</td>\n      <td>05-07-2006</td>\n      <td>5min 3D OSEM 8it28sub 10MM cb03</td>\n      <td>PT</td>\n      <td>47</td>\n      <td>.\\RIDER Lung PET-CT\\RIDER-1002189179\\05-07-200...</td>\n    </tr>\n    <tr>\n      <th>3</th>\n      <td>RIDER-1002189179</td>\n      <td>NaN</td>\n      <td>05-07-2006</td>\n      <td>5min 3D OSEM 8it28sub 7MM cb03</td>\n      <td>PT</td>\n      <td>47</td>\n      <td>.\\RIDER Lung PET-CT\\RIDER-1002189179\\05-07-200...</td>\n    </tr>\n    <tr>\n      <th>4</th>\n      <td>RIDER-1009463841</td>\n      <td>NaN</td>\n      <td>05-07-2006</td>\n      <td>CT 2.5mm cb02</td>\n      <td>CT</td>\n      <td>65</td>\n      <td>.\\RIDER Lung PET-CT\\RIDER-1009463841\\05-07-200...</td>\n    </tr>\n    <tr>\n      <th>...</th>\n      <td>...</td>\n      <td>...</td>\n      <td>...</td>\n      <td>...</td>\n      <td>...</td>\n      <td>...</td>\n      <td>...</td>\n    </tr>\n    <tr>\n      <th>816</th>\n      <td>RIDER-8876965844</td>\n      <td>2-FOV uniform.test</td>\n      <td>09-28-2006</td>\n      <td>2AFOV-UniformTest 3D DefaultRecon</td>\n      <td>PT</td>\n      <td>91</td>\n      <td>.\\RIDER Lung PET-CT\\RIDER-8876965844\\09-28-200...</td>\n    </tr>\n    <tr>\n      <th>817</th>\n      <td>RIDER-8876965844</td>\n      <td>2-FOV uniform.test</td>\n      <td>09-28-2006</td>\n      <td>FDG 3D XAFOV OSEM</td>\n      <td>PT</td>\n      <td>91</td>\n      <td>.\\RIDER Lung PET-CT\\RIDER-8876965844\\09-28-200...</td>\n    </tr>\n    <tr>\n      <th>818</th>\n      <td>RIDER-8876965844</td>\n      <td>2-FOV uniform.test</td>\n      <td>09-28-2006</td>\n      <td>2AFOV-UniformTest 2D ReconDefaults</td>\n      <td>PT</td>\n      <td>91</td>\n      <td>.\\RIDER Lung PET-CT\\RIDER-8876965844\\09-28-200...</td>\n    </tr>\n    <tr>\n      <th>819</th>\n      <td>RIDER-8876965844</td>\n      <td>2-FOV uniform.test</td>\n      <td>09-28-2006</td>\n      <td>PET FDG SUV</td>\n      <td>PT</td>\n      <td>91</td>\n      <td>.\\RIDER Lung PET-CT\\RIDER-8876965844\\09-28-200...</td>\n    </tr>\n    <tr>\n      <th>820</th>\n      <td>RIDER-8876965844</td>\n      <td>2-FOV uniform.test</td>\n      <td>09-28-2006</td>\n      <td>PET FDG NAC</td>\n      <td>PT</td>\n      <td>91</td>\n      <td>.\\RIDER Lung PET-CT\\RIDER-8876965844\\09-28-200...</td>\n    </tr>\n  </tbody>\n</table>\n<p>327 rows × 7 columns</p>\n</div>"
     },
     "metadata": {},
     "execution_count": 18
    }
   ],
   "source": [
    "# Check Data with 10<= (# of .dcm) < 100\n",
    "max_df = sel_metadata['Min'].loc[sel_metadata['Min']['Number of Images']<100, ['Subject ID', 'Study Description', 'Study Date', 'Series Description', 'Modality', 'Number of Images', 'File Location']]\n",
    "max_df.to_csv(DIR_PATH + '/max_df.csv', na_rep='null')\n",
    "max_df"
   ]
  },
  {
   "cell_type": "code",
   "execution_count": 19,
   "metadata": {},
   "outputs": [],
   "source": [
    "# Copy data to './max_df_data'\n",
    "for loc in max_df['File Location']:\n",
    "    shutil.copytree(DIR_PATH + loc[1:], DIR_PATH + '/max_df_data' + loc[1:])"
   ]
  },
  {
   "cell_type": "code",
   "execution_count": 20,
   "metadata": {},
   "outputs": [
    {
     "output_type": "stream",
     "name": "stdout",
     "text": [
      "Check data with 3D Slicer Program...\nConclusion : Check All Study/Series Description\n"
     ]
    }
   ],
   "source": [
    "print('Check data with 3D Slicer Program...')\n",
    "print('Conclusion : Check All Study/Series Description')"
   ]
  },
  {
   "source": [
    "### 2) Study/Series Description Analysis"
   ],
   "cell_type": "markdown",
   "metadata": {}
  },
  {
   "source": [
    "#### a. Index Analysis"
   ],
   "cell_type": "markdown",
   "metadata": {}
  },
  {
   "cell_type": "code",
   "execution_count": 22,
   "metadata": {},
   "outputs": [
    {
     "output_type": "execute_result",
     "data": {
      "text/plain": [
       "Study Description\n",
       "2-FOV uniform.test                                                    8\n",
       "2AFOV PELVIS POST CATH                                                2\n",
       "3D decay linearity                                                    5\n",
       "FDG 10 AFOV WB                                                        8\n",
       "FDG 2AFOV PELVIS WCAT                                                 2\n",
       "FDG 5 AFOV TORSO                                                      7\n",
       "FDG 5AFOV LUNG                                                        7\n",
       "FDG 5AFOV SWEEP                                                      11\n",
       "FDG 5AFOV TORSO                                                     200\n",
       "FDG 5FOV TORSO                                                        9\n",
       "FDG 6AFOV TORSO                                                       9\n",
       "FDG 7 AFOV TORSO                                                      7\n",
       "FDG BRIAIN                                                            5\n",
       "FDG5AFOV TORSO                                                        6\n",
       "PET CARDIAC FLOW                                                     33\n",
       "PET CT LIMITED AREA                                                   5\n",
       "PET CT MID BODY                                                     121\n",
       "PET CT WHOLE BODY                                                    21\n",
       "PET TUMOR METAB                                                       6\n",
       "PET TUMOR METABOLISM                                                 36\n",
       "PinSourceImg                                                          5\n",
       "Tomoscintigrafia PET t                                               20\n",
       "Tomoscintigrafia PET total body TOMOSCINTIGRAFIA TOTAL BODY-Tomo      9\n",
       "e-1                                                                   7\n",
       "e1 FDG 6AFOV TORSO                                                    2\n",
       "test CTAC radial trunc                                               30\n",
       "testCTACw35ccContrast                                                10\n",
       "testCTACw75ccContrast                                                10\n",
       "dtype: int64"
      ]
     },
     "metadata": {},
     "execution_count": 22
    }
   ],
   "source": [
    "new_metadata.groupby(['Study Description']).size()"
   ]
  },
  {
   "cell_type": "code",
   "execution_count": 23,
   "metadata": {},
   "outputs": [
    {
     "output_type": "execute_result",
     "data": {
      "text/plain": [
       "Series Description\n",
       "10 bin OSEM noFilter                   1\n",
       "10 binGated OSEMI2S20NF                1\n",
       "10GateFOREFBPHan10.0                   1\n",
       "10GateFOREFBPHan13                     1\n",
       "10GateFOREFBPHan16                     1\n",
       "                                      ..\n",
       "noShiftCorr 3D 8min IQ NEMA shifted    1\n",
       "wCorrCTContr35cc                       1\n",
       "wCorrCTContr75cc                       1\n",
       "wCorrCTcontr35ccCTAC                   1\n",
       "wCorrCTcontr75ccCTAC                   1\n",
       "Length: 339, dtype: int64"
      ]
     },
     "metadata": {},
     "execution_count": 23
    }
   ],
   "source": [
    "new_metadata.groupby(['Series Description']).size()"
   ]
  },
  {
   "cell_type": "code",
   "execution_count": 24,
   "metadata": {},
   "outputs": [
    {
     "output_type": "execute_result",
     "data": {
      "text/plain": [
       "Series Description\n",
       "70CM FOV 3.27MM CT STD     47\n",
       "AC for PET                 59\n",
       "AVGR1 CTAC                  3\n",
       "CINECTAC OSEM I2 S20        9\n",
       "CT 2.5MM LUNG              40\n",
       "CT 2.5MM STD               53\n",
       "CT 2.5mm                    8\n",
       "CT SCOUT BRAIN             13\n",
       "CT SCOUT HEAD IN           46\n",
       "CTAC                       11\n",
       "CTAC 2.5 THICK              5\n",
       "CTAC 2.75 thick             3\n",
       "CTAC 3.75 thick            14\n",
       "FDG 3D XAFOV OSEM           3\n",
       "FDG OSEM I2 S20             9\n",
       "Gated 10mm OSEM I2 S20     12\n",
       "HELICAL OSEM I2 S20         7\n",
       "NAC2D                       4\n",
       "OSEM CineCTAC               3\n",
       "Offline Image               3\n",
       "PET FDG NAC                44\n",
       "PET FDG SUV                59\n",
       "Recon 2 CTAC 2.5 THICK      4\n",
       "Recon 2 CTAC 2.75 thick     3\n",
       "Recon 2 CTAC 3.75 thick    12\n",
       "Recon 3 CTAC 2.5 THICK      4\n",
       "Recon 3 CTAC 3.75 thick     7\n",
       "StandardFull               11\n",
       "WB2DVuePoint                4\n",
       "dtype: int64"
      ]
     },
     "metadata": {},
     "execution_count": 24
    }
   ],
   "source": [
    "series_df = new_metadata.groupby(['Series Description']).size()\n",
    "series_df[series_df > 2]"
   ]
  },
  {
   "cell_type": "code",
   "execution_count": 32,
   "metadata": {},
   "outputs": [],
   "source": [
    "# Index Selection by 3D Splicer View Classification\r\n",
    "STUDY_IDX = ['FDG 5AFOV TORSO', 'FDG5AFOV TORSO', 'FDG 5 AFOV TORSO',\r\n",
    "             'FDG 5FOV TORSO', 'FDG 5AFOV LUNG',\r\n",
    "             'FDG 6AFOV TORSO', 'e1 FDG 6AFOV TORSO', 'FDG 7 AFOV TORSO',\r\n",
    "             'PET CT MID BODY', 'PET CT WHOLE BODY',\r\n",
    "             'PET TUMOR METAB', 'PET TUMOR METABOLISM']\r\n",
    "SERIES_IDX = ['CT 2.5MM STD', 'PET FDG SUV']\r\n",
    "CT_ALTER_IDX = ['Recon 2 CTAC 2.5 THICK']"
   ]
  },
  {
   "cell_type": "code",
   "execution_count": 34,
   "metadata": {},
   "outputs": [
    {
     "output_type": "execute_result",
     "data": {
      "text/plain": [
       "                                             Series UID         Collection  \\\n",
       "62    1.3.6.1.4.1.9328.50.17.23500193269190786828912...  RIDER Lung PET-CT   \n",
       "65    1.3.6.1.4.1.9328.50.17.71370567559995220330016...  RIDER Lung PET-CT   \n",
       "69    1.3.6.1.4.1.9328.50.17.28880173671501351185240...  RIDER Lung PET-CT   \n",
       "71    1.3.6.1.4.1.9328.50.17.10308613002188064065304...  RIDER Lung PET-CT   \n",
       "90    1.3.6.1.4.1.9328.50.17.23846650305435481959640...  RIDER Lung PET-CT   \n",
       "...                                                 ...                ...   \n",
       "1287  1.3.6.1.4.1.9328.50.17.19429515156664107209992...  RIDER Lung PET-CT   \n",
       "1290  1.3.6.1.4.1.9328.50.17.23927517269629765042831...  RIDER Lung PET-CT   \n",
       "1293  1.3.6.1.4.1.9328.50.17.16650979549258755223925...  RIDER Lung PET-CT   \n",
       "1322  1.3.6.1.4.1.9328.50.17.11527879251296425726955...  RIDER Lung PET-CT   \n",
       "1326  1.3.6.1.4.1.9328.50.17.10888495592818845871887...  RIDER Lung PET-CT   \n",
       "\n",
       "      3rd Party Analysis                           Data Description URI  \\\n",
       "62                   NaN  https://doi.org/10.7937/K9/TCIA.2015.OFIP7TVM   \n",
       "65                   NaN  https://doi.org/10.7937/K9/TCIA.2015.OFIP7TVM   \n",
       "69                   NaN  https://doi.org/10.7937/K9/TCIA.2015.OFIP7TVM   \n",
       "71                   NaN  https://doi.org/10.7937/K9/TCIA.2015.OFIP7TVM   \n",
       "90                   NaN  https://doi.org/10.7937/K9/TCIA.2015.OFIP7TVM   \n",
       "...                  ...                                            ...   \n",
       "1287                 NaN  https://doi.org/10.7937/K9/TCIA.2015.OFIP7TVM   \n",
       "1290                 NaN  https://doi.org/10.7937/K9/TCIA.2015.OFIP7TVM   \n",
       "1293                 NaN  https://doi.org/10.7937/K9/TCIA.2015.OFIP7TVM   \n",
       "1322                 NaN  https://doi.org/10.7937/K9/TCIA.2015.OFIP7TVM   \n",
       "1326                 NaN  https://doi.org/10.7937/K9/TCIA.2015.OFIP7TVM   \n",
       "\n",
       "            Subject ID                                          Study UID  \\\n",
       "62    RIDER-1172912404  1.3.6.1.4.1.9328.50.17.24892338155574864998303...   \n",
       "65    RIDER-1172912404  1.3.6.1.4.1.9328.50.17.24892338155574864998303...   \n",
       "69    RIDER-1172912404  1.3.6.1.4.1.9328.50.17.29723960320980340557147...   \n",
       "71    RIDER-1172912404  1.3.6.1.4.1.9328.50.17.29723960320980340557147...   \n",
       "90    RIDER-1284094278  1.3.6.1.4.1.9328.50.17.22545924354527867084396...   \n",
       "...                ...                                                ...   \n",
       "1287  RIDER-8054797922  1.3.6.1.4.1.9328.50.17.26884175944205502857742...   \n",
       "1290  RIDER-8054797922  1.3.6.1.4.1.9328.50.17.72443068618977843685376...   \n",
       "1293  RIDER-8054797922  1.3.6.1.4.1.9328.50.17.72443068618977843685376...   \n",
       "1322  RIDER-9640765801  1.3.6.1.4.1.9328.50.17.11844132793672058035829...   \n",
       "1326  RIDER-9640765801  1.3.6.1.4.1.9328.50.17.11844132793672058035829...   \n",
       "\n",
       "     Study Description  Study Date      Series Description  \\\n",
       "62     FDG 5AFOV TORSO  12-15-2005            CT 2.5MM STD   \n",
       "65     FDG 5AFOV TORSO  12-15-2005             PET FDG SUV   \n",
       "69     FDG 5AFOV TORSO  06-14-2005  Recon 2 CTAC 2.5 THICK   \n",
       "71     FDG 5AFOV TORSO  06-14-2005             PET FDG SUV   \n",
       "90    FDG 7 AFOV TORSO  11-24-2006            CT 2.5MM STD   \n",
       "...                ...         ...                     ...   \n",
       "1287   FDG 5AFOV TORSO  06-02-2005             PET FDG SUV   \n",
       "1290   FDG 5AFOV TORSO  01-31-2006            CT 2.5MM STD   \n",
       "1293   FDG 5AFOV TORSO  01-31-2006             PET FDG SUV   \n",
       "1322   FDG 6AFOV TORSO  02-02-2006            CT 2.5MM STD   \n",
       "1326   FDG 6AFOV TORSO  02-02-2006             PET FDG SUV   \n",
       "\n",
       "            Manufacturer Modality                              SOP Class Name  \\\n",
       "62    GE MEDICAL SYSTEMS       CT                            CT Image Storage   \n",
       "65    GE MEDICAL SYSTEMS       PT  Positron Emission Tomography Image Storage   \n",
       "69    GE MEDICAL SYSTEMS       CT                            CT Image Storage   \n",
       "71    GE MEDICAL SYSTEMS       PT  Positron Emission Tomography Image Storage   \n",
       "90    GE MEDICAL SYSTEMS       CT                            CT Image Storage   \n",
       "...                  ...      ...                                         ...   \n",
       "1287  GE MEDICAL SYSTEMS       PT  Positron Emission Tomography Image Storage   \n",
       "1290  GE MEDICAL SYSTEMS       CT                            CT Image Storage   \n",
       "1293  GE MEDICAL SYSTEMS       PT  Positron Emission Tomography Image Storage   \n",
       "1322  GE MEDICAL SYSTEMS       CT                            CT Image Storage   \n",
       "1326  GE MEDICAL SYSTEMS       PT  Positron Emission Tomography Image Storage   \n",
       "\n",
       "                    SOP Class UID  Number of Images  File Size  \\\n",
       "62      1.2.840.10008.5.1.4.1.1.2               290  145.55 MB   \n",
       "65    1.2.840.10008.5.1.4.1.1.128               223    7.58 MB   \n",
       "69      1.2.840.10008.5.1.4.1.1.2               291  146.03 MB   \n",
       "71    1.2.840.10008.5.1.4.1.1.128               223    7.59 MB   \n",
       "90      1.2.840.10008.5.1.4.1.1.2               358  179.67 MB   \n",
       "...                           ...               ...        ...   \n",
       "1287  1.2.840.10008.5.1.4.1.1.128               223    7.59 MB   \n",
       "1290    1.2.840.10008.5.1.4.1.1.2               295  148.06 MB   \n",
       "1293  1.2.840.10008.5.1.4.1.1.128               223    7.59 MB   \n",
       "1322    1.2.840.10008.5.1.4.1.1.2               355  178.18 MB   \n",
       "1326  1.2.840.10008.5.1.4.1.1.128               267    9.08 MB   \n",
       "\n",
       "                                          File Location  \\\n",
       "62    .\\RIDER Lung PET-CT\\RIDER-1172912404\\12-15-200...   \n",
       "65    .\\RIDER Lung PET-CT\\RIDER-1172912404\\12-15-200...   \n",
       "69    .\\RIDER Lung PET-CT\\RIDER-1172912404\\06-14-200...   \n",
       "71    .\\RIDER Lung PET-CT\\RIDER-1172912404\\06-14-200...   \n",
       "90    .\\RIDER Lung PET-CT\\RIDER-1284094278\\11-24-200...   \n",
       "...                                                 ...   \n",
       "1287  .\\RIDER Lung PET-CT\\RIDER-8054797922\\06-02-200...   \n",
       "1290  .\\RIDER Lung PET-CT\\RIDER-8054797922\\01-31-200...   \n",
       "1293  .\\RIDER Lung PET-CT\\RIDER-8054797922\\01-31-200...   \n",
       "1322  .\\RIDER Lung PET-CT\\RIDER-9640765801\\02-02-200...   \n",
       "1326  .\\RIDER Lung PET-CT\\RIDER-9640765801\\02-02-200...   \n",
       "\n",
       "           Download Timestamp  \n",
       "62     2021-07-07T22:18:24.46  \n",
       "65    2021-07-07T22:19:49.764  \n",
       "69    2021-07-07T22:30:22.011  \n",
       "71    2021-07-07T22:20:57.592  \n",
       "90    2021-07-07T22:50:03.194  \n",
       "...                       ...  \n",
       "1287  2021-07-08T18:42:24.587  \n",
       "1290  2021-07-08T19:05:28.415  \n",
       "1293  2021-07-08T18:51:02.864  \n",
       "1322  2021-07-08T19:42:54.418  \n",
       "1326  2021-07-08T19:34:45.372  \n",
       "\n",
       "[110 rows x 17 columns]"
      ],
      "text/html": "<div>\n<style scoped>\n    .dataframe tbody tr th:only-of-type {\n        vertical-align: middle;\n    }\n\n    .dataframe tbody tr th {\n        vertical-align: top;\n    }\n\n    .dataframe thead th {\n        text-align: right;\n    }\n</style>\n<table border=\"1\" class=\"dataframe\">\n  <thead>\n    <tr style=\"text-align: right;\">\n      <th></th>\n      <th>Series UID</th>\n      <th>Collection</th>\n      <th>3rd Party Analysis</th>\n      <th>Data Description URI</th>\n      <th>Subject ID</th>\n      <th>Study UID</th>\n      <th>Study Description</th>\n      <th>Study Date</th>\n      <th>Series Description</th>\n      <th>Manufacturer</th>\n      <th>Modality</th>\n      <th>SOP Class Name</th>\n      <th>SOP Class UID</th>\n      <th>Number of Images</th>\n      <th>File Size</th>\n      <th>File Location</th>\n      <th>Download Timestamp</th>\n    </tr>\n  </thead>\n  <tbody>\n    <tr>\n      <th>62</th>\n      <td>1.3.6.1.4.1.9328.50.17.23500193269190786828912...</td>\n      <td>RIDER Lung PET-CT</td>\n      <td>NaN</td>\n      <td>https://doi.org/10.7937/K9/TCIA.2015.OFIP7TVM</td>\n      <td>RIDER-1172912404</td>\n      <td>1.3.6.1.4.1.9328.50.17.24892338155574864998303...</td>\n      <td>FDG 5AFOV TORSO</td>\n      <td>12-15-2005</td>\n      <td>CT 2.5MM STD</td>\n      <td>GE MEDICAL SYSTEMS</td>\n      <td>CT</td>\n      <td>CT Image Storage</td>\n      <td>1.2.840.10008.5.1.4.1.1.2</td>\n      <td>290</td>\n      <td>145.55 MB</td>\n      <td>.\\RIDER Lung PET-CT\\RIDER-1172912404\\12-15-200...</td>\n      <td>2021-07-07T22:18:24.46</td>\n    </tr>\n    <tr>\n      <th>65</th>\n      <td>1.3.6.1.4.1.9328.50.17.71370567559995220330016...</td>\n      <td>RIDER Lung PET-CT</td>\n      <td>NaN</td>\n      <td>https://doi.org/10.7937/K9/TCIA.2015.OFIP7TVM</td>\n      <td>RIDER-1172912404</td>\n      <td>1.3.6.1.4.1.9328.50.17.24892338155574864998303...</td>\n      <td>FDG 5AFOV TORSO</td>\n      <td>12-15-2005</td>\n      <td>PET FDG SUV</td>\n      <td>GE MEDICAL SYSTEMS</td>\n      <td>PT</td>\n      <td>Positron Emission Tomography Image Storage</td>\n      <td>1.2.840.10008.5.1.4.1.1.128</td>\n      <td>223</td>\n      <td>7.58 MB</td>\n      <td>.\\RIDER Lung PET-CT\\RIDER-1172912404\\12-15-200...</td>\n      <td>2021-07-07T22:19:49.764</td>\n    </tr>\n    <tr>\n      <th>69</th>\n      <td>1.3.6.1.4.1.9328.50.17.28880173671501351185240...</td>\n      <td>RIDER Lung PET-CT</td>\n      <td>NaN</td>\n      <td>https://doi.org/10.7937/K9/TCIA.2015.OFIP7TVM</td>\n      <td>RIDER-1172912404</td>\n      <td>1.3.6.1.4.1.9328.50.17.29723960320980340557147...</td>\n      <td>FDG 5AFOV TORSO</td>\n      <td>06-14-2005</td>\n      <td>Recon 2 CTAC 2.5 THICK</td>\n      <td>GE MEDICAL SYSTEMS</td>\n      <td>CT</td>\n      <td>CT Image Storage</td>\n      <td>1.2.840.10008.5.1.4.1.1.2</td>\n      <td>291</td>\n      <td>146.03 MB</td>\n      <td>.\\RIDER Lung PET-CT\\RIDER-1172912404\\06-14-200...</td>\n      <td>2021-07-07T22:30:22.011</td>\n    </tr>\n    <tr>\n      <th>71</th>\n      <td>1.3.6.1.4.1.9328.50.17.10308613002188064065304...</td>\n      <td>RIDER Lung PET-CT</td>\n      <td>NaN</td>\n      <td>https://doi.org/10.7937/K9/TCIA.2015.OFIP7TVM</td>\n      <td>RIDER-1172912404</td>\n      <td>1.3.6.1.4.1.9328.50.17.29723960320980340557147...</td>\n      <td>FDG 5AFOV TORSO</td>\n      <td>06-14-2005</td>\n      <td>PET FDG SUV</td>\n      <td>GE MEDICAL SYSTEMS</td>\n      <td>PT</td>\n      <td>Positron Emission Tomography Image Storage</td>\n      <td>1.2.840.10008.5.1.4.1.1.128</td>\n      <td>223</td>\n      <td>7.59 MB</td>\n      <td>.\\RIDER Lung PET-CT\\RIDER-1172912404\\06-14-200...</td>\n      <td>2021-07-07T22:20:57.592</td>\n    </tr>\n    <tr>\n      <th>90</th>\n      <td>1.3.6.1.4.1.9328.50.17.23846650305435481959640...</td>\n      <td>RIDER Lung PET-CT</td>\n      <td>NaN</td>\n      <td>https://doi.org/10.7937/K9/TCIA.2015.OFIP7TVM</td>\n      <td>RIDER-1284094278</td>\n      <td>1.3.6.1.4.1.9328.50.17.22545924354527867084396...</td>\n      <td>FDG 7 AFOV TORSO</td>\n      <td>11-24-2006</td>\n      <td>CT 2.5MM STD</td>\n      <td>GE MEDICAL SYSTEMS</td>\n      <td>CT</td>\n      <td>CT Image Storage</td>\n      <td>1.2.840.10008.5.1.4.1.1.2</td>\n      <td>358</td>\n      <td>179.67 MB</td>\n      <td>.\\RIDER Lung PET-CT\\RIDER-1284094278\\11-24-200...</td>\n      <td>2021-07-07T22:50:03.194</td>\n    </tr>\n    <tr>\n      <th>...</th>\n      <td>...</td>\n      <td>...</td>\n      <td>...</td>\n      <td>...</td>\n      <td>...</td>\n      <td>...</td>\n      <td>...</td>\n      <td>...</td>\n      <td>...</td>\n      <td>...</td>\n      <td>...</td>\n      <td>...</td>\n      <td>...</td>\n      <td>...</td>\n      <td>...</td>\n      <td>...</td>\n      <td>...</td>\n    </tr>\n    <tr>\n      <th>1287</th>\n      <td>1.3.6.1.4.1.9328.50.17.19429515156664107209992...</td>\n      <td>RIDER Lung PET-CT</td>\n      <td>NaN</td>\n      <td>https://doi.org/10.7937/K9/TCIA.2015.OFIP7TVM</td>\n      <td>RIDER-8054797922</td>\n      <td>1.3.6.1.4.1.9328.50.17.26884175944205502857742...</td>\n      <td>FDG 5AFOV TORSO</td>\n      <td>06-02-2005</td>\n      <td>PET FDG SUV</td>\n      <td>GE MEDICAL SYSTEMS</td>\n      <td>PT</td>\n      <td>Positron Emission Tomography Image Storage</td>\n      <td>1.2.840.10008.5.1.4.1.1.128</td>\n      <td>223</td>\n      <td>7.59 MB</td>\n      <td>.\\RIDER Lung PET-CT\\RIDER-8054797922\\06-02-200...</td>\n      <td>2021-07-08T18:42:24.587</td>\n    </tr>\n    <tr>\n      <th>1290</th>\n      <td>1.3.6.1.4.1.9328.50.17.23927517269629765042831...</td>\n      <td>RIDER Lung PET-CT</td>\n      <td>NaN</td>\n      <td>https://doi.org/10.7937/K9/TCIA.2015.OFIP7TVM</td>\n      <td>RIDER-8054797922</td>\n      <td>1.3.6.1.4.1.9328.50.17.72443068618977843685376...</td>\n      <td>FDG 5AFOV TORSO</td>\n      <td>01-31-2006</td>\n      <td>CT 2.5MM STD</td>\n      <td>GE MEDICAL SYSTEMS</td>\n      <td>CT</td>\n      <td>CT Image Storage</td>\n      <td>1.2.840.10008.5.1.4.1.1.2</td>\n      <td>295</td>\n      <td>148.06 MB</td>\n      <td>.\\RIDER Lung PET-CT\\RIDER-8054797922\\01-31-200...</td>\n      <td>2021-07-08T19:05:28.415</td>\n    </tr>\n    <tr>\n      <th>1293</th>\n      <td>1.3.6.1.4.1.9328.50.17.16650979549258755223925...</td>\n      <td>RIDER Lung PET-CT</td>\n      <td>NaN</td>\n      <td>https://doi.org/10.7937/K9/TCIA.2015.OFIP7TVM</td>\n      <td>RIDER-8054797922</td>\n      <td>1.3.6.1.4.1.9328.50.17.72443068618977843685376...</td>\n      <td>FDG 5AFOV TORSO</td>\n      <td>01-31-2006</td>\n      <td>PET FDG SUV</td>\n      <td>GE MEDICAL SYSTEMS</td>\n      <td>PT</td>\n      <td>Positron Emission Tomography Image Storage</td>\n      <td>1.2.840.10008.5.1.4.1.1.128</td>\n      <td>223</td>\n      <td>7.59 MB</td>\n      <td>.\\RIDER Lung PET-CT\\RIDER-8054797922\\01-31-200...</td>\n      <td>2021-07-08T18:51:02.864</td>\n    </tr>\n    <tr>\n      <th>1322</th>\n      <td>1.3.6.1.4.1.9328.50.17.11527879251296425726955...</td>\n      <td>RIDER Lung PET-CT</td>\n      <td>NaN</td>\n      <td>https://doi.org/10.7937/K9/TCIA.2015.OFIP7TVM</td>\n      <td>RIDER-9640765801</td>\n      <td>1.3.6.1.4.1.9328.50.17.11844132793672058035829...</td>\n      <td>FDG 6AFOV TORSO</td>\n      <td>02-02-2006</td>\n      <td>CT 2.5MM STD</td>\n      <td>GE MEDICAL SYSTEMS</td>\n      <td>CT</td>\n      <td>CT Image Storage</td>\n      <td>1.2.840.10008.5.1.4.1.1.2</td>\n      <td>355</td>\n      <td>178.18 MB</td>\n      <td>.\\RIDER Lung PET-CT\\RIDER-9640765801\\02-02-200...</td>\n      <td>2021-07-08T19:42:54.418</td>\n    </tr>\n    <tr>\n      <th>1326</th>\n      <td>1.3.6.1.4.1.9328.50.17.10888495592818845871887...</td>\n      <td>RIDER Lung PET-CT</td>\n      <td>NaN</td>\n      <td>https://doi.org/10.7937/K9/TCIA.2015.OFIP7TVM</td>\n      <td>RIDER-9640765801</td>\n      <td>1.3.6.1.4.1.9328.50.17.11844132793672058035829...</td>\n      <td>FDG 6AFOV TORSO</td>\n      <td>02-02-2006</td>\n      <td>PET FDG SUV</td>\n      <td>GE MEDICAL SYSTEMS</td>\n      <td>PT</td>\n      <td>Positron Emission Tomography Image Storage</td>\n      <td>1.2.840.10008.5.1.4.1.1.128</td>\n      <td>267</td>\n      <td>9.08 MB</td>\n      <td>.\\RIDER Lung PET-CT\\RIDER-9640765801\\02-02-200...</td>\n      <td>2021-07-08T19:34:45.372</td>\n    </tr>\n  </tbody>\n</table>\n<p>110 rows × 17 columns</p>\n</div>"
     },
     "metadata": {},
     "execution_count": 34
    }
   ],
   "source": [
    "study_bool = (new_metadata['Study Description'].isin(STUDY_IDX))\n",
    "series_bool = (new_metadata['Series Description'].isin(SERIES_IDX))\n",
    "alter_bool = (new_metadata['Series Description'].isin(CT_ALTER_IDX))\n",
    "new_metadata[study_bool & (series_bool|alter_bool)]"
   ]
  },
  {
   "source": [
    "#### b. Pair Check"
   ],
   "cell_type": "markdown",
   "metadata": {}
  },
  {
   "cell_type": "code",
   "execution_count": 73,
   "metadata": {},
   "outputs": [
    {
     "output_type": "execute_result",
     "data": {
      "text/plain": [
       "Subject ID        Study UID                                                     \n",
       "RIDER-2617411955  1.3.6.1.4.1.9328.50.17.136661214566929734487449468532449408407    3\n",
       "RIDER-2736200846  1.3.6.1.4.1.9328.50.17.321263577298382633781490600655417749542    3\n",
       "dtype: int64"
      ]
     },
     "metadata": {},
     "execution_count": 73
    }
   ],
   "source": [
    "# Validation\n",
    "pair_metadata = new_metadata[study_bool & (series_bool|alter_bool)]\n",
    "pair_size = pair_metadata.groupby(['Subject ID', 'Study UID']).size()\n",
    "pair_size[pair_size!=2]"
   ]
  },
  {
   "cell_type": "code",
   "execution_count": 54,
   "metadata": {},
   "outputs": [
    {
     "output_type": "execute_result",
     "data": {
      "text/plain": [
       "Subject ID        Study UID                                                       Modality\n",
       "RIDER-2617411955  1.3.6.1.4.1.9328.50.17.136661214566929734487449468532449408407  PT          2\n",
       "RIDER-2736200846  1.3.6.1.4.1.9328.50.17.321263577298382633781490600655417749542  PT          2\n",
       "dtype: int64"
      ]
     },
     "metadata": {},
     "execution_count": 54
    }
   ],
   "source": [
    "# Check Doublet Modality\r\n",
    "mode_size = pair_metadata.groupby(['Subject ID', 'Study UID', 'Modality']).size()\r\n",
    "mode_size[mode_size!=1]"
   ]
  },
  {
   "cell_type": "code",
   "execution_count": 74,
   "metadata": {
    "tags": []
   },
   "outputs": [
    {
     "output_type": "stream",
     "name": "stdout",
     "text": [
      "           Subject ID  Study Description Series Description  Number of Images\n761  RIDER-2617411955  PET CT WHOLE BODY       CT 2.5MM STD               303\n771  RIDER-2617411955  PET CT WHOLE BODY        PET FDG SUV               223\n774  RIDER-2617411955  PET CT WHOLE BODY        PET FDG SUV               267\n           Subject ID Study Description Series Description  Number of Images\n787  RIDER-2736200846   FDG 5AFOV TORSO       CT 2.5MM STD               338\n795  RIDER-2736200846   FDG 5AFOV TORSO        PET FDG SUV               135\n798  RIDER-2736200846   FDG 5AFOV TORSO        PET FDG SUV               267\n"
     ]
    }
   ],
   "source": [
    "# Check Triplet Data\n",
    "for subject, study in pair_size[pair_size!=2].index:\n",
    "    print(pair_metadata[(pair_metadata['Subject ID']==subject) & (pair_metadata['Study UID']==study)][['Subject ID', 'Study Description', 'Series Description', 'Number of Images']])"
   ]
  },
  {
   "cell_type": "code",
   "execution_count": 82,
   "metadata": {},
   "outputs": [
    {
     "output_type": "execute_result",
     "data": {
      "text/plain": [
       "                                             Series UID         Collection  \\\n",
       "62    1.3.6.1.4.1.9328.50.17.23500193269190786828912...  RIDER Lung PET-CT   \n",
       "65    1.3.6.1.4.1.9328.50.17.71370567559995220330016...  RIDER Lung PET-CT   \n",
       "69    1.3.6.1.4.1.9328.50.17.28880173671501351185240...  RIDER Lung PET-CT   \n",
       "71    1.3.6.1.4.1.9328.50.17.10308613002188064065304...  RIDER Lung PET-CT   \n",
       "90    1.3.6.1.4.1.9328.50.17.23846650305435481959640...  RIDER Lung PET-CT   \n",
       "...                                                 ...                ...   \n",
       "1287  1.3.6.1.4.1.9328.50.17.19429515156664107209992...  RIDER Lung PET-CT   \n",
       "1290  1.3.6.1.4.1.9328.50.17.23927517269629765042831...  RIDER Lung PET-CT   \n",
       "1293  1.3.6.1.4.1.9328.50.17.16650979549258755223925...  RIDER Lung PET-CT   \n",
       "1322  1.3.6.1.4.1.9328.50.17.11527879251296425726955...  RIDER Lung PET-CT   \n",
       "1326  1.3.6.1.4.1.9328.50.17.10888495592818845871887...  RIDER Lung PET-CT   \n",
       "\n",
       "      3rd Party Analysis                           Data Description URI  \\\n",
       "62                   NaN  https://doi.org/10.7937/K9/TCIA.2015.OFIP7TVM   \n",
       "65                   NaN  https://doi.org/10.7937/K9/TCIA.2015.OFIP7TVM   \n",
       "69                   NaN  https://doi.org/10.7937/K9/TCIA.2015.OFIP7TVM   \n",
       "71                   NaN  https://doi.org/10.7937/K9/TCIA.2015.OFIP7TVM   \n",
       "90                   NaN  https://doi.org/10.7937/K9/TCIA.2015.OFIP7TVM   \n",
       "...                  ...                                            ...   \n",
       "1287                 NaN  https://doi.org/10.7937/K9/TCIA.2015.OFIP7TVM   \n",
       "1290                 NaN  https://doi.org/10.7937/K9/TCIA.2015.OFIP7TVM   \n",
       "1293                 NaN  https://doi.org/10.7937/K9/TCIA.2015.OFIP7TVM   \n",
       "1322                 NaN  https://doi.org/10.7937/K9/TCIA.2015.OFIP7TVM   \n",
       "1326                 NaN  https://doi.org/10.7937/K9/TCIA.2015.OFIP7TVM   \n",
       "\n",
       "            Subject ID                                          Study UID  \\\n",
       "62    RIDER-1172912404  1.3.6.1.4.1.9328.50.17.24892338155574864998303...   \n",
       "65    RIDER-1172912404  1.3.6.1.4.1.9328.50.17.24892338155574864998303...   \n",
       "69    RIDER-1172912404  1.3.6.1.4.1.9328.50.17.29723960320980340557147...   \n",
       "71    RIDER-1172912404  1.3.6.1.4.1.9328.50.17.29723960320980340557147...   \n",
       "90    RIDER-1284094278  1.3.6.1.4.1.9328.50.17.22545924354527867084396...   \n",
       "...                ...                                                ...   \n",
       "1287  RIDER-8054797922  1.3.6.1.4.1.9328.50.17.26884175944205502857742...   \n",
       "1290  RIDER-8054797922  1.3.6.1.4.1.9328.50.17.72443068618977843685376...   \n",
       "1293  RIDER-8054797922  1.3.6.1.4.1.9328.50.17.72443068618977843685376...   \n",
       "1322  RIDER-9640765801  1.3.6.1.4.1.9328.50.17.11844132793672058035829...   \n",
       "1326  RIDER-9640765801  1.3.6.1.4.1.9328.50.17.11844132793672058035829...   \n",
       "\n",
       "     Study Description  Study Date      Series Description  \\\n",
       "62     FDG 5AFOV TORSO  12-15-2005            CT 2.5MM STD   \n",
       "65     FDG 5AFOV TORSO  12-15-2005             PET FDG SUV   \n",
       "69     FDG 5AFOV TORSO  06-14-2005  Recon 2 CTAC 2.5 THICK   \n",
       "71     FDG 5AFOV TORSO  06-14-2005             PET FDG SUV   \n",
       "90    FDG 7 AFOV TORSO  11-24-2006            CT 2.5MM STD   \n",
       "...                ...         ...                     ...   \n",
       "1287   FDG 5AFOV TORSO  06-02-2005             PET FDG SUV   \n",
       "1290   FDG 5AFOV TORSO  01-31-2006            CT 2.5MM STD   \n",
       "1293   FDG 5AFOV TORSO  01-31-2006             PET FDG SUV   \n",
       "1322   FDG 6AFOV TORSO  02-02-2006            CT 2.5MM STD   \n",
       "1326   FDG 6AFOV TORSO  02-02-2006             PET FDG SUV   \n",
       "\n",
       "            Manufacturer Modality                              SOP Class Name  \\\n",
       "62    GE MEDICAL SYSTEMS       CT                            CT Image Storage   \n",
       "65    GE MEDICAL SYSTEMS       PT  Positron Emission Tomography Image Storage   \n",
       "69    GE MEDICAL SYSTEMS       CT                            CT Image Storage   \n",
       "71    GE MEDICAL SYSTEMS       PT  Positron Emission Tomography Image Storage   \n",
       "90    GE MEDICAL SYSTEMS       CT                            CT Image Storage   \n",
       "...                  ...      ...                                         ...   \n",
       "1287  GE MEDICAL SYSTEMS       PT  Positron Emission Tomography Image Storage   \n",
       "1290  GE MEDICAL SYSTEMS       CT                            CT Image Storage   \n",
       "1293  GE MEDICAL SYSTEMS       PT  Positron Emission Tomography Image Storage   \n",
       "1322  GE MEDICAL SYSTEMS       CT                            CT Image Storage   \n",
       "1326  GE MEDICAL SYSTEMS       PT  Positron Emission Tomography Image Storage   \n",
       "\n",
       "                    SOP Class UID  Number of Images  File Size  \\\n",
       "62      1.2.840.10008.5.1.4.1.1.2               290  145.55 MB   \n",
       "65    1.2.840.10008.5.1.4.1.1.128               223    7.58 MB   \n",
       "69      1.2.840.10008.5.1.4.1.1.2               291  146.03 MB   \n",
       "71    1.2.840.10008.5.1.4.1.1.128               223    7.59 MB   \n",
       "90      1.2.840.10008.5.1.4.1.1.2               358  179.67 MB   \n",
       "...                           ...               ...        ...   \n",
       "1287  1.2.840.10008.5.1.4.1.1.128               223    7.59 MB   \n",
       "1290    1.2.840.10008.5.1.4.1.1.2               295  148.06 MB   \n",
       "1293  1.2.840.10008.5.1.4.1.1.128               223    7.59 MB   \n",
       "1322    1.2.840.10008.5.1.4.1.1.2               355  178.18 MB   \n",
       "1326  1.2.840.10008.5.1.4.1.1.128               267    9.08 MB   \n",
       "\n",
       "                                          File Location  \\\n",
       "62    .\\RIDER Lung PET-CT\\RIDER-1172912404\\12-15-200...   \n",
       "65    .\\RIDER Lung PET-CT\\RIDER-1172912404\\12-15-200...   \n",
       "69    .\\RIDER Lung PET-CT\\RIDER-1172912404\\06-14-200...   \n",
       "71    .\\RIDER Lung PET-CT\\RIDER-1172912404\\06-14-200...   \n",
       "90    .\\RIDER Lung PET-CT\\RIDER-1284094278\\11-24-200...   \n",
       "...                                                 ...   \n",
       "1287  .\\RIDER Lung PET-CT\\RIDER-8054797922\\06-02-200...   \n",
       "1290  .\\RIDER Lung PET-CT\\RIDER-8054797922\\01-31-200...   \n",
       "1293  .\\RIDER Lung PET-CT\\RIDER-8054797922\\01-31-200...   \n",
       "1322  .\\RIDER Lung PET-CT\\RIDER-9640765801\\02-02-200...   \n",
       "1326  .\\RIDER Lung PET-CT\\RIDER-9640765801\\02-02-200...   \n",
       "\n",
       "           Download Timestamp  \n",
       "62     2021-07-07T22:18:24.46  \n",
       "65    2021-07-07T22:19:49.764  \n",
       "69    2021-07-07T22:30:22.011  \n",
       "71    2021-07-07T22:20:57.592  \n",
       "90    2021-07-07T22:50:03.194  \n",
       "...                       ...  \n",
       "1287  2021-07-08T18:42:24.587  \n",
       "1290  2021-07-08T19:05:28.415  \n",
       "1293  2021-07-08T18:51:02.864  \n",
       "1322  2021-07-08T19:42:54.418  \n",
       "1326  2021-07-08T19:34:45.372  \n",
       "\n",
       "[108 rows x 17 columns]"
      ],
      "text/html": "<div>\n<style scoped>\n    .dataframe tbody tr th:only-of-type {\n        vertical-align: middle;\n    }\n\n    .dataframe tbody tr th {\n        vertical-align: top;\n    }\n\n    .dataframe thead th {\n        text-align: right;\n    }\n</style>\n<table border=\"1\" class=\"dataframe\">\n  <thead>\n    <tr style=\"text-align: right;\">\n      <th></th>\n      <th>Series UID</th>\n      <th>Collection</th>\n      <th>3rd Party Analysis</th>\n      <th>Data Description URI</th>\n      <th>Subject ID</th>\n      <th>Study UID</th>\n      <th>Study Description</th>\n      <th>Study Date</th>\n      <th>Series Description</th>\n      <th>Manufacturer</th>\n      <th>Modality</th>\n      <th>SOP Class Name</th>\n      <th>SOP Class UID</th>\n      <th>Number of Images</th>\n      <th>File Size</th>\n      <th>File Location</th>\n      <th>Download Timestamp</th>\n    </tr>\n  </thead>\n  <tbody>\n    <tr>\n      <th>62</th>\n      <td>1.3.6.1.4.1.9328.50.17.23500193269190786828912...</td>\n      <td>RIDER Lung PET-CT</td>\n      <td>NaN</td>\n      <td>https://doi.org/10.7937/K9/TCIA.2015.OFIP7TVM</td>\n      <td>RIDER-1172912404</td>\n      <td>1.3.6.1.4.1.9328.50.17.24892338155574864998303...</td>\n      <td>FDG 5AFOV TORSO</td>\n      <td>12-15-2005</td>\n      <td>CT 2.5MM STD</td>\n      <td>GE MEDICAL SYSTEMS</td>\n      <td>CT</td>\n      <td>CT Image Storage</td>\n      <td>1.2.840.10008.5.1.4.1.1.2</td>\n      <td>290</td>\n      <td>145.55 MB</td>\n      <td>.\\RIDER Lung PET-CT\\RIDER-1172912404\\12-15-200...</td>\n      <td>2021-07-07T22:18:24.46</td>\n    </tr>\n    <tr>\n      <th>65</th>\n      <td>1.3.6.1.4.1.9328.50.17.71370567559995220330016...</td>\n      <td>RIDER Lung PET-CT</td>\n      <td>NaN</td>\n      <td>https://doi.org/10.7937/K9/TCIA.2015.OFIP7TVM</td>\n      <td>RIDER-1172912404</td>\n      <td>1.3.6.1.4.1.9328.50.17.24892338155574864998303...</td>\n      <td>FDG 5AFOV TORSO</td>\n      <td>12-15-2005</td>\n      <td>PET FDG SUV</td>\n      <td>GE MEDICAL SYSTEMS</td>\n      <td>PT</td>\n      <td>Positron Emission Tomography Image Storage</td>\n      <td>1.2.840.10008.5.1.4.1.1.128</td>\n      <td>223</td>\n      <td>7.58 MB</td>\n      <td>.\\RIDER Lung PET-CT\\RIDER-1172912404\\12-15-200...</td>\n      <td>2021-07-07T22:19:49.764</td>\n    </tr>\n    <tr>\n      <th>69</th>\n      <td>1.3.6.1.4.1.9328.50.17.28880173671501351185240...</td>\n      <td>RIDER Lung PET-CT</td>\n      <td>NaN</td>\n      <td>https://doi.org/10.7937/K9/TCIA.2015.OFIP7TVM</td>\n      <td>RIDER-1172912404</td>\n      <td>1.3.6.1.4.1.9328.50.17.29723960320980340557147...</td>\n      <td>FDG 5AFOV TORSO</td>\n      <td>06-14-2005</td>\n      <td>Recon 2 CTAC 2.5 THICK</td>\n      <td>GE MEDICAL SYSTEMS</td>\n      <td>CT</td>\n      <td>CT Image Storage</td>\n      <td>1.2.840.10008.5.1.4.1.1.2</td>\n      <td>291</td>\n      <td>146.03 MB</td>\n      <td>.\\RIDER Lung PET-CT\\RIDER-1172912404\\06-14-200...</td>\n      <td>2021-07-07T22:30:22.011</td>\n    </tr>\n    <tr>\n      <th>71</th>\n      <td>1.3.6.1.4.1.9328.50.17.10308613002188064065304...</td>\n      <td>RIDER Lung PET-CT</td>\n      <td>NaN</td>\n      <td>https://doi.org/10.7937/K9/TCIA.2015.OFIP7TVM</td>\n      <td>RIDER-1172912404</td>\n      <td>1.3.6.1.4.1.9328.50.17.29723960320980340557147...</td>\n      <td>FDG 5AFOV TORSO</td>\n      <td>06-14-2005</td>\n      <td>PET FDG SUV</td>\n      <td>GE MEDICAL SYSTEMS</td>\n      <td>PT</td>\n      <td>Positron Emission Tomography Image Storage</td>\n      <td>1.2.840.10008.5.1.4.1.1.128</td>\n      <td>223</td>\n      <td>7.59 MB</td>\n      <td>.\\RIDER Lung PET-CT\\RIDER-1172912404\\06-14-200...</td>\n      <td>2021-07-07T22:20:57.592</td>\n    </tr>\n    <tr>\n      <th>90</th>\n      <td>1.3.6.1.4.1.9328.50.17.23846650305435481959640...</td>\n      <td>RIDER Lung PET-CT</td>\n      <td>NaN</td>\n      <td>https://doi.org/10.7937/K9/TCIA.2015.OFIP7TVM</td>\n      <td>RIDER-1284094278</td>\n      <td>1.3.6.1.4.1.9328.50.17.22545924354527867084396...</td>\n      <td>FDG 7 AFOV TORSO</td>\n      <td>11-24-2006</td>\n      <td>CT 2.5MM STD</td>\n      <td>GE MEDICAL SYSTEMS</td>\n      <td>CT</td>\n      <td>CT Image Storage</td>\n      <td>1.2.840.10008.5.1.4.1.1.2</td>\n      <td>358</td>\n      <td>179.67 MB</td>\n      <td>.\\RIDER Lung PET-CT\\RIDER-1284094278\\11-24-200...</td>\n      <td>2021-07-07T22:50:03.194</td>\n    </tr>\n    <tr>\n      <th>...</th>\n      <td>...</td>\n      <td>...</td>\n      <td>...</td>\n      <td>...</td>\n      <td>...</td>\n      <td>...</td>\n      <td>...</td>\n      <td>...</td>\n      <td>...</td>\n      <td>...</td>\n      <td>...</td>\n      <td>...</td>\n      <td>...</td>\n      <td>...</td>\n      <td>...</td>\n      <td>...</td>\n      <td>...</td>\n    </tr>\n    <tr>\n      <th>1287</th>\n      <td>1.3.6.1.4.1.9328.50.17.19429515156664107209992...</td>\n      <td>RIDER Lung PET-CT</td>\n      <td>NaN</td>\n      <td>https://doi.org/10.7937/K9/TCIA.2015.OFIP7TVM</td>\n      <td>RIDER-8054797922</td>\n      <td>1.3.6.1.4.1.9328.50.17.26884175944205502857742...</td>\n      <td>FDG 5AFOV TORSO</td>\n      <td>06-02-2005</td>\n      <td>PET FDG SUV</td>\n      <td>GE MEDICAL SYSTEMS</td>\n      <td>PT</td>\n      <td>Positron Emission Tomography Image Storage</td>\n      <td>1.2.840.10008.5.1.4.1.1.128</td>\n      <td>223</td>\n      <td>7.59 MB</td>\n      <td>.\\RIDER Lung PET-CT\\RIDER-8054797922\\06-02-200...</td>\n      <td>2021-07-08T18:42:24.587</td>\n    </tr>\n    <tr>\n      <th>1290</th>\n      <td>1.3.6.1.4.1.9328.50.17.23927517269629765042831...</td>\n      <td>RIDER Lung PET-CT</td>\n      <td>NaN</td>\n      <td>https://doi.org/10.7937/K9/TCIA.2015.OFIP7TVM</td>\n      <td>RIDER-8054797922</td>\n      <td>1.3.6.1.4.1.9328.50.17.72443068618977843685376...</td>\n      <td>FDG 5AFOV TORSO</td>\n      <td>01-31-2006</td>\n      <td>CT 2.5MM STD</td>\n      <td>GE MEDICAL SYSTEMS</td>\n      <td>CT</td>\n      <td>CT Image Storage</td>\n      <td>1.2.840.10008.5.1.4.1.1.2</td>\n      <td>295</td>\n      <td>148.06 MB</td>\n      <td>.\\RIDER Lung PET-CT\\RIDER-8054797922\\01-31-200...</td>\n      <td>2021-07-08T19:05:28.415</td>\n    </tr>\n    <tr>\n      <th>1293</th>\n      <td>1.3.6.1.4.1.9328.50.17.16650979549258755223925...</td>\n      <td>RIDER Lung PET-CT</td>\n      <td>NaN</td>\n      <td>https://doi.org/10.7937/K9/TCIA.2015.OFIP7TVM</td>\n      <td>RIDER-8054797922</td>\n      <td>1.3.6.1.4.1.9328.50.17.72443068618977843685376...</td>\n      <td>FDG 5AFOV TORSO</td>\n      <td>01-31-2006</td>\n      <td>PET FDG SUV</td>\n      <td>GE MEDICAL SYSTEMS</td>\n      <td>PT</td>\n      <td>Positron Emission Tomography Image Storage</td>\n      <td>1.2.840.10008.5.1.4.1.1.128</td>\n      <td>223</td>\n      <td>7.59 MB</td>\n      <td>.\\RIDER Lung PET-CT\\RIDER-8054797922\\01-31-200...</td>\n      <td>2021-07-08T18:51:02.864</td>\n    </tr>\n    <tr>\n      <th>1322</th>\n      <td>1.3.6.1.4.1.9328.50.17.11527879251296425726955...</td>\n      <td>RIDER Lung PET-CT</td>\n      <td>NaN</td>\n      <td>https://doi.org/10.7937/K9/TCIA.2015.OFIP7TVM</td>\n      <td>RIDER-9640765801</td>\n      <td>1.3.6.1.4.1.9328.50.17.11844132793672058035829...</td>\n      <td>FDG 6AFOV TORSO</td>\n      <td>02-02-2006</td>\n      <td>CT 2.5MM STD</td>\n      <td>GE MEDICAL SYSTEMS</td>\n      <td>CT</td>\n      <td>CT Image Storage</td>\n      <td>1.2.840.10008.5.1.4.1.1.2</td>\n      <td>355</td>\n      <td>178.18 MB</td>\n      <td>.\\RIDER Lung PET-CT\\RIDER-9640765801\\02-02-200...</td>\n      <td>2021-07-08T19:42:54.418</td>\n    </tr>\n    <tr>\n      <th>1326</th>\n      <td>1.3.6.1.4.1.9328.50.17.10888495592818845871887...</td>\n      <td>RIDER Lung PET-CT</td>\n      <td>NaN</td>\n      <td>https://doi.org/10.7937/K9/TCIA.2015.OFIP7TVM</td>\n      <td>RIDER-9640765801</td>\n      <td>1.3.6.1.4.1.9328.50.17.11844132793672058035829...</td>\n      <td>FDG 6AFOV TORSO</td>\n      <td>02-02-2006</td>\n      <td>PET FDG SUV</td>\n      <td>GE MEDICAL SYSTEMS</td>\n      <td>PT</td>\n      <td>Positron Emission Tomography Image Storage</td>\n      <td>1.2.840.10008.5.1.4.1.1.128</td>\n      <td>267</td>\n      <td>9.08 MB</td>\n      <td>.\\RIDER Lung PET-CT\\RIDER-9640765801\\02-02-200...</td>\n      <td>2021-07-08T19:34:45.372</td>\n    </tr>\n  </tbody>\n</table>\n<p>108 rows × 17 columns</p>\n</div>"
     },
     "metadata": {},
     "execution_count": 82
    }
   ],
   "source": [
    "# Delete Index\n",
    "EXCEPT_IDX = [774, 795]\n",
    "repair_metadata = pair_metadata[~pair_metadata.index.isin(EXCEPT_IDX)]\n",
    "repair_metadata"
   ]
  },
  {
   "source": [
    "#### c. File Length Check"
   ],
   "cell_type": "markdown",
   "metadata": {}
  },
  {
   "cell_type": "code",
   "execution_count": 80,
   "metadata": {},
   "outputs": [
    {
     "output_type": "display_data",
     "data": {
      "text/plain": "<Figure size 720x360 with 2 Axes>",
      "image/svg+xml": "<?xml version=\"1.0\" encoding=\"utf-8\" standalone=\"no\"?>\r\n<!DOCTYPE svg PUBLIC \"-//W3C//DTD SVG 1.1//EN\"\r\n  \"http://www.w3.org/Graphics/SVG/1.1/DTD/svg11.dtd\">\r\n<svg height=\"354.75625pt\" version=\"1.1\" viewBox=\"0 0 672.803125 354.75625\" width=\"672.803125pt\" xmlns=\"http://www.w3.org/2000/svg\" xmlns:xlink=\"http://www.w3.org/1999/xlink\">\r\n <metadata>\r\n  <rdf:RDF xmlns:cc=\"http://creativecommons.org/ns#\" xmlns:dc=\"http://purl.org/dc/elements/1.1/\" xmlns:rdf=\"http://www.w3.org/1999/02/22-rdf-syntax-ns#\">\r\n   <cc:Work>\r\n    <dc:type rdf:resource=\"http://purl.org/dc/dcmitype/StillImage\"/>\r\n    <dc:date>2021-07-09T23:53:45.850951</dc:date>\r\n    <dc:format>image/svg+xml</dc:format>\r\n    <dc:creator>\r\n     <cc:Agent>\r\n      <dc:title>Matplotlib v3.4.2, https://matplotlib.org/</dc:title>\r\n     </cc:Agent>\r\n    </dc:creator>\r\n   </cc:Work>\r\n  </rdf:RDF>\r\n </metadata>\r\n <defs>\r\n  <style type=\"text/css\">*{stroke-linecap:butt;stroke-linejoin:round;}</style>\r\n </defs>\r\n <g id=\"figure_1\">\r\n  <g id=\"patch_1\">\r\n   <path d=\"M 0 354.75625 \r\nL 672.803125 354.75625 \r\nL 672.803125 0 \r\nL 0 0 \r\nz\r\n\" style=\"fill:none;\"/>\r\n  </g>\r\n  <g id=\"axes_1\">\r\n   <g id=\"patch_2\">\r\n    <path d=\"M 40.603125 317.2 \r\nL 294.239489 317.2 \r\nL 294.239489 45.4 \r\nL 40.603125 45.4 \r\nz\r\n\" style=\"fill:#ffffff;\"/>\r\n   </g>\r\n   <g id=\"patch_3\">\r\n    <path clip-path=\"url(#p48d8b951df)\" d=\"M 52.132051 317.2 \r\nL 63.660976 317.2 \r\nL 63.660976 310.009524 \r\nL 52.132051 310.009524 \r\nz\r\n\" style=\"fill:#0000ff;fill-opacity:0.75;stroke:#000000;stroke-linejoin:miter;\"/>\r\n   </g>\r\n   <g id=\"patch_4\">\r\n    <path clip-path=\"url(#p48d8b951df)\" d=\"M 63.660976 317.2 \r\nL 75.189902 317.2 \r\nL 75.189902 317.2 \r\nL 63.660976 317.2 \r\nz\r\n\" style=\"fill:#0000ff;fill-opacity:0.75;stroke:#000000;stroke-linejoin:miter;\"/>\r\n   </g>\r\n   <g id=\"patch_5\">\r\n    <path clip-path=\"url(#p48d8b951df)\" d=\"M 75.189902 317.2 \r\nL 86.718827 317.2 \r\nL 86.718827 317.2 \r\nL 75.189902 317.2 \r\nz\r\n\" style=\"fill:#0000ff;fill-opacity:0.75;stroke:#000000;stroke-linejoin:miter;\"/>\r\n   </g>\r\n   <g id=\"patch_6\">\r\n    <path clip-path=\"url(#p48d8b951df)\" d=\"M 86.718827 317.2 \r\nL 98.247753 317.2 \r\nL 98.247753 317.2 \r\nL 86.718827 317.2 \r\nz\r\n\" style=\"fill:#0000ff;fill-opacity:0.75;stroke:#000000;stroke-linejoin:miter;\"/>\r\n   </g>\r\n   <g id=\"patch_7\">\r\n    <path clip-path=\"url(#p48d8b951df)\" d=\"M 98.247753 317.2 \r\nL 109.776679 317.2 \r\nL 109.776679 317.2 \r\nL 98.247753 317.2 \r\nz\r\n\" style=\"fill:#0000ff;fill-opacity:0.75;stroke:#000000;stroke-linejoin:miter;\"/>\r\n   </g>\r\n   <g id=\"patch_8\">\r\n    <path clip-path=\"url(#p48d8b951df)\" d=\"M 109.776679 317.2 \r\nL 121.305604 317.2 \r\nL 121.305604 317.2 \r\nL 109.776679 317.2 \r\nz\r\n\" style=\"fill:#0000ff;fill-opacity:0.75;stroke:#000000;stroke-linejoin:miter;\"/>\r\n   </g>\r\n   <g id=\"patch_9\">\r\n    <path clip-path=\"url(#p48d8b951df)\" d=\"M 121.305604 317.2 \r\nL 132.83453 317.2 \r\nL 132.83453 317.2 \r\nL 121.305604 317.2 \r\nz\r\n\" style=\"fill:#0000ff;fill-opacity:0.75;stroke:#000000;stroke-linejoin:miter;\"/>\r\n   </g>\r\n   <g id=\"patch_10\">\r\n    <path clip-path=\"url(#p48d8b951df)\" d=\"M 132.83453 317.2 \r\nL 144.363456 317.2 \r\nL 144.363456 317.2 \r\nL 132.83453 317.2 \r\nz\r\n\" style=\"fill:#0000ff;fill-opacity:0.75;stroke:#000000;stroke-linejoin:miter;\"/>\r\n   </g>\r\n   <g id=\"patch_11\">\r\n    <path clip-path=\"url(#p48d8b951df)\" d=\"M 144.363456 317.2 \r\nL 155.892381 317.2 \r\nL 155.892381 317.2 \r\nL 144.363456 317.2 \r\nz\r\n\" style=\"fill:#0000ff;fill-opacity:0.75;stroke:#000000;stroke-linejoin:miter;\"/>\r\n   </g>\r\n   <g id=\"patch_12\">\r\n    <path clip-path=\"url(#p48d8b951df)\" d=\"M 155.892381 317.2 \r\nL 167.421307 317.2 \r\nL 167.421307 317.2 \r\nL 155.892381 317.2 \r\nz\r\n\" style=\"fill:#0000ff;fill-opacity:0.75;stroke:#000000;stroke-linejoin:miter;\"/>\r\n   </g>\r\n   <g id=\"patch_13\">\r\n    <path clip-path=\"url(#p48d8b951df)\" d=\"M 167.421307 317.2 \r\nL 178.950232 317.2 \r\nL 178.950232 317.2 \r\nL 167.421307 317.2 \r\nz\r\n\" style=\"fill:#0000ff;fill-opacity:0.75;stroke:#000000;stroke-linejoin:miter;\"/>\r\n   </g>\r\n   <g id=\"patch_14\">\r\n    <path clip-path=\"url(#p48d8b951df)\" d=\"M 178.950232 317.2 \r\nL 190.479158 317.2 \r\nL 190.479158 310.009524 \r\nL 178.950232 310.009524 \r\nz\r\n\" style=\"fill:#0000ff;fill-opacity:0.75;stroke:#000000;stroke-linejoin:miter;\"/>\r\n   </g>\r\n   <g id=\"patch_15\">\r\n    <path clip-path=\"url(#p48d8b951df)\" d=\"M 190.479158 317.2 \r\nL 202.008084 317.2 \r\nL 202.008084 317.2 \r\nL 190.479158 317.2 \r\nz\r\n\" style=\"fill:#0000ff;fill-opacity:0.75;stroke:#000000;stroke-linejoin:miter;\"/>\r\n   </g>\r\n   <g id=\"patch_16\">\r\n    <path clip-path=\"url(#p48d8b951df)\" d=\"M 202.008084 317.2 \r\nL 213.537009 317.2 \r\nL 213.537009 317.2 \r\nL 202.008084 317.2 \r\nz\r\n\" style=\"fill:#0000ff;fill-opacity:0.75;stroke:#000000;stroke-linejoin:miter;\"/>\r\n   </g>\r\n   <g id=\"patch_17\">\r\n    <path clip-path=\"url(#p48d8b951df)\" d=\"M 213.537009 317.2 \r\nL 225.065935 317.2 \r\nL 225.065935 317.2 \r\nL 213.537009 317.2 \r\nz\r\n\" style=\"fill:#0000ff;fill-opacity:0.75;stroke:#000000;stroke-linejoin:miter;\"/>\r\n   </g>\r\n   <g id=\"patch_18\">\r\n    <path clip-path=\"url(#p48d8b951df)\" d=\"M 225.065935 317.2 \r\nL 236.594861 317.2 \r\nL 236.594861 58.342857 \r\nL 225.065935 58.342857 \r\nz\r\n\" style=\"fill:#0000ff;fill-opacity:0.75;stroke:#000000;stroke-linejoin:miter;\"/>\r\n   </g>\r\n   <g id=\"patch_19\">\r\n    <path clip-path=\"url(#p48d8b951df)\" d=\"M 236.594861 317.2 \r\nL 248.123786 317.2 \r\nL 248.123786 281.247619 \r\nL 236.594861 281.247619 \r\nz\r\n\" style=\"fill:#0000ff;fill-opacity:0.75;stroke:#000000;stroke-linejoin:miter;\"/>\r\n   </g>\r\n   <g id=\"patch_20\">\r\n    <path clip-path=\"url(#p48d8b951df)\" d=\"M 248.123786 317.2 \r\nL 259.652712 317.2 \r\nL 259.652712 317.2 \r\nL 248.123786 317.2 \r\nz\r\n\" style=\"fill:#0000ff;fill-opacity:0.75;stroke:#000000;stroke-linejoin:miter;\"/>\r\n   </g>\r\n   <g id=\"patch_21\">\r\n    <path clip-path=\"url(#p48d8b951df)\" d=\"M 259.652712 317.2 \r\nL 271.181637 317.2 \r\nL 271.181637 310.009524 \r\nL 259.652712 310.009524 \r\nz\r\n\" style=\"fill:#0000ff;fill-opacity:0.75;stroke:#000000;stroke-linejoin:miter;\"/>\r\n   </g>\r\n   <g id=\"patch_22\">\r\n    <path clip-path=\"url(#p48d8b951df)\" d=\"M 271.181637 317.2 \r\nL 282.710563 317.2 \r\nL 282.710563 245.295238 \r\nL 271.181637 245.295238 \r\nz\r\n\" style=\"fill:#0000ff;fill-opacity:0.75;stroke:#000000;stroke-linejoin:miter;\"/>\r\n   </g>\r\n   <g id=\"matplotlib.axis_1\">\r\n    <g id=\"xtick_1\">\r\n     <g id=\"line2d_1\">\r\n      <defs>\r\n       <path d=\"M 0 0 \r\nL 0 3.5 \r\n\" id=\"mb27d724326\" style=\"stroke:#000000;stroke-width:0.8;\"/>\r\n      </defs>\r\n      <g>\r\n       <use style=\"stroke:#000000;stroke-width:0.8;\" x=\"41.26303\" xlink:href=\"#mb27d724326\" y=\"317.2\"/>\r\n      </g>\r\n     </g>\r\n     <g id=\"text_1\">\r\n      <!-- 50 -->\r\n      <g transform=\"translate(34.90053 331.798437)scale(0.1 -0.1)\">\r\n       <defs>\r\n        <path d=\"M 691 4666 \r\nL 3169 4666 \r\nL 3169 4134 \r\nL 1269 4134 \r\nL 1269 2991 \r\nQ 1406 3038 1543 3061 \r\nQ 1681 3084 1819 3084 \r\nQ 2600 3084 3056 2656 \r\nQ 3513 2228 3513 1497 \r\nQ 3513 744 3044 326 \r\nQ 2575 -91 1722 -91 \r\nQ 1428 -91 1123 -41 \r\nQ 819 9 494 109 \r\nL 494 744 \r\nQ 775 591 1075 516 \r\nQ 1375 441 1709 441 \r\nQ 2250 441 2565 725 \r\nQ 2881 1009 2881 1497 \r\nQ 2881 1984 2565 2268 \r\nQ 2250 2553 1709 2553 \r\nQ 1456 2553 1204 2497 \r\nQ 953 2441 691 2322 \r\nL 691 4666 \r\nz\r\n\" id=\"DejaVuSans-35\" transform=\"scale(0.015625)\"/>\r\n        <path d=\"M 2034 4250 \r\nQ 1547 4250 1301 3770 \r\nQ 1056 3291 1056 2328 \r\nQ 1056 1369 1301 889 \r\nQ 1547 409 2034 409 \r\nQ 2525 409 2770 889 \r\nQ 3016 1369 3016 2328 \r\nQ 3016 3291 2770 3770 \r\nQ 2525 4250 2034 4250 \r\nz\r\nM 2034 4750 \r\nQ 2819 4750 3233 4129 \r\nQ 3647 3509 3647 2328 \r\nQ 3647 1150 3233 529 \r\nQ 2819 -91 2034 -91 \r\nQ 1250 -91 836 529 \r\nQ 422 1150 422 2328 \r\nQ 422 3509 836 4129 \r\nQ 1250 4750 2034 4750 \r\nz\r\n\" id=\"DejaVuSans-30\" transform=\"scale(0.015625)\"/>\r\n       </defs>\r\n       <use xlink:href=\"#DejaVuSans-35\"/>\r\n       <use x=\"63.623047\" xlink:href=\"#DejaVuSans-30\"/>\r\n      </g>\r\n     </g>\r\n    </g>\r\n    <g id=\"xtick_2\">\r\n     <g id=\"line2d_2\">\r\n      <g>\r\n       <use style=\"stroke:#000000;stroke-width:0.8;\" x=\"80.080961\" xlink:href=\"#mb27d724326\" y=\"317.2\"/>\r\n      </g>\r\n     </g>\r\n     <g id=\"text_2\">\r\n      <!-- 100 -->\r\n      <g transform=\"translate(70.537211 331.798437)scale(0.1 -0.1)\">\r\n       <defs>\r\n        <path d=\"M 794 531 \r\nL 1825 531 \r\nL 1825 4091 \r\nL 703 3866 \r\nL 703 4441 \r\nL 1819 4666 \r\nL 2450 4666 \r\nL 2450 531 \r\nL 3481 531 \r\nL 3481 0 \r\nL 794 0 \r\nL 794 531 \r\nz\r\n\" id=\"DejaVuSans-31\" transform=\"scale(0.015625)\"/>\r\n       </defs>\r\n       <use xlink:href=\"#DejaVuSans-31\"/>\r\n       <use x=\"63.623047\" xlink:href=\"#DejaVuSans-30\"/>\r\n       <use x=\"127.246094\" xlink:href=\"#DejaVuSans-30\"/>\r\n      </g>\r\n     </g>\r\n    </g>\r\n    <g id=\"xtick_3\">\r\n     <g id=\"line2d_3\">\r\n      <g>\r\n       <use style=\"stroke:#000000;stroke-width:0.8;\" x=\"118.898893\" xlink:href=\"#mb27d724326\" y=\"317.2\"/>\r\n      </g>\r\n     </g>\r\n     <g id=\"text_3\">\r\n      <!-- 150 -->\r\n      <g transform=\"translate(109.355143 331.798437)scale(0.1 -0.1)\">\r\n       <use xlink:href=\"#DejaVuSans-31\"/>\r\n       <use x=\"63.623047\" xlink:href=\"#DejaVuSans-35\"/>\r\n       <use x=\"127.246094\" xlink:href=\"#DejaVuSans-30\"/>\r\n      </g>\r\n     </g>\r\n    </g>\r\n    <g id=\"xtick_4\">\r\n     <g id=\"line2d_4\">\r\n      <g>\r\n       <use style=\"stroke:#000000;stroke-width:0.8;\" x=\"157.716824\" xlink:href=\"#mb27d724326\" y=\"317.2\"/>\r\n      </g>\r\n     </g>\r\n     <g id=\"text_4\">\r\n      <!-- 200 -->\r\n      <g transform=\"translate(148.173074 331.798437)scale(0.1 -0.1)\">\r\n       <defs>\r\n        <path d=\"M 1228 531 \r\nL 3431 531 \r\nL 3431 0 \r\nL 469 0 \r\nL 469 531 \r\nQ 828 903 1448 1529 \r\nQ 2069 2156 2228 2338 \r\nQ 2531 2678 2651 2914 \r\nQ 2772 3150 2772 3378 \r\nQ 2772 3750 2511 3984 \r\nQ 2250 4219 1831 4219 \r\nQ 1534 4219 1204 4116 \r\nQ 875 4013 500 3803 \r\nL 500 4441 \r\nQ 881 4594 1212 4672 \r\nQ 1544 4750 1819 4750 \r\nQ 2544 4750 2975 4387 \r\nQ 3406 4025 3406 3419 \r\nQ 3406 3131 3298 2873 \r\nQ 3191 2616 2906 2266 \r\nQ 2828 2175 2409 1742 \r\nQ 1991 1309 1228 531 \r\nz\r\n\" id=\"DejaVuSans-32\" transform=\"scale(0.015625)\"/>\r\n       </defs>\r\n       <use xlink:href=\"#DejaVuSans-32\"/>\r\n       <use x=\"63.623047\" xlink:href=\"#DejaVuSans-30\"/>\r\n       <use x=\"127.246094\" xlink:href=\"#DejaVuSans-30\"/>\r\n      </g>\r\n     </g>\r\n    </g>\r\n    <g id=\"xtick_5\">\r\n     <g id=\"line2d_5\">\r\n      <g>\r\n       <use style=\"stroke:#000000;stroke-width:0.8;\" x=\"196.534755\" xlink:href=\"#mb27d724326\" y=\"317.2\"/>\r\n      </g>\r\n     </g>\r\n     <g id=\"text_5\">\r\n      <!-- 250 -->\r\n      <g transform=\"translate(186.991005 331.798437)scale(0.1 -0.1)\">\r\n       <use xlink:href=\"#DejaVuSans-32\"/>\r\n       <use x=\"63.623047\" xlink:href=\"#DejaVuSans-35\"/>\r\n       <use x=\"127.246094\" xlink:href=\"#DejaVuSans-30\"/>\r\n      </g>\r\n     </g>\r\n    </g>\r\n    <g id=\"xtick_6\">\r\n     <g id=\"line2d_6\">\r\n      <g>\r\n       <use style=\"stroke:#000000;stroke-width:0.8;\" x=\"235.352687\" xlink:href=\"#mb27d724326\" y=\"317.2\"/>\r\n      </g>\r\n     </g>\r\n     <g id=\"text_6\">\r\n      <!-- 300 -->\r\n      <g transform=\"translate(225.808937 331.798437)scale(0.1 -0.1)\">\r\n       <defs>\r\n        <path d=\"M 2597 2516 \r\nQ 3050 2419 3304 2112 \r\nQ 3559 1806 3559 1356 \r\nQ 3559 666 3084 287 \r\nQ 2609 -91 1734 -91 \r\nQ 1441 -91 1130 -33 \r\nQ 819 25 488 141 \r\nL 488 750 \r\nQ 750 597 1062 519 \r\nQ 1375 441 1716 441 \r\nQ 2309 441 2620 675 \r\nQ 2931 909 2931 1356 \r\nQ 2931 1769 2642 2001 \r\nQ 2353 2234 1838 2234 \r\nL 1294 2234 \r\nL 1294 2753 \r\nL 1863 2753 \r\nQ 2328 2753 2575 2939 \r\nQ 2822 3125 2822 3475 \r\nQ 2822 3834 2567 4026 \r\nQ 2313 4219 1838 4219 \r\nQ 1578 4219 1281 4162 \r\nQ 984 4106 628 3988 \r\nL 628 4550 \r\nQ 988 4650 1302 4700 \r\nQ 1616 4750 1894 4750 \r\nQ 2613 4750 3031 4423 \r\nQ 3450 4097 3450 3541 \r\nQ 3450 3153 3228 2886 \r\nQ 3006 2619 2597 2516 \r\nz\r\n\" id=\"DejaVuSans-33\" transform=\"scale(0.015625)\"/>\r\n       </defs>\r\n       <use xlink:href=\"#DejaVuSans-33\"/>\r\n       <use x=\"63.623047\" xlink:href=\"#DejaVuSans-30\"/>\r\n       <use x=\"127.246094\" xlink:href=\"#DejaVuSans-30\"/>\r\n      </g>\r\n     </g>\r\n    </g>\r\n    <g id=\"xtick_7\">\r\n     <g id=\"line2d_7\">\r\n      <g>\r\n       <use style=\"stroke:#000000;stroke-width:0.8;\" x=\"274.170618\" xlink:href=\"#mb27d724326\" y=\"317.2\"/>\r\n      </g>\r\n     </g>\r\n     <g id=\"text_7\">\r\n      <!-- 350 -->\r\n      <g transform=\"translate(264.626868 331.798437)scale(0.1 -0.1)\">\r\n       <use xlink:href=\"#DejaVuSans-33\"/>\r\n       <use x=\"63.623047\" xlink:href=\"#DejaVuSans-35\"/>\r\n       <use x=\"127.246094\" xlink:href=\"#DejaVuSans-30\"/>\r\n      </g>\r\n     </g>\r\n    </g>\r\n    <g id=\"text_8\">\r\n     <!-- Number of Images -->\r\n     <g transform=\"translate(121.072869 345.476562)scale(0.1 -0.1)\">\r\n      <defs>\r\n       <path d=\"M 628 4666 \r\nL 1478 4666 \r\nL 3547 763 \r\nL 3547 4666 \r\nL 4159 4666 \r\nL 4159 0 \r\nL 3309 0 \r\nL 1241 3903 \r\nL 1241 0 \r\nL 628 0 \r\nL 628 4666 \r\nz\r\n\" id=\"DejaVuSans-4e\" transform=\"scale(0.015625)\"/>\r\n       <path d=\"M 544 1381 \r\nL 544 3500 \r\nL 1119 3500 \r\nL 1119 1403 \r\nQ 1119 906 1312 657 \r\nQ 1506 409 1894 409 \r\nQ 2359 409 2629 706 \r\nQ 2900 1003 2900 1516 \r\nL 2900 3500 \r\nL 3475 3500 \r\nL 3475 0 \r\nL 2900 0 \r\nL 2900 538 \r\nQ 2691 219 2414 64 \r\nQ 2138 -91 1772 -91 \r\nQ 1169 -91 856 284 \r\nQ 544 659 544 1381 \r\nz\r\nM 1991 3584 \r\nL 1991 3584 \r\nz\r\n\" id=\"DejaVuSans-75\" transform=\"scale(0.015625)\"/>\r\n       <path d=\"M 3328 2828 \r\nQ 3544 3216 3844 3400 \r\nQ 4144 3584 4550 3584 \r\nQ 5097 3584 5394 3201 \r\nQ 5691 2819 5691 2113 \r\nL 5691 0 \r\nL 5113 0 \r\nL 5113 2094 \r\nQ 5113 2597 4934 2840 \r\nQ 4756 3084 4391 3084 \r\nQ 3944 3084 3684 2787 \r\nQ 3425 2491 3425 1978 \r\nL 3425 0 \r\nL 2847 0 \r\nL 2847 2094 \r\nQ 2847 2600 2669 2842 \r\nQ 2491 3084 2119 3084 \r\nQ 1678 3084 1418 2786 \r\nQ 1159 2488 1159 1978 \r\nL 1159 0 \r\nL 581 0 \r\nL 581 3500 \r\nL 1159 3500 \r\nL 1159 2956 \r\nQ 1356 3278 1631 3431 \r\nQ 1906 3584 2284 3584 \r\nQ 2666 3584 2933 3390 \r\nQ 3200 3197 3328 2828 \r\nz\r\n\" id=\"DejaVuSans-6d\" transform=\"scale(0.015625)\"/>\r\n       <path d=\"M 3116 1747 \r\nQ 3116 2381 2855 2742 \r\nQ 2594 3103 2138 3103 \r\nQ 1681 3103 1420 2742 \r\nQ 1159 2381 1159 1747 \r\nQ 1159 1113 1420 752 \r\nQ 1681 391 2138 391 \r\nQ 2594 391 2855 752 \r\nQ 3116 1113 3116 1747 \r\nz\r\nM 1159 2969 \r\nQ 1341 3281 1617 3432 \r\nQ 1894 3584 2278 3584 \r\nQ 2916 3584 3314 3078 \r\nQ 3713 2572 3713 1747 \r\nQ 3713 922 3314 415 \r\nQ 2916 -91 2278 -91 \r\nQ 1894 -91 1617 61 \r\nQ 1341 213 1159 525 \r\nL 1159 0 \r\nL 581 0 \r\nL 581 4863 \r\nL 1159 4863 \r\nL 1159 2969 \r\nz\r\n\" id=\"DejaVuSans-62\" transform=\"scale(0.015625)\"/>\r\n       <path d=\"M 3597 1894 \r\nL 3597 1613 \r\nL 953 1613 \r\nQ 991 1019 1311 708 \r\nQ 1631 397 2203 397 \r\nQ 2534 397 2845 478 \r\nQ 3156 559 3463 722 \r\nL 3463 178 \r\nQ 3153 47 2828 -22 \r\nQ 2503 -91 2169 -91 \r\nQ 1331 -91 842 396 \r\nQ 353 884 353 1716 \r\nQ 353 2575 817 3079 \r\nQ 1281 3584 2069 3584 \r\nQ 2775 3584 3186 3129 \r\nQ 3597 2675 3597 1894 \r\nz\r\nM 3022 2063 \r\nQ 3016 2534 2758 2815 \r\nQ 2500 3097 2075 3097 \r\nQ 1594 3097 1305 2825 \r\nQ 1016 2553 972 2059 \r\nL 3022 2063 \r\nz\r\n\" id=\"DejaVuSans-65\" transform=\"scale(0.015625)\"/>\r\n       <path d=\"M 2631 2963 \r\nQ 2534 3019 2420 3045 \r\nQ 2306 3072 2169 3072 \r\nQ 1681 3072 1420 2755 \r\nQ 1159 2438 1159 1844 \r\nL 1159 0 \r\nL 581 0 \r\nL 581 3500 \r\nL 1159 3500 \r\nL 1159 2956 \r\nQ 1341 3275 1631 3429 \r\nQ 1922 3584 2338 3584 \r\nQ 2397 3584 2469 3576 \r\nQ 2541 3569 2628 3553 \r\nL 2631 2963 \r\nz\r\n\" id=\"DejaVuSans-72\" transform=\"scale(0.015625)\"/>\r\n       <path id=\"DejaVuSans-20\" transform=\"scale(0.015625)\"/>\r\n       <path d=\"M 1959 3097 \r\nQ 1497 3097 1228 2736 \r\nQ 959 2375 959 1747 \r\nQ 959 1119 1226 758 \r\nQ 1494 397 1959 397 \r\nQ 2419 397 2687 759 \r\nQ 2956 1122 2956 1747 \r\nQ 2956 2369 2687 2733 \r\nQ 2419 3097 1959 3097 \r\nz\r\nM 1959 3584 \r\nQ 2709 3584 3137 3096 \r\nQ 3566 2609 3566 1747 \r\nQ 3566 888 3137 398 \r\nQ 2709 -91 1959 -91 \r\nQ 1206 -91 779 398 \r\nQ 353 888 353 1747 \r\nQ 353 2609 779 3096 \r\nQ 1206 3584 1959 3584 \r\nz\r\n\" id=\"DejaVuSans-6f\" transform=\"scale(0.015625)\"/>\r\n       <path d=\"M 2375 4863 \r\nL 2375 4384 \r\nL 1825 4384 \r\nQ 1516 4384 1395 4259 \r\nQ 1275 4134 1275 3809 \r\nL 1275 3500 \r\nL 2222 3500 \r\nL 2222 3053 \r\nL 1275 3053 \r\nL 1275 0 \r\nL 697 0 \r\nL 697 3053 \r\nL 147 3053 \r\nL 147 3500 \r\nL 697 3500 \r\nL 697 3744 \r\nQ 697 4328 969 4595 \r\nQ 1241 4863 1831 4863 \r\nL 2375 4863 \r\nz\r\n\" id=\"DejaVuSans-66\" transform=\"scale(0.015625)\"/>\r\n       <path d=\"M 628 4666 \r\nL 1259 4666 \r\nL 1259 0 \r\nL 628 0 \r\nL 628 4666 \r\nz\r\n\" id=\"DejaVuSans-49\" transform=\"scale(0.015625)\"/>\r\n       <path d=\"M 2194 1759 \r\nQ 1497 1759 1228 1600 \r\nQ 959 1441 959 1056 \r\nQ 959 750 1161 570 \r\nQ 1363 391 1709 391 \r\nQ 2188 391 2477 730 \r\nQ 2766 1069 2766 1631 \r\nL 2766 1759 \r\nL 2194 1759 \r\nz\r\nM 3341 1997 \r\nL 3341 0 \r\nL 2766 0 \r\nL 2766 531 \r\nQ 2569 213 2275 61 \r\nQ 1981 -91 1556 -91 \r\nQ 1019 -91 701 211 \r\nQ 384 513 384 1019 \r\nQ 384 1609 779 1909 \r\nQ 1175 2209 1959 2209 \r\nL 2766 2209 \r\nL 2766 2266 \r\nQ 2766 2663 2505 2880 \r\nQ 2244 3097 1772 3097 \r\nQ 1472 3097 1187 3025 \r\nQ 903 2953 641 2809 \r\nL 641 3341 \r\nQ 956 3463 1253 3523 \r\nQ 1550 3584 1831 3584 \r\nQ 2591 3584 2966 3190 \r\nQ 3341 2797 3341 1997 \r\nz\r\n\" id=\"DejaVuSans-61\" transform=\"scale(0.015625)\"/>\r\n       <path d=\"M 2906 1791 \r\nQ 2906 2416 2648 2759 \r\nQ 2391 3103 1925 3103 \r\nQ 1463 3103 1205 2759 \r\nQ 947 2416 947 1791 \r\nQ 947 1169 1205 825 \r\nQ 1463 481 1925 481 \r\nQ 2391 481 2648 825 \r\nQ 2906 1169 2906 1791 \r\nz\r\nM 3481 434 \r\nQ 3481 -459 3084 -895 \r\nQ 2688 -1331 1869 -1331 \r\nQ 1566 -1331 1297 -1286 \r\nQ 1028 -1241 775 -1147 \r\nL 775 -588 \r\nQ 1028 -725 1275 -790 \r\nQ 1522 -856 1778 -856 \r\nQ 2344 -856 2625 -561 \r\nQ 2906 -266 2906 331 \r\nL 2906 616 \r\nQ 2728 306 2450 153 \r\nQ 2172 0 1784 0 \r\nQ 1141 0 747 490 \r\nQ 353 981 353 1791 \r\nQ 353 2603 747 3093 \r\nQ 1141 3584 1784 3584 \r\nQ 2172 3584 2450 3431 \r\nQ 2728 3278 2906 2969 \r\nL 2906 3500 \r\nL 3481 3500 \r\nL 3481 434 \r\nz\r\n\" id=\"DejaVuSans-67\" transform=\"scale(0.015625)\"/>\r\n       <path d=\"M 2834 3397 \r\nL 2834 2853 \r\nQ 2591 2978 2328 3040 \r\nQ 2066 3103 1784 3103 \r\nQ 1356 3103 1142 2972 \r\nQ 928 2841 928 2578 \r\nQ 928 2378 1081 2264 \r\nQ 1234 2150 1697 2047 \r\nL 1894 2003 \r\nQ 2506 1872 2764 1633 \r\nQ 3022 1394 3022 966 \r\nQ 3022 478 2636 193 \r\nQ 2250 -91 1575 -91 \r\nQ 1294 -91 989 -36 \r\nQ 684 19 347 128 \r\nL 347 722 \r\nQ 666 556 975 473 \r\nQ 1284 391 1588 391 \r\nQ 1994 391 2212 530 \r\nQ 2431 669 2431 922 \r\nQ 2431 1156 2273 1281 \r\nQ 2116 1406 1581 1522 \r\nL 1381 1569 \r\nQ 847 1681 609 1914 \r\nQ 372 2147 372 2553 \r\nQ 372 3047 722 3315 \r\nQ 1072 3584 1716 3584 \r\nQ 2034 3584 2315 3537 \r\nQ 2597 3491 2834 3397 \r\nz\r\n\" id=\"DejaVuSans-73\" transform=\"scale(0.015625)\"/>\r\n      </defs>\r\n      <use xlink:href=\"#DejaVuSans-4e\"/>\r\n      <use x=\"74.804688\" xlink:href=\"#DejaVuSans-75\"/>\r\n      <use x=\"138.183594\" xlink:href=\"#DejaVuSans-6d\"/>\r\n      <use x=\"235.595703\" xlink:href=\"#DejaVuSans-62\"/>\r\n      <use x=\"299.072266\" xlink:href=\"#DejaVuSans-65\"/>\r\n      <use x=\"360.595703\" xlink:href=\"#DejaVuSans-72\"/>\r\n      <use x=\"401.708984\" xlink:href=\"#DejaVuSans-20\"/>\r\n      <use x=\"433.496094\" xlink:href=\"#DejaVuSans-6f\"/>\r\n      <use x=\"494.677734\" xlink:href=\"#DejaVuSans-66\"/>\r\n      <use x=\"529.882812\" xlink:href=\"#DejaVuSans-20\"/>\r\n      <use x=\"561.669922\" xlink:href=\"#DejaVuSans-49\"/>\r\n      <use x=\"591.162109\" xlink:href=\"#DejaVuSans-6d\"/>\r\n      <use x=\"688.574219\" xlink:href=\"#DejaVuSans-61\"/>\r\n      <use x=\"749.853516\" xlink:href=\"#DejaVuSans-67\"/>\r\n      <use x=\"813.330078\" xlink:href=\"#DejaVuSans-65\"/>\r\n      <use x=\"874.853516\" xlink:href=\"#DejaVuSans-73\"/>\r\n     </g>\r\n    </g>\r\n   </g>\r\n   <g id=\"matplotlib.axis_2\">\r\n    <g id=\"ytick_1\">\r\n     <g id=\"line2d_8\">\r\n      <defs>\r\n       <path d=\"M 0 0 \r\nL -3.5 0 \r\n\" id=\"mfbd5b8965a\" style=\"stroke:#000000;stroke-width:0.8;\"/>\r\n      </defs>\r\n      <g>\r\n       <use style=\"stroke:#000000;stroke-width:0.8;\" x=\"40.603125\" xlink:href=\"#mfbd5b8965a\" y=\"317.2\"/>\r\n      </g>\r\n     </g>\r\n     <g id=\"text_9\">\r\n      <!-- 0 -->\r\n      <g transform=\"translate(27.240625 320.999219)scale(0.1 -0.1)\">\r\n       <use xlink:href=\"#DejaVuSans-30\"/>\r\n      </g>\r\n     </g>\r\n    </g>\r\n    <g id=\"ytick_2\">\r\n     <g id=\"line2d_9\">\r\n      <g>\r\n       <use style=\"stroke:#000000;stroke-width:0.8;\" x=\"40.603125\" xlink:href=\"#mfbd5b8965a\" y=\"281.247619\"/>\r\n      </g>\r\n     </g>\r\n     <g id=\"text_10\">\r\n      <!-- 5 -->\r\n      <g transform=\"translate(27.240625 285.046838)scale(0.1 -0.1)\">\r\n       <use xlink:href=\"#DejaVuSans-35\"/>\r\n      </g>\r\n     </g>\r\n    </g>\r\n    <g id=\"ytick_3\">\r\n     <g id=\"line2d_10\">\r\n      <g>\r\n       <use style=\"stroke:#000000;stroke-width:0.8;\" x=\"40.603125\" xlink:href=\"#mfbd5b8965a\" y=\"245.295238\"/>\r\n      </g>\r\n     </g>\r\n     <g id=\"text_11\">\r\n      <!-- 10 -->\r\n      <g transform=\"translate(20.878125 249.094457)scale(0.1 -0.1)\">\r\n       <use xlink:href=\"#DejaVuSans-31\"/>\r\n       <use x=\"63.623047\" xlink:href=\"#DejaVuSans-30\"/>\r\n      </g>\r\n     </g>\r\n    </g>\r\n    <g id=\"ytick_4\">\r\n     <g id=\"line2d_11\">\r\n      <g>\r\n       <use style=\"stroke:#000000;stroke-width:0.8;\" x=\"40.603125\" xlink:href=\"#mfbd5b8965a\" y=\"209.342857\"/>\r\n      </g>\r\n     </g>\r\n     <g id=\"text_12\">\r\n      <!-- 15 -->\r\n      <g transform=\"translate(20.878125 213.142076)scale(0.1 -0.1)\">\r\n       <use xlink:href=\"#DejaVuSans-31\"/>\r\n       <use x=\"63.623047\" xlink:href=\"#DejaVuSans-35\"/>\r\n      </g>\r\n     </g>\r\n    </g>\r\n    <g id=\"ytick_5\">\r\n     <g id=\"line2d_12\">\r\n      <g>\r\n       <use style=\"stroke:#000000;stroke-width:0.8;\" x=\"40.603125\" xlink:href=\"#mfbd5b8965a\" y=\"173.390476\"/>\r\n      </g>\r\n     </g>\r\n     <g id=\"text_13\">\r\n      <!-- 20 -->\r\n      <g transform=\"translate(20.878125 177.189695)scale(0.1 -0.1)\">\r\n       <use xlink:href=\"#DejaVuSans-32\"/>\r\n       <use x=\"63.623047\" xlink:href=\"#DejaVuSans-30\"/>\r\n      </g>\r\n     </g>\r\n    </g>\r\n    <g id=\"ytick_6\">\r\n     <g id=\"line2d_13\">\r\n      <g>\r\n       <use style=\"stroke:#000000;stroke-width:0.8;\" x=\"40.603125\" xlink:href=\"#mfbd5b8965a\" y=\"137.438095\"/>\r\n      </g>\r\n     </g>\r\n     <g id=\"text_14\">\r\n      <!-- 25 -->\r\n      <g transform=\"translate(20.878125 141.237314)scale(0.1 -0.1)\">\r\n       <use xlink:href=\"#DejaVuSans-32\"/>\r\n       <use x=\"63.623047\" xlink:href=\"#DejaVuSans-35\"/>\r\n      </g>\r\n     </g>\r\n    </g>\r\n    <g id=\"ytick_7\">\r\n     <g id=\"line2d_14\">\r\n      <g>\r\n       <use style=\"stroke:#000000;stroke-width:0.8;\" x=\"40.603125\" xlink:href=\"#mfbd5b8965a\" y=\"101.485714\"/>\r\n      </g>\r\n     </g>\r\n     <g id=\"text_15\">\r\n      <!-- 30 -->\r\n      <g transform=\"translate(20.878125 105.284933)scale(0.1 -0.1)\">\r\n       <use xlink:href=\"#DejaVuSans-33\"/>\r\n       <use x=\"63.623047\" xlink:href=\"#DejaVuSans-30\"/>\r\n      </g>\r\n     </g>\r\n    </g>\r\n    <g id=\"ytick_8\">\r\n     <g id=\"line2d_15\">\r\n      <g>\r\n       <use style=\"stroke:#000000;stroke-width:0.8;\" x=\"40.603125\" xlink:href=\"#mfbd5b8965a\" y=\"65.533333\"/>\r\n      </g>\r\n     </g>\r\n     <g id=\"text_16\">\r\n      <!-- 35 -->\r\n      <g transform=\"translate(20.878125 69.332552)scale(0.1 -0.1)\">\r\n       <use xlink:href=\"#DejaVuSans-33\"/>\r\n       <use x=\"63.623047\" xlink:href=\"#DejaVuSans-35\"/>\r\n      </g>\r\n     </g>\r\n    </g>\r\n    <g id=\"text_17\">\r\n     <!-- Count -->\r\n     <g transform=\"translate(14.798437 196.148437)rotate(-90)scale(0.1 -0.1)\">\r\n      <defs>\r\n       <path d=\"M 4122 4306 \r\nL 4122 3641 \r\nQ 3803 3938 3442 4084 \r\nQ 3081 4231 2675 4231 \r\nQ 1875 4231 1450 3742 \r\nQ 1025 3253 1025 2328 \r\nQ 1025 1406 1450 917 \r\nQ 1875 428 2675 428 \r\nQ 3081 428 3442 575 \r\nQ 3803 722 4122 1019 \r\nL 4122 359 \r\nQ 3791 134 3420 21 \r\nQ 3050 -91 2638 -91 \r\nQ 1578 -91 968 557 \r\nQ 359 1206 359 2328 \r\nQ 359 3453 968 4101 \r\nQ 1578 4750 2638 4750 \r\nQ 3056 4750 3426 4639 \r\nQ 3797 4528 4122 4306 \r\nz\r\n\" id=\"DejaVuSans-43\" transform=\"scale(0.015625)\"/>\r\n       <path d=\"M 3513 2113 \r\nL 3513 0 \r\nL 2938 0 \r\nL 2938 2094 \r\nQ 2938 2591 2744 2837 \r\nQ 2550 3084 2163 3084 \r\nQ 1697 3084 1428 2787 \r\nQ 1159 2491 1159 1978 \r\nL 1159 0 \r\nL 581 0 \r\nL 581 3500 \r\nL 1159 3500 \r\nL 1159 2956 \r\nQ 1366 3272 1645 3428 \r\nQ 1925 3584 2291 3584 \r\nQ 2894 3584 3203 3211 \r\nQ 3513 2838 3513 2113 \r\nz\r\n\" id=\"DejaVuSans-6e\" transform=\"scale(0.015625)\"/>\r\n       <path d=\"M 1172 4494 \r\nL 1172 3500 \r\nL 2356 3500 \r\nL 2356 3053 \r\nL 1172 3053 \r\nL 1172 1153 \r\nQ 1172 725 1289 603 \r\nQ 1406 481 1766 481 \r\nL 2356 481 \r\nL 2356 0 \r\nL 1766 0 \r\nQ 1100 0 847 248 \r\nQ 594 497 594 1153 \r\nL 594 3053 \r\nL 172 3053 \r\nL 172 3500 \r\nL 594 3500 \r\nL 594 4494 \r\nL 1172 4494 \r\nz\r\n\" id=\"DejaVuSans-74\" transform=\"scale(0.015625)\"/>\r\n      </defs>\r\n      <use xlink:href=\"#DejaVuSans-43\"/>\r\n      <use x=\"69.824219\" xlink:href=\"#DejaVuSans-6f\"/>\r\n      <use x=\"131.005859\" xlink:href=\"#DejaVuSans-75\"/>\r\n      <use x=\"194.384766\" xlink:href=\"#DejaVuSans-6e\"/>\r\n      <use x=\"257.763672\" xlink:href=\"#DejaVuSans-74\"/>\r\n     </g>\r\n    </g>\r\n   </g>\r\n   <g id=\"patch_23\">\r\n    <path d=\"M 40.603125 317.2 \r\nL 40.603125 45.4 \r\n\" style=\"fill:none;stroke:#000000;stroke-linecap:square;stroke-linejoin:miter;stroke-width:0.8;\"/>\r\n   </g>\r\n   <g id=\"patch_24\">\r\n    <path d=\"M 294.239489 317.2 \r\nL 294.239489 45.4 \r\n\" style=\"fill:none;stroke:#000000;stroke-linecap:square;stroke-linejoin:miter;stroke-width:0.8;\"/>\r\n   </g>\r\n   <g id=\"patch_25\">\r\n    <path d=\"M 40.603125 317.2 \r\nL 294.239489 317.2 \r\n\" style=\"fill:none;stroke:#000000;stroke-linecap:square;stroke-linejoin:miter;stroke-width:0.8;\"/>\r\n   </g>\r\n   <g id=\"patch_26\">\r\n    <path d=\"M 40.603125 45.4 \r\nL 294.239489 45.4 \r\n\" style=\"fill:none;stroke:#000000;stroke-linecap:square;stroke-linejoin:miter;stroke-width:0.8;\"/>\r\n   </g>\r\n  </g>\r\n  <g id=\"axes_2\">\r\n   <g id=\"patch_27\">\r\n    <path d=\"M 344.966761 317.2 \r\nL 598.603125 317.2 \r\nL 598.603125 45.4 \r\nL 344.966761 45.4 \r\nz\r\n\" style=\"fill:#ffffff;\"/>\r\n   </g>\r\n   <g id=\"patch_28\">\r\n    <path clip-path=\"url(#p3eab2ac95e)\" d=\"M 356.495687 317.2 \r\nL 368.024613 317.2 \r\nL 368.024613 310.886411 \r\nL 356.495687 310.886411 \r\nz\r\n\" style=\"fill:#ff0000;fill-opacity:0.75;stroke:#000000;stroke-linejoin:miter;\"/>\r\n   </g>\r\n   <g id=\"patch_29\">\r\n    <path clip-path=\"url(#p3eab2ac95e)\" d=\"M 368.024613 317.2 \r\nL 379.553538 317.2 \r\nL 379.553538 317.2 \r\nL 368.024613 317.2 \r\nz\r\n\" style=\"fill:#ff0000;fill-opacity:0.75;stroke:#000000;stroke-linejoin:miter;\"/>\r\n   </g>\r\n   <g id=\"patch_30\">\r\n    <path clip-path=\"url(#p3eab2ac95e)\" d=\"M 379.553538 317.2 \r\nL 391.082464 317.2 \r\nL 391.082464 317.2 \r\nL 379.553538 317.2 \r\nz\r\n\" style=\"fill:#ff0000;fill-opacity:0.75;stroke:#000000;stroke-linejoin:miter;\"/>\r\n   </g>\r\n   <g id=\"patch_31\">\r\n    <path clip-path=\"url(#p3eab2ac95e)\" d=\"M 391.082464 317.2 \r\nL 402.611389 317.2 \r\nL 402.611389 317.2 \r\nL 391.082464 317.2 \r\nz\r\n\" style=\"fill:#ff0000;fill-opacity:0.75;stroke:#000000;stroke-linejoin:miter;\"/>\r\n   </g>\r\n   <g id=\"patch_32\">\r\n    <path clip-path=\"url(#p3eab2ac95e)\" d=\"M 402.611389 317.2 \r\nL 414.140315 317.2 \r\nL 414.140315 317.2 \r\nL 402.611389 317.2 \r\nz\r\n\" style=\"fill:#ff0000;fill-opacity:0.75;stroke:#000000;stroke-linejoin:miter;\"/>\r\n   </g>\r\n   <g id=\"patch_33\">\r\n    <path clip-path=\"url(#p3eab2ac95e)\" d=\"M 414.140315 317.2 \r\nL 425.669241 317.2 \r\nL 425.669241 317.2 \r\nL 414.140315 317.2 \r\nz\r\n\" style=\"fill:#ff0000;fill-opacity:0.75;stroke:#000000;stroke-linejoin:miter;\"/>\r\n   </g>\r\n   <g id=\"patch_34\">\r\n    <path clip-path=\"url(#p3eab2ac95e)\" d=\"M 425.669241 317.2 \r\nL 437.198166 317.2 \r\nL 437.198166 317.2 \r\nL 425.669241 317.2 \r\nz\r\n\" style=\"fill:#ff0000;fill-opacity:0.75;stroke:#000000;stroke-linejoin:miter;\"/>\r\n   </g>\r\n   <g id=\"patch_35\">\r\n    <path clip-path=\"url(#p3eab2ac95e)\" d=\"M 437.198166 317.2 \r\nL 448.727092 317.2 \r\nL 448.727092 317.2 \r\nL 437.198166 317.2 \r\nz\r\n\" style=\"fill:#ff0000;fill-opacity:0.75;stroke:#000000;stroke-linejoin:miter;\"/>\r\n   </g>\r\n   <g id=\"patch_36\">\r\n    <path clip-path=\"url(#p3eab2ac95e)\" d=\"M 448.727092 317.2 \r\nL 460.256018 317.2 \r\nL 460.256018 317.2 \r\nL 448.727092 317.2 \r\nz\r\n\" style=\"fill:#ff0000;fill-opacity:0.75;stroke:#000000;stroke-linejoin:miter;\"/>\r\n   </g>\r\n   <g id=\"patch_37\">\r\n    <path clip-path=\"url(#p3eab2ac95e)\" d=\"M 460.256018 317.2 \r\nL 471.784943 317.2 \r\nL 471.784943 317.2 \r\nL 460.256018 317.2 \r\nz\r\n\" style=\"fill:#ff0000;fill-opacity:0.75;stroke:#000000;stroke-linejoin:miter;\"/>\r\n   </g>\r\n   <g id=\"patch_38\">\r\n    <path clip-path=\"url(#p3eab2ac95e)\" d=\"M 471.784943 317.2 \r\nL 483.313869 317.2 \r\nL 483.313869 317.2 \r\nL 471.784943 317.2 \r\nz\r\n\" style=\"fill:#ff0000;fill-opacity:0.75;stroke:#000000;stroke-linejoin:miter;\"/>\r\n   </g>\r\n   <g id=\"patch_39\">\r\n    <path clip-path=\"url(#p3eab2ac95e)\" d=\"M 483.313869 317.2 \r\nL 494.842794 317.2 \r\nL 494.842794 317.2 \r\nL 483.313869 317.2 \r\nz\r\n\" style=\"fill:#ff0000;fill-opacity:0.75;stroke:#000000;stroke-linejoin:miter;\"/>\r\n   </g>\r\n   <g id=\"patch_40\">\r\n    <path clip-path=\"url(#p3eab2ac95e)\" d=\"M 494.842794 317.2 \r\nL 506.37172 317.2 \r\nL 506.37172 310.886411 \r\nL 494.842794 310.886411 \r\nz\r\n\" style=\"fill:#ff0000;fill-opacity:0.75;stroke:#000000;stroke-linejoin:miter;\"/>\r\n   </g>\r\n   <g id=\"patch_41\">\r\n    <path clip-path=\"url(#p3eab2ac95e)\" d=\"M 506.37172 317.2 \r\nL 517.900646 317.2 \r\nL 517.900646 317.2 \r\nL 506.37172 317.2 \r\nz\r\n\" style=\"fill:#ff0000;fill-opacity:0.75;stroke:#000000;stroke-linejoin:miter;\"/>\r\n   </g>\r\n   <g id=\"patch_42\">\r\n    <path clip-path=\"url(#p3eab2ac95e)\" d=\"M 517.900646 317.2 \r\nL 529.429571 317.2 \r\nL 529.429571 317.2 \r\nL 517.900646 317.2 \r\nz\r\n\" style=\"fill:#ff0000;fill-opacity:0.75;stroke:#000000;stroke-linejoin:miter;\"/>\r\n   </g>\r\n   <g id=\"patch_43\">\r\n    <path clip-path=\"url(#p3eab2ac95e)\" d=\"M 529.429571 317.2 \r\nL 540.958497 317.2 \r\nL 540.958497 317.2 \r\nL 529.429571 317.2 \r\nz\r\n\" style=\"fill:#ff0000;fill-opacity:0.75;stroke:#000000;stroke-linejoin:miter;\"/>\r\n   </g>\r\n   <g id=\"patch_44\">\r\n    <path clip-path=\"url(#p3eab2ac95e)\" d=\"M 540.958497 317.2 \r\nL 552.487423 317.2 \r\nL 552.487423 58.342857 \r\nL 540.958497 58.342857 \r\nz\r\n\" style=\"fill:#ff0000;fill-opacity:0.75;stroke:#000000;stroke-linejoin:miter;\"/>\r\n   </g>\r\n   <g id=\"patch_45\">\r\n    <path clip-path=\"url(#p3eab2ac95e)\" d=\"M 552.487423 317.2 \r\nL 564.016348 317.2 \r\nL 564.016348 317.2 \r\nL 552.487423 317.2 \r\nz\r\n\" style=\"fill:#ff0000;fill-opacity:0.75;stroke:#000000;stroke-linejoin:miter;\"/>\r\n   </g>\r\n   <g id=\"patch_46\">\r\n    <path clip-path=\"url(#p3eab2ac95e)\" d=\"M 564.016348 317.2 \r\nL 575.545274 317.2 \r\nL 575.545274 317.2 \r\nL 564.016348 317.2 \r\nz\r\n\" style=\"fill:#ff0000;fill-opacity:0.75;stroke:#000000;stroke-linejoin:miter;\"/>\r\n   </g>\r\n   <g id=\"patch_47\">\r\n    <path clip-path=\"url(#p3eab2ac95e)\" d=\"M 575.545274 317.2 \r\nL 587.074199 317.2 \r\nL 587.074199 247.750523 \r\nL 575.545274 247.750523 \r\nz\r\n\" style=\"fill:#ff0000;fill-opacity:0.75;stroke:#000000;stroke-linejoin:miter;\"/>\r\n   </g>\r\n   <g id=\"matplotlib.axis_3\">\r\n    <g id=\"xtick_8\">\r\n     <g id=\"line2d_16\">\r\n      <g>\r\n       <use style=\"stroke:#000000;stroke-width:0.8;\" x=\"359.639939\" xlink:href=\"#mb27d724326\" y=\"317.2\"/>\r\n      </g>\r\n     </g>\r\n     <g id=\"text_18\">\r\n      <!-- 50 -->\r\n      <g transform=\"translate(353.277439 331.798437)scale(0.1 -0.1)\">\r\n       <use xlink:href=\"#DejaVuSans-35\"/>\r\n       <use x=\"63.623047\" xlink:href=\"#DejaVuSans-30\"/>\r\n      </g>\r\n     </g>\r\n    </g>\r\n    <g id=\"xtick_9\">\r\n     <g id=\"line2d_17\">\r\n      <g>\r\n       <use style=\"stroke:#000000;stroke-width:0.8;\" x=\"412.044147\" xlink:href=\"#mb27d724326\" y=\"317.2\"/>\r\n      </g>\r\n     </g>\r\n     <g id=\"text_19\">\r\n      <!-- 100 -->\r\n      <g transform=\"translate(402.500397 331.798437)scale(0.1 -0.1)\">\r\n       <use xlink:href=\"#DejaVuSans-31\"/>\r\n       <use x=\"63.623047\" xlink:href=\"#DejaVuSans-30\"/>\r\n       <use x=\"127.246094\" xlink:href=\"#DejaVuSans-30\"/>\r\n      </g>\r\n     </g>\r\n    </g>\r\n    <g id=\"xtick_10\">\r\n     <g id=\"line2d_18\">\r\n      <g>\r\n       <use style=\"stroke:#000000;stroke-width:0.8;\" x=\"464.448354\" xlink:href=\"#mb27d724326\" y=\"317.2\"/>\r\n      </g>\r\n     </g>\r\n     <g id=\"text_20\">\r\n      <!-- 150 -->\r\n      <g transform=\"translate(454.904604 331.798437)scale(0.1 -0.1)\">\r\n       <use xlink:href=\"#DejaVuSans-31\"/>\r\n       <use x=\"63.623047\" xlink:href=\"#DejaVuSans-35\"/>\r\n       <use x=\"127.246094\" xlink:href=\"#DejaVuSans-30\"/>\r\n      </g>\r\n     </g>\r\n    </g>\r\n    <g id=\"xtick_11\">\r\n     <g id=\"line2d_19\">\r\n      <g>\r\n       <use style=\"stroke:#000000;stroke-width:0.8;\" x=\"516.852562\" xlink:href=\"#mb27d724326\" y=\"317.2\"/>\r\n      </g>\r\n     </g>\r\n     <g id=\"text_21\">\r\n      <!-- 200 -->\r\n      <g transform=\"translate(507.308812 331.798437)scale(0.1 -0.1)\">\r\n       <use xlink:href=\"#DejaVuSans-32\"/>\r\n       <use x=\"63.623047\" xlink:href=\"#DejaVuSans-30\"/>\r\n       <use x=\"127.246094\" xlink:href=\"#DejaVuSans-30\"/>\r\n      </g>\r\n     </g>\r\n    </g>\r\n    <g id=\"xtick_12\">\r\n     <g id=\"line2d_20\">\r\n      <g>\r\n       <use style=\"stroke:#000000;stroke-width:0.8;\" x=\"569.256769\" xlink:href=\"#mb27d724326\" y=\"317.2\"/>\r\n      </g>\r\n     </g>\r\n     <g id=\"text_22\">\r\n      <!-- 250 -->\r\n      <g transform=\"translate(559.713019 331.798437)scale(0.1 -0.1)\">\r\n       <use xlink:href=\"#DejaVuSans-32\"/>\r\n       <use x=\"63.623047\" xlink:href=\"#DejaVuSans-35\"/>\r\n       <use x=\"127.246094\" xlink:href=\"#DejaVuSans-30\"/>\r\n      </g>\r\n     </g>\r\n    </g>\r\n    <g id=\"text_23\">\r\n     <!-- Number of Images -->\r\n     <g transform=\"translate(425.436506 345.476562)scale(0.1 -0.1)\">\r\n      <use xlink:href=\"#DejaVuSans-4e\"/>\r\n      <use x=\"74.804688\" xlink:href=\"#DejaVuSans-75\"/>\r\n      <use x=\"138.183594\" xlink:href=\"#DejaVuSans-6d\"/>\r\n      <use x=\"235.595703\" xlink:href=\"#DejaVuSans-62\"/>\r\n      <use x=\"299.072266\" xlink:href=\"#DejaVuSans-65\"/>\r\n      <use x=\"360.595703\" xlink:href=\"#DejaVuSans-72\"/>\r\n      <use x=\"401.708984\" xlink:href=\"#DejaVuSans-20\"/>\r\n      <use x=\"433.496094\" xlink:href=\"#DejaVuSans-6f\"/>\r\n      <use x=\"494.677734\" xlink:href=\"#DejaVuSans-66\"/>\r\n      <use x=\"529.882812\" xlink:href=\"#DejaVuSans-20\"/>\r\n      <use x=\"561.669922\" xlink:href=\"#DejaVuSans-49\"/>\r\n      <use x=\"591.162109\" xlink:href=\"#DejaVuSans-6d\"/>\r\n      <use x=\"688.574219\" xlink:href=\"#DejaVuSans-61\"/>\r\n      <use x=\"749.853516\" xlink:href=\"#DejaVuSans-67\"/>\r\n      <use x=\"813.330078\" xlink:href=\"#DejaVuSans-65\"/>\r\n      <use x=\"874.853516\" xlink:href=\"#DejaVuSans-73\"/>\r\n     </g>\r\n    </g>\r\n   </g>\r\n   <g id=\"matplotlib.axis_4\">\r\n    <g id=\"ytick_9\">\r\n     <g id=\"line2d_21\">\r\n      <g>\r\n       <use style=\"stroke:#000000;stroke-width:0.8;\" x=\"344.966761\" xlink:href=\"#mfbd5b8965a\" y=\"317.2\"/>\r\n      </g>\r\n     </g>\r\n     <g id=\"text_24\">\r\n      <!-- 0 -->\r\n      <g transform=\"translate(331.604261 320.999219)scale(0.1 -0.1)\">\r\n       <use xlink:href=\"#DejaVuSans-30\"/>\r\n      </g>\r\n     </g>\r\n    </g>\r\n    <g id=\"ytick_10\">\r\n     <g id=\"line2d_22\">\r\n      <g>\r\n       <use style=\"stroke:#000000;stroke-width:0.8;\" x=\"344.966761\" xlink:href=\"#mfbd5b8965a\" y=\"285.632056\"/>\r\n      </g>\r\n     </g>\r\n     <g id=\"text_25\">\r\n      <!-- 5 -->\r\n      <g transform=\"translate(331.604261 289.431274)scale(0.1 -0.1)\">\r\n       <use xlink:href=\"#DejaVuSans-35\"/>\r\n      </g>\r\n     </g>\r\n    </g>\r\n    <g id=\"ytick_11\">\r\n     <g id=\"line2d_23\">\r\n      <g>\r\n       <use style=\"stroke:#000000;stroke-width:0.8;\" x=\"344.966761\" xlink:href=\"#mfbd5b8965a\" y=\"254.064111\"/>\r\n      </g>\r\n     </g>\r\n     <g id=\"text_26\">\r\n      <!-- 10 -->\r\n      <g transform=\"translate(325.241761 257.86333)scale(0.1 -0.1)\">\r\n       <use xlink:href=\"#DejaVuSans-31\"/>\r\n       <use x=\"63.623047\" xlink:href=\"#DejaVuSans-30\"/>\r\n      </g>\r\n     </g>\r\n    </g>\r\n    <g id=\"ytick_12\">\r\n     <g id=\"line2d_24\">\r\n      <g>\r\n       <use style=\"stroke:#000000;stroke-width:0.8;\" x=\"344.966761\" xlink:href=\"#mfbd5b8965a\" y=\"222.496167\"/>\r\n      </g>\r\n     </g>\r\n     <g id=\"text_27\">\r\n      <!-- 15 -->\r\n      <g transform=\"translate(325.241761 226.295386)scale(0.1 -0.1)\">\r\n       <use xlink:href=\"#DejaVuSans-31\"/>\r\n       <use x=\"63.623047\" xlink:href=\"#DejaVuSans-35\"/>\r\n      </g>\r\n     </g>\r\n    </g>\r\n    <g id=\"ytick_13\">\r\n     <g id=\"line2d_25\">\r\n      <g>\r\n       <use style=\"stroke:#000000;stroke-width:0.8;\" x=\"344.966761\" xlink:href=\"#mfbd5b8965a\" y=\"190.928223\"/>\r\n      </g>\r\n     </g>\r\n     <g id=\"text_28\">\r\n      <!-- 20 -->\r\n      <g transform=\"translate(325.241761 194.727442)scale(0.1 -0.1)\">\r\n       <use xlink:href=\"#DejaVuSans-32\"/>\r\n       <use x=\"63.623047\" xlink:href=\"#DejaVuSans-30\"/>\r\n      </g>\r\n     </g>\r\n    </g>\r\n    <g id=\"ytick_14\">\r\n     <g id=\"line2d_26\">\r\n      <g>\r\n       <use style=\"stroke:#000000;stroke-width:0.8;\" x=\"344.966761\" xlink:href=\"#mfbd5b8965a\" y=\"159.360279\"/>\r\n      </g>\r\n     </g>\r\n     <g id=\"text_29\">\r\n      <!-- 25 -->\r\n      <g transform=\"translate(325.241761 163.159497)scale(0.1 -0.1)\">\r\n       <use xlink:href=\"#DejaVuSans-32\"/>\r\n       <use x=\"63.623047\" xlink:href=\"#DejaVuSans-35\"/>\r\n      </g>\r\n     </g>\r\n    </g>\r\n    <g id=\"ytick_15\">\r\n     <g id=\"line2d_27\">\r\n      <g>\r\n       <use style=\"stroke:#000000;stroke-width:0.8;\" x=\"344.966761\" xlink:href=\"#mfbd5b8965a\" y=\"127.792334\"/>\r\n      </g>\r\n     </g>\r\n     <g id=\"text_30\">\r\n      <!-- 30 -->\r\n      <g transform=\"translate(325.241761 131.591553)scale(0.1 -0.1)\">\r\n       <use xlink:href=\"#DejaVuSans-33\"/>\r\n       <use x=\"63.623047\" xlink:href=\"#DejaVuSans-30\"/>\r\n      </g>\r\n     </g>\r\n    </g>\r\n    <g id=\"ytick_16\">\r\n     <g id=\"line2d_28\">\r\n      <g>\r\n       <use style=\"stroke:#000000;stroke-width:0.8;\" x=\"344.966761\" xlink:href=\"#mfbd5b8965a\" y=\"96.22439\"/>\r\n      </g>\r\n     </g>\r\n     <g id=\"text_31\">\r\n      <!-- 35 -->\r\n      <g transform=\"translate(325.241761 100.023609)scale(0.1 -0.1)\">\r\n       <use xlink:href=\"#DejaVuSans-33\"/>\r\n       <use x=\"63.623047\" xlink:href=\"#DejaVuSans-35\"/>\r\n      </g>\r\n     </g>\r\n    </g>\r\n    <g id=\"ytick_17\">\r\n     <g id=\"line2d_29\">\r\n      <g>\r\n       <use style=\"stroke:#000000;stroke-width:0.8;\" x=\"344.966761\" xlink:href=\"#mfbd5b8965a\" y=\"64.656446\"/>\r\n      </g>\r\n     </g>\r\n     <g id=\"text_32\">\r\n      <!-- 40 -->\r\n      <g transform=\"translate(325.241761 68.455665)scale(0.1 -0.1)\">\r\n       <defs>\r\n        <path d=\"M 2419 4116 \r\nL 825 1625 \r\nL 2419 1625 \r\nL 2419 4116 \r\nz\r\nM 2253 4666 \r\nL 3047 4666 \r\nL 3047 1625 \r\nL 3713 1625 \r\nL 3713 1100 \r\nL 3047 1100 \r\nL 3047 0 \r\nL 2419 0 \r\nL 2419 1100 \r\nL 313 1100 \r\nL 313 1709 \r\nL 2253 4666 \r\nz\r\n\" id=\"DejaVuSans-34\" transform=\"scale(0.015625)\"/>\r\n       </defs>\r\n       <use xlink:href=\"#DejaVuSans-34\"/>\r\n       <use x=\"63.623047\" xlink:href=\"#DejaVuSans-30\"/>\r\n      </g>\r\n     </g>\r\n    </g>\r\n    <g id=\"text_33\">\r\n     <!-- Count -->\r\n     <g transform=\"translate(319.162074 196.148437)rotate(-90)scale(0.1 -0.1)\">\r\n      <use xlink:href=\"#DejaVuSans-43\"/>\r\n      <use x=\"69.824219\" xlink:href=\"#DejaVuSans-6f\"/>\r\n      <use x=\"131.005859\" xlink:href=\"#DejaVuSans-75\"/>\r\n      <use x=\"194.384766\" xlink:href=\"#DejaVuSans-6e\"/>\r\n      <use x=\"257.763672\" xlink:href=\"#DejaVuSans-74\"/>\r\n     </g>\r\n    </g>\r\n   </g>\r\n   <g id=\"patch_48\">\r\n    <path d=\"M 344.966761 317.2 \r\nL 344.966761 45.4 \r\n\" style=\"fill:none;stroke:#000000;stroke-linecap:square;stroke-linejoin:miter;stroke-width:0.8;\"/>\r\n   </g>\r\n   <g id=\"patch_49\">\r\n    <path d=\"M 598.603125 317.2 \r\nL 598.603125 45.4 \r\n\" style=\"fill:none;stroke:#000000;stroke-linecap:square;stroke-linejoin:miter;stroke-width:0.8;\"/>\r\n   </g>\r\n   <g id=\"patch_50\">\r\n    <path d=\"M 344.966761 317.2 \r\nL 598.603125 317.2 \r\n\" style=\"fill:none;stroke:#000000;stroke-linecap:square;stroke-linejoin:miter;stroke-width:0.8;\"/>\r\n   </g>\r\n   <g id=\"patch_51\">\r\n    <path d=\"M 344.966761 45.4 \r\nL 598.603125 45.4 \r\n\" style=\"fill:none;stroke:#000000;stroke-linecap:square;stroke-linejoin:miter;stroke-width:0.8;\"/>\r\n   </g>\r\n  </g>\r\n  <g id=\"legend_1\">\r\n   <g id=\"patch_52\">\r\n    <path d=\"M 619.184375 52.034375 \r\nL 665.803125 52.034375 \r\nQ 667.803125 52.034375 667.803125 50.034375 \r\nL 667.803125 7 \r\nQ 667.803125 5 665.803125 5 \r\nL 619.184375 5 \r\nQ 617.184375 5 617.184375 7 \r\nL 617.184375 50.034375 \r\nQ 617.184375 52.034375 619.184375 52.034375 \r\nz\r\n\" style=\"fill:#ffffff;opacity:0.8;stroke:#cccccc;stroke-linejoin:miter;\"/>\r\n   </g>\r\n   <g id=\"text_34\">\r\n    <!-- Modality -->\r\n    <g transform=\"translate(621.184375 16.598437)scale(0.1 -0.1)\">\r\n     <defs>\r\n      <path d=\"M 628 4666 \r\nL 1569 4666 \r\nL 2759 1491 \r\nL 3956 4666 \r\nL 4897 4666 \r\nL 4897 0 \r\nL 4281 0 \r\nL 4281 4097 \r\nL 3078 897 \r\nL 2444 897 \r\nL 1241 4097 \r\nL 1241 0 \r\nL 628 0 \r\nL 628 4666 \r\nz\r\n\" id=\"DejaVuSans-4d\" transform=\"scale(0.015625)\"/>\r\n      <path d=\"M 2906 2969 \r\nL 2906 4863 \r\nL 3481 4863 \r\nL 3481 0 \r\nL 2906 0 \r\nL 2906 525 \r\nQ 2725 213 2448 61 \r\nQ 2172 -91 1784 -91 \r\nQ 1150 -91 751 415 \r\nQ 353 922 353 1747 \r\nQ 353 2572 751 3078 \r\nQ 1150 3584 1784 3584 \r\nQ 2172 3584 2448 3432 \r\nQ 2725 3281 2906 2969 \r\nz\r\nM 947 1747 \r\nQ 947 1113 1208 752 \r\nQ 1469 391 1925 391 \r\nQ 2381 391 2643 752 \r\nQ 2906 1113 2906 1747 \r\nQ 2906 2381 2643 2742 \r\nQ 2381 3103 1925 3103 \r\nQ 1469 3103 1208 2742 \r\nQ 947 2381 947 1747 \r\nz\r\n\" id=\"DejaVuSans-64\" transform=\"scale(0.015625)\"/>\r\n      <path d=\"M 603 4863 \r\nL 1178 4863 \r\nL 1178 0 \r\nL 603 0 \r\nL 603 4863 \r\nz\r\n\" id=\"DejaVuSans-6c\" transform=\"scale(0.015625)\"/>\r\n      <path d=\"M 603 3500 \r\nL 1178 3500 \r\nL 1178 0 \r\nL 603 0 \r\nL 603 3500 \r\nz\r\nM 603 4863 \r\nL 1178 4863 \r\nL 1178 4134 \r\nL 603 4134 \r\nL 603 4863 \r\nz\r\n\" id=\"DejaVuSans-69\" transform=\"scale(0.015625)\"/>\r\n      <path d=\"M 2059 -325 \r\nQ 1816 -950 1584 -1140 \r\nQ 1353 -1331 966 -1331 \r\nL 506 -1331 \r\nL 506 -850 \r\nL 844 -850 \r\nQ 1081 -850 1212 -737 \r\nQ 1344 -625 1503 -206 \r\nL 1606 56 \r\nL 191 3500 \r\nL 800 3500 \r\nL 1894 763 \r\nL 2988 3500 \r\nL 3597 3500 \r\nL 2059 -325 \r\nz\r\n\" id=\"DejaVuSans-79\" transform=\"scale(0.015625)\"/>\r\n     </defs>\r\n     <use xlink:href=\"#DejaVuSans-4d\"/>\r\n     <use x=\"86.279297\" xlink:href=\"#DejaVuSans-6f\"/>\r\n     <use x=\"147.460938\" xlink:href=\"#DejaVuSans-64\"/>\r\n     <use x=\"210.9375\" xlink:href=\"#DejaVuSans-61\"/>\r\n     <use x=\"272.216797\" xlink:href=\"#DejaVuSans-6c\"/>\r\n     <use x=\"300\" xlink:href=\"#DejaVuSans-69\"/>\r\n     <use x=\"327.783203\" xlink:href=\"#DejaVuSans-74\"/>\r\n     <use x=\"366.992188\" xlink:href=\"#DejaVuSans-79\"/>\r\n    </g>\r\n   </g>\r\n   <g id=\"patch_53\">\r\n    <path d=\"M 621.948438 31.276563 \r\nL 641.948438 31.276563 \r\nL 641.948438 24.276563 \r\nL 621.948438 24.276563 \r\nz\r\n\" style=\"fill:#0000ff;fill-opacity:0.75;stroke:#000000;stroke-linejoin:miter;\"/>\r\n   </g>\r\n   <g id=\"text_35\">\r\n    <!-- CT -->\r\n    <g transform=\"translate(649.948438 31.276563)scale(0.1 -0.1)\">\r\n     <defs>\r\n      <path d=\"M -19 4666 \r\nL 3928 4666 \r\nL 3928 4134 \r\nL 2272 4134 \r\nL 2272 0 \r\nL 1638 0 \r\nL 1638 4134 \r\nL -19 4134 \r\nL -19 4666 \r\nz\r\n\" id=\"DejaVuSans-54\" transform=\"scale(0.015625)\"/>\r\n     </defs>\r\n     <use xlink:href=\"#DejaVuSans-43\"/>\r\n     <use x=\"69.824219\" xlink:href=\"#DejaVuSans-54\"/>\r\n    </g>\r\n   </g>\r\n   <g id=\"patch_54\">\r\n    <path d=\"M 621.948438 45.954688 \r\nL 641.948438 45.954688 \r\nL 641.948438 38.954688 \r\nL 621.948438 38.954688 \r\nz\r\n\" style=\"fill:#ff0000;fill-opacity:0.75;stroke:#000000;stroke-linejoin:miter;\"/>\r\n   </g>\r\n   <g id=\"text_36\">\r\n    <!-- PT -->\r\n    <g transform=\"translate(649.948438 45.954688)scale(0.1 -0.1)\">\r\n     <defs>\r\n      <path d=\"M 1259 4147 \r\nL 1259 2394 \r\nL 2053 2394 \r\nQ 2494 2394 2734 2622 \r\nQ 2975 2850 2975 3272 \r\nQ 2975 3691 2734 3919 \r\nQ 2494 4147 2053 4147 \r\nL 1259 4147 \r\nz\r\nM 628 4666 \r\nL 2053 4666 \r\nQ 2838 4666 3239 4311 \r\nQ 3641 3956 3641 3272 \r\nQ 3641 2581 3239 2228 \r\nQ 2838 1875 2053 1875 \r\nL 1259 1875 \r\nL 1259 0 \r\nL 628 0 \r\nL 628 4666 \r\nz\r\n\" id=\"DejaVuSans-50\" transform=\"scale(0.015625)\"/>\r\n     </defs>\r\n     <use xlink:href=\"#DejaVuSans-50\"/>\r\n     <use x=\"60.302734\" xlink:href=\"#DejaVuSans-54\"/>\r\n    </g>\r\n   </g>\r\n  </g>\r\n </g>\r\n <defs>\r\n  <clipPath id=\"p48d8b951df\">\r\n   <rect height=\"271.8\" width=\"253.636364\" x=\"40.603125\" y=\"45.4\"/>\r\n  </clipPath>\r\n  <clipPath id=\"p3eab2ac95e\">\r\n   <rect height=\"271.8\" width=\"253.636364\" x=\"344.966761\" y=\"45.4\"/>\r\n  </clipPath>\r\n </defs>\r\n</svg>\r\n",
      "image/png": "[encoded data removed]"
     },
     "metadata": {
      "needs_background": "light"
     }
    }
   ],
   "source": [
    "# Check Number of .dcm Files\n",
    "fig, axes = plt.subplots(1, 2, figsize=(10,5))\n",
    "sns.histplot(repair_metadata[repair_metadata.Modality=='CT']['Number of Images'],\n",
    "             color='blue', label='CT', ax=axes[0], bins=20)\n",
    "sns.histplot(repair_metadata[repair_metadata.Modality=='PT']['Number of Images'],\n",
    "             color='red', label='PT', ax=axes[1], bins=20)\n",
    "fig.legend(title='Modality')\n",
    "plt.show()"
   ]
  },
  {
   "cell_type": "code",
   "execution_count": 90,
   "metadata": {},
   "outputs": [
    {
     "output_type": "execute_result",
     "data": {
      "text/plain": [
       "                                             Series UID         Collection  \\\n",
       "979   1.3.6.1.4.1.9328.50.17.33020888767126589527529...  RIDER Lung PET-CT   \n",
       "980   1.3.6.1.4.1.9328.50.17.66919382755222070878580...  RIDER Lung PET-CT   \n",
       "1235  1.3.6.1.4.1.9328.50.17.12050535759964320701126...  RIDER Lung PET-CT   \n",
       "1237  1.3.6.1.4.1.9328.50.17.28690346454449237108651...  RIDER Lung PET-CT   \n",
       "\n",
       "      3rd Party Analysis                           Data Description URI  \\\n",
       "979                  NaN  https://doi.org/10.7937/K9/TCIA.2015.OFIP7TVM   \n",
       "980                  NaN  https://doi.org/10.7937/K9/TCIA.2015.OFIP7TVM   \n",
       "1235                 NaN  https://doi.org/10.7937/K9/TCIA.2015.OFIP7TVM   \n",
       "1237                 NaN  https://doi.org/10.7937/K9/TCIA.2015.OFIP7TVM   \n",
       "\n",
       "            Subject ID                                          Study UID  \\\n",
       "979   RIDER-3058227149  1.3.6.1.4.1.9328.50.17.28449265003143404680294...   \n",
       "980   RIDER-3058227149  1.3.6.1.4.1.9328.50.17.28449265003143404680294...   \n",
       "1235  RIDER-6671960163  1.3.6.1.4.1.9328.50.17.17285866056005085808442...   \n",
       "1237  RIDER-6671960163  1.3.6.1.4.1.9328.50.17.17285866056005085808442...   \n",
       "\n",
       "     Study Description  Study Date Series Description        Manufacturer  \\\n",
       "979    PET CT MID BODY  12-15-2006       CT 2.5MM STD  GE MEDICAL SYSTEMS   \n",
       "980    PET CT MID BODY  12-15-2006        PET FDG SUV  GE MEDICAL SYSTEMS   \n",
       "1235   PET CT MID BODY  10-11-2006       CT 2.5MM STD  GE MEDICAL SYSTEMS   \n",
       "1237   PET CT MID BODY  10-11-2006        PET FDG SUV  GE MEDICAL SYSTEMS   \n",
       "\n",
       "     Modality                              SOP Class Name  \\\n",
       "979        CT                            CT Image Storage   \n",
       "980        PT  Positron Emission Tomography Image Storage   \n",
       "1235       CT                            CT Image Storage   \n",
       "1237       PT  Positron Emission Tomography Image Storage   \n",
       "\n",
       "                    SOP Class UID  Number of Images  File Size  \\\n",
       "979     1.2.840.10008.5.1.4.1.1.2                64   32.12 MB   \n",
       "980   1.2.840.10008.5.1.4.1.1.128                47    1.60 MB   \n",
       "1235    1.2.840.10008.5.1.4.1.1.2               236  118.45 MB   \n",
       "1237  1.2.840.10008.5.1.4.1.1.128               179    6.09 MB   \n",
       "\n",
       "                                          File Location  \\\n",
       "979   .\\RIDER Lung PET-CT\\RIDER-3058227149\\12-15-200...   \n",
       "980   .\\RIDER Lung PET-CT\\RIDER-3058227149\\12-15-200...   \n",
       "1235  .\\RIDER Lung PET-CT\\RIDER-6671960163\\10-11-200...   \n",
       "1237  .\\RIDER Lung PET-CT\\RIDER-6671960163\\10-11-200...   \n",
       "\n",
       "           Download Timestamp  \n",
       "979   2021-07-08T12:40:14.055  \n",
       "980   2021-07-08T12:39:13.988  \n",
       "1235  2021-07-08T17:36:55.879  \n",
       "1237  2021-07-08T17:31:22.604  "
      ],
      "text/html": "<div>\n<style scoped>\n    .dataframe tbody tr th:only-of-type {\n        vertical-align: middle;\n    }\n\n    .dataframe tbody tr th {\n        vertical-align: top;\n    }\n\n    .dataframe thead th {\n        text-align: right;\n    }\n</style>\n<table border=\"1\" class=\"dataframe\">\n  <thead>\n    <tr style=\"text-align: right;\">\n      <th></th>\n      <th>Series UID</th>\n      <th>Collection</th>\n      <th>3rd Party Analysis</th>\n      <th>Data Description URI</th>\n      <th>Subject ID</th>\n      <th>Study UID</th>\n      <th>Study Description</th>\n      <th>Study Date</th>\n      <th>Series Description</th>\n      <th>Manufacturer</th>\n      <th>Modality</th>\n      <th>SOP Class Name</th>\n      <th>SOP Class UID</th>\n      <th>Number of Images</th>\n      <th>File Size</th>\n      <th>File Location</th>\n      <th>Download Timestamp</th>\n    </tr>\n  </thead>\n  <tbody>\n    <tr>\n      <th>979</th>\n      <td>1.3.6.1.4.1.9328.50.17.33020888767126589527529...</td>\n      <td>RIDER Lung PET-CT</td>\n      <td>NaN</td>\n      <td>https://doi.org/10.7937/K9/TCIA.2015.OFIP7TVM</td>\n      <td>RIDER-3058227149</td>\n      <td>1.3.6.1.4.1.9328.50.17.28449265003143404680294...</td>\n      <td>PET CT MID BODY</td>\n      <td>12-15-2006</td>\n      <td>CT 2.5MM STD</td>\n      <td>GE MEDICAL SYSTEMS</td>\n      <td>CT</td>\n      <td>CT Image Storage</td>\n      <td>1.2.840.10008.5.1.4.1.1.2</td>\n      <td>64</td>\n      <td>32.12 MB</td>\n      <td>.\\RIDER Lung PET-CT\\RIDER-3058227149\\12-15-200...</td>\n      <td>2021-07-08T12:40:14.055</td>\n    </tr>\n    <tr>\n      <th>980</th>\n      <td>1.3.6.1.4.1.9328.50.17.66919382755222070878580...</td>\n      <td>RIDER Lung PET-CT</td>\n      <td>NaN</td>\n      <td>https://doi.org/10.7937/K9/TCIA.2015.OFIP7TVM</td>\n      <td>RIDER-3058227149</td>\n      <td>1.3.6.1.4.1.9328.50.17.28449265003143404680294...</td>\n      <td>PET CT MID BODY</td>\n      <td>12-15-2006</td>\n      <td>PET FDG SUV</td>\n      <td>GE MEDICAL SYSTEMS</td>\n      <td>PT</td>\n      <td>Positron Emission Tomography Image Storage</td>\n      <td>1.2.840.10008.5.1.4.1.1.128</td>\n      <td>47</td>\n      <td>1.60 MB</td>\n      <td>.\\RIDER Lung PET-CT\\RIDER-3058227149\\12-15-200...</td>\n      <td>2021-07-08T12:39:13.988</td>\n    </tr>\n    <tr>\n      <th>1235</th>\n      <td>1.3.6.1.4.1.9328.50.17.12050535759964320701126...</td>\n      <td>RIDER Lung PET-CT</td>\n      <td>NaN</td>\n      <td>https://doi.org/10.7937/K9/TCIA.2015.OFIP7TVM</td>\n      <td>RIDER-6671960163</td>\n      <td>1.3.6.1.4.1.9328.50.17.17285866056005085808442...</td>\n      <td>PET CT MID BODY</td>\n      <td>10-11-2006</td>\n      <td>CT 2.5MM STD</td>\n      <td>GE MEDICAL SYSTEMS</td>\n      <td>CT</td>\n      <td>CT Image Storage</td>\n      <td>1.2.840.10008.5.1.4.1.1.2</td>\n      <td>236</td>\n      <td>118.45 MB</td>\n      <td>.\\RIDER Lung PET-CT\\RIDER-6671960163\\10-11-200...</td>\n      <td>2021-07-08T17:36:55.879</td>\n    </tr>\n    <tr>\n      <th>1237</th>\n      <td>1.3.6.1.4.1.9328.50.17.28690346454449237108651...</td>\n      <td>RIDER Lung PET-CT</td>\n      <td>NaN</td>\n      <td>https://doi.org/10.7937/K9/TCIA.2015.OFIP7TVM</td>\n      <td>RIDER-6671960163</td>\n      <td>1.3.6.1.4.1.9328.50.17.17285866056005085808442...</td>\n      <td>PET CT MID BODY</td>\n      <td>10-11-2006</td>\n      <td>PET FDG SUV</td>\n      <td>GE MEDICAL SYSTEMS</td>\n      <td>PT</td>\n      <td>Positron Emission Tomography Image Storage</td>\n      <td>1.2.840.10008.5.1.4.1.1.128</td>\n      <td>179</td>\n      <td>6.09 MB</td>\n      <td>.\\RIDER Lung PET-CT\\RIDER-6671960163\\10-11-200...</td>\n      <td>2021-07-08T17:31:22.604</td>\n    </tr>\n  </tbody>\n</table>\n</div>"
     },
     "metadata": {},
     "execution_count": 90
    }
   ],
   "source": [
    "# Check Data w/ (Images < 200)\n",
    "IDEA_IDX = repair_metadata[repair_metadata['Number of Images'] < 200].groupby(['Study UID']).size().index\n",
    "repair_metadata[repair_metadata['Study UID'].isin(IDEA_IDX)]"
   ]
  },
  {
   "cell_type": "code",
   "execution_count": 92,
   "metadata": {},
   "outputs": [
    {
     "output_type": "execute_result",
     "data": {
      "text/plain": [
       "                                             Series UID         Collection  \\\n",
       "62    1.3.6.1.4.1.9328.50.17.23500193269190786828912...  RIDER Lung PET-CT   \n",
       "65    1.3.6.1.4.1.9328.50.17.71370567559995220330016...  RIDER Lung PET-CT   \n",
       "69    1.3.6.1.4.1.9328.50.17.28880173671501351185240...  RIDER Lung PET-CT   \n",
       "71    1.3.6.1.4.1.9328.50.17.10308613002188064065304...  RIDER Lung PET-CT   \n",
       "90    1.3.6.1.4.1.9328.50.17.23846650305435481959640...  RIDER Lung PET-CT   \n",
       "...                                                 ...                ...   \n",
       "1287  1.3.6.1.4.1.9328.50.17.19429515156664107209992...  RIDER Lung PET-CT   \n",
       "1290  1.3.6.1.4.1.9328.50.17.23927517269629765042831...  RIDER Lung PET-CT   \n",
       "1293  1.3.6.1.4.1.9328.50.17.16650979549258755223925...  RIDER Lung PET-CT   \n",
       "1322  1.3.6.1.4.1.9328.50.17.11527879251296425726955...  RIDER Lung PET-CT   \n",
       "1326  1.3.6.1.4.1.9328.50.17.10888495592818845871887...  RIDER Lung PET-CT   \n",
       "\n",
       "      3rd Party Analysis                           Data Description URI  \\\n",
       "62                   NaN  https://doi.org/10.7937/K9/TCIA.2015.OFIP7TVM   \n",
       "65                   NaN  https://doi.org/10.7937/K9/TCIA.2015.OFIP7TVM   \n",
       "69                   NaN  https://doi.org/10.7937/K9/TCIA.2015.OFIP7TVM   \n",
       "71                   NaN  https://doi.org/10.7937/K9/TCIA.2015.OFIP7TVM   \n",
       "90                   NaN  https://doi.org/10.7937/K9/TCIA.2015.OFIP7TVM   \n",
       "...                  ...                                            ...   \n",
       "1287                 NaN  https://doi.org/10.7937/K9/TCIA.2015.OFIP7TVM   \n",
       "1290                 NaN  https://doi.org/10.7937/K9/TCIA.2015.OFIP7TVM   \n",
       "1293                 NaN  https://doi.org/10.7937/K9/TCIA.2015.OFIP7TVM   \n",
       "1322                 NaN  https://doi.org/10.7937/K9/TCIA.2015.OFIP7TVM   \n",
       "1326                 NaN  https://doi.org/10.7937/K9/TCIA.2015.OFIP7TVM   \n",
       "\n",
       "            Subject ID                                          Study UID  \\\n",
       "62    RIDER-1172912404  1.3.6.1.4.1.9328.50.17.24892338155574864998303...   \n",
       "65    RIDER-1172912404  1.3.6.1.4.1.9328.50.17.24892338155574864998303...   \n",
       "69    RIDER-1172912404  1.3.6.1.4.1.9328.50.17.29723960320980340557147...   \n",
       "71    RIDER-1172912404  1.3.6.1.4.1.9328.50.17.29723960320980340557147...   \n",
       "90    RIDER-1284094278  1.3.6.1.4.1.9328.50.17.22545924354527867084396...   \n",
       "...                ...                                                ...   \n",
       "1287  RIDER-8054797922  1.3.6.1.4.1.9328.50.17.26884175944205502857742...   \n",
       "1290  RIDER-8054797922  1.3.6.1.4.1.9328.50.17.72443068618977843685376...   \n",
       "1293  RIDER-8054797922  1.3.6.1.4.1.9328.50.17.72443068618977843685376...   \n",
       "1322  RIDER-9640765801  1.3.6.1.4.1.9328.50.17.11844132793672058035829...   \n",
       "1326  RIDER-9640765801  1.3.6.1.4.1.9328.50.17.11844132793672058035829...   \n",
       "\n",
       "     Study Description  Study Date      Series Description  \\\n",
       "62     FDG 5AFOV TORSO  12-15-2005            CT 2.5MM STD   \n",
       "65     FDG 5AFOV TORSO  12-15-2005             PET FDG SUV   \n",
       "69     FDG 5AFOV TORSO  06-14-2005  Recon 2 CTAC 2.5 THICK   \n",
       "71     FDG 5AFOV TORSO  06-14-2005             PET FDG SUV   \n",
       "90    FDG 7 AFOV TORSO  11-24-2006            CT 2.5MM STD   \n",
       "...                ...         ...                     ...   \n",
       "1287   FDG 5AFOV TORSO  06-02-2005             PET FDG SUV   \n",
       "1290   FDG 5AFOV TORSO  01-31-2006            CT 2.5MM STD   \n",
       "1293   FDG 5AFOV TORSO  01-31-2006             PET FDG SUV   \n",
       "1322   FDG 6AFOV TORSO  02-02-2006            CT 2.5MM STD   \n",
       "1326   FDG 6AFOV TORSO  02-02-2006             PET FDG SUV   \n",
       "\n",
       "            Manufacturer Modality                              SOP Class Name  \\\n",
       "62    GE MEDICAL SYSTEMS       CT                            CT Image Storage   \n",
       "65    GE MEDICAL SYSTEMS       PT  Positron Emission Tomography Image Storage   \n",
       "69    GE MEDICAL SYSTEMS       CT                            CT Image Storage   \n",
       "71    GE MEDICAL SYSTEMS       PT  Positron Emission Tomography Image Storage   \n",
       "90    GE MEDICAL SYSTEMS       CT                            CT Image Storage   \n",
       "...                  ...      ...                                         ...   \n",
       "1287  GE MEDICAL SYSTEMS       PT  Positron Emission Tomography Image Storage   \n",
       "1290  GE MEDICAL SYSTEMS       CT                            CT Image Storage   \n",
       "1293  GE MEDICAL SYSTEMS       PT  Positron Emission Tomography Image Storage   \n",
       "1322  GE MEDICAL SYSTEMS       CT                            CT Image Storage   \n",
       "1326  GE MEDICAL SYSTEMS       PT  Positron Emission Tomography Image Storage   \n",
       "\n",
       "                    SOP Class UID  Number of Images  File Size  \\\n",
       "62      1.2.840.10008.5.1.4.1.1.2               290  145.55 MB   \n",
       "65    1.2.840.10008.5.1.4.1.1.128               223    7.58 MB   \n",
       "69      1.2.840.10008.5.1.4.1.1.2               291  146.03 MB   \n",
       "71    1.2.840.10008.5.1.4.1.1.128               223    7.59 MB   \n",
       "90      1.2.840.10008.5.1.4.1.1.2               358  179.67 MB   \n",
       "...                           ...               ...        ...   \n",
       "1287  1.2.840.10008.5.1.4.1.1.128               223    7.59 MB   \n",
       "1290    1.2.840.10008.5.1.4.1.1.2               295  148.06 MB   \n",
       "1293  1.2.840.10008.5.1.4.1.1.128               223    7.59 MB   \n",
       "1322    1.2.840.10008.5.1.4.1.1.2               355  178.18 MB   \n",
       "1326  1.2.840.10008.5.1.4.1.1.128               267    9.08 MB   \n",
       "\n",
       "                                          File Location  \\\n",
       "62    .\\RIDER Lung PET-CT\\RIDER-1172912404\\12-15-200...   \n",
       "65    .\\RIDER Lung PET-CT\\RIDER-1172912404\\12-15-200...   \n",
       "69    .\\RIDER Lung PET-CT\\RIDER-1172912404\\06-14-200...   \n",
       "71    .\\RIDER Lung PET-CT\\RIDER-1172912404\\06-14-200...   \n",
       "90    .\\RIDER Lung PET-CT\\RIDER-1284094278\\11-24-200...   \n",
       "...                                                 ...   \n",
       "1287  .\\RIDER Lung PET-CT\\RIDER-8054797922\\06-02-200...   \n",
       "1290  .\\RIDER Lung PET-CT\\RIDER-8054797922\\01-31-200...   \n",
       "1293  .\\RIDER Lung PET-CT\\RIDER-8054797922\\01-31-200...   \n",
       "1322  .\\RIDER Lung PET-CT\\RIDER-9640765801\\02-02-200...   \n",
       "1326  .\\RIDER Lung PET-CT\\RIDER-9640765801\\02-02-200...   \n",
       "\n",
       "           Download Timestamp  \n",
       "62     2021-07-07T22:18:24.46  \n",
       "65    2021-07-07T22:19:49.764  \n",
       "69    2021-07-07T22:30:22.011  \n",
       "71    2021-07-07T22:20:57.592  \n",
       "90    2021-07-07T22:50:03.194  \n",
       "...                       ...  \n",
       "1287  2021-07-08T18:42:24.587  \n",
       "1290  2021-07-08T19:05:28.415  \n",
       "1293  2021-07-08T18:51:02.864  \n",
       "1322  2021-07-08T19:42:54.418  \n",
       "1326  2021-07-08T19:34:45.372  \n",
       "\n",
       "[104 rows x 17 columns]"
      ],
      "text/html": "<div>\n<style scoped>\n    .dataframe tbody tr th:only-of-type {\n        vertical-align: middle;\n    }\n\n    .dataframe tbody tr th {\n        vertical-align: top;\n    }\n\n    .dataframe thead th {\n        text-align: right;\n    }\n</style>\n<table border=\"1\" class=\"dataframe\">\n  <thead>\n    <tr style=\"text-align: right;\">\n      <th></th>\n      <th>Series UID</th>\n      <th>Collection</th>\n      <th>3rd Party Analysis</th>\n      <th>Data Description URI</th>\n      <th>Subject ID</th>\n      <th>Study UID</th>\n      <th>Study Description</th>\n      <th>Study Date</th>\n      <th>Series Description</th>\n      <th>Manufacturer</th>\n      <th>Modality</th>\n      <th>SOP Class Name</th>\n      <th>SOP Class UID</th>\n      <th>Number of Images</th>\n      <th>File Size</th>\n      <th>File Location</th>\n      <th>Download Timestamp</th>\n    </tr>\n  </thead>\n  <tbody>\n    <tr>\n      <th>62</th>\n      <td>1.3.6.1.4.1.9328.50.17.23500193269190786828912...</td>\n      <td>RIDER Lung PET-CT</td>\n      <td>NaN</td>\n      <td>https://doi.org/10.7937/K9/TCIA.2015.OFIP7TVM</td>\n      <td>RIDER-1172912404</td>\n      <td>1.3.6.1.4.1.9328.50.17.24892338155574864998303...</td>\n      <td>FDG 5AFOV TORSO</td>\n      <td>12-15-2005</td>\n      <td>CT 2.5MM STD</td>\n      <td>GE MEDICAL SYSTEMS</td>\n      <td>CT</td>\n      <td>CT Image Storage</td>\n      <td>1.2.840.10008.5.1.4.1.1.2</td>\n      <td>290</td>\n      <td>145.55 MB</td>\n      <td>.\\RIDER Lung PET-CT\\RIDER-1172912404\\12-15-200...</td>\n      <td>2021-07-07T22:18:24.46</td>\n    </tr>\n    <tr>\n      <th>65</th>\n      <td>1.3.6.1.4.1.9328.50.17.71370567559995220330016...</td>\n      <td>RIDER Lung PET-CT</td>\n      <td>NaN</td>\n      <td>https://doi.org/10.7937/K9/TCIA.2015.OFIP7TVM</td>\n      <td>RIDER-1172912404</td>\n      <td>1.3.6.1.4.1.9328.50.17.24892338155574864998303...</td>\n      <td>FDG 5AFOV TORSO</td>\n      <td>12-15-2005</td>\n      <td>PET FDG SUV</td>\n      <td>GE MEDICAL SYSTEMS</td>\n      <td>PT</td>\n      <td>Positron Emission Tomography Image Storage</td>\n      <td>1.2.840.10008.5.1.4.1.1.128</td>\n      <td>223</td>\n      <td>7.58 MB</td>\n      <td>.\\RIDER Lung PET-CT\\RIDER-1172912404\\12-15-200...</td>\n      <td>2021-07-07T22:19:49.764</td>\n    </tr>\n    <tr>\n      <th>69</th>\n      <td>1.3.6.1.4.1.9328.50.17.28880173671501351185240...</td>\n      <td>RIDER Lung PET-CT</td>\n      <td>NaN</td>\n      <td>https://doi.org/10.7937/K9/TCIA.2015.OFIP7TVM</td>\n      <td>RIDER-1172912404</td>\n      <td>1.3.6.1.4.1.9328.50.17.29723960320980340557147...</td>\n      <td>FDG 5AFOV TORSO</td>\n      <td>06-14-2005</td>\n      <td>Recon 2 CTAC 2.5 THICK</td>\n      <td>GE MEDICAL SYSTEMS</td>\n      <td>CT</td>\n      <td>CT Image Storage</td>\n      <td>1.2.840.10008.5.1.4.1.1.2</td>\n      <td>291</td>\n      <td>146.03 MB</td>\n      <td>.\\RIDER Lung PET-CT\\RIDER-1172912404\\06-14-200...</td>\n      <td>2021-07-07T22:30:22.011</td>\n    </tr>\n    <tr>\n      <th>71</th>\n      <td>1.3.6.1.4.1.9328.50.17.10308613002188064065304...</td>\n      <td>RIDER Lung PET-CT</td>\n      <td>NaN</td>\n      <td>https://doi.org/10.7937/K9/TCIA.2015.OFIP7TVM</td>\n      <td>RIDER-1172912404</td>\n      <td>1.3.6.1.4.1.9328.50.17.29723960320980340557147...</td>\n      <td>FDG 5AFOV TORSO</td>\n      <td>06-14-2005</td>\n      <td>PET FDG SUV</td>\n      <td>GE MEDICAL SYSTEMS</td>\n      <td>PT</td>\n      <td>Positron Emission Tomography Image Storage</td>\n      <td>1.2.840.10008.5.1.4.1.1.128</td>\n      <td>223</td>\n      <td>7.59 MB</td>\n      <td>.\\RIDER Lung PET-CT\\RIDER-1172912404\\06-14-200...</td>\n      <td>2021-07-07T22:20:57.592</td>\n    </tr>\n    <tr>\n      <th>90</th>\n      <td>1.3.6.1.4.1.9328.50.17.23846650305435481959640...</td>\n      <td>RIDER Lung PET-CT</td>\n      <td>NaN</td>\n      <td>https://doi.org/10.7937/K9/TCIA.2015.OFIP7TVM</td>\n      <td>RIDER-1284094278</td>\n      <td>1.3.6.1.4.1.9328.50.17.22545924354527867084396...</td>\n      <td>FDG 7 AFOV TORSO</td>\n      <td>11-24-2006</td>\n      <td>CT 2.5MM STD</td>\n      <td>GE MEDICAL SYSTEMS</td>\n      <td>CT</td>\n      <td>CT Image Storage</td>\n      <td>1.2.840.10008.5.1.4.1.1.2</td>\n      <td>358</td>\n      <td>179.67 MB</td>\n      <td>.\\RIDER Lung PET-CT\\RIDER-1284094278\\11-24-200...</td>\n      <td>2021-07-07T22:50:03.194</td>\n    </tr>\n    <tr>\n      <th>...</th>\n      <td>...</td>\n      <td>...</td>\n      <td>...</td>\n      <td>...</td>\n      <td>...</td>\n      <td>...</td>\n      <td>...</td>\n      <td>...</td>\n      <td>...</td>\n      <td>...</td>\n      <td>...</td>\n      <td>...</td>\n      <td>...</td>\n      <td>...</td>\n      <td>...</td>\n      <td>...</td>\n      <td>...</td>\n    </tr>\n    <tr>\n      <th>1287</th>\n      <td>1.3.6.1.4.1.9328.50.17.19429515156664107209992...</td>\n      <td>RIDER Lung PET-CT</td>\n      <td>NaN</td>\n      <td>https://doi.org/10.7937/K9/TCIA.2015.OFIP7TVM</td>\n      <td>RIDER-8054797922</td>\n      <td>1.3.6.1.4.1.9328.50.17.26884175944205502857742...</td>\n      <td>FDG 5AFOV TORSO</td>\n      <td>06-02-2005</td>\n      <td>PET FDG SUV</td>\n      <td>GE MEDICAL SYSTEMS</td>\n      <td>PT</td>\n      <td>Positron Emission Tomography Image Storage</td>\n      <td>1.2.840.10008.5.1.4.1.1.128</td>\n      <td>223</td>\n      <td>7.59 MB</td>\n      <td>.\\RIDER Lung PET-CT\\RIDER-8054797922\\06-02-200...</td>\n      <td>2021-07-08T18:42:24.587</td>\n    </tr>\n    <tr>\n      <th>1290</th>\n      <td>1.3.6.1.4.1.9328.50.17.23927517269629765042831...</td>\n      <td>RIDER Lung PET-CT</td>\n      <td>NaN</td>\n      <td>https://doi.org/10.7937/K9/TCIA.2015.OFIP7TVM</td>\n      <td>RIDER-8054797922</td>\n      <td>1.3.6.1.4.1.9328.50.17.72443068618977843685376...</td>\n      <td>FDG 5AFOV TORSO</td>\n      <td>01-31-2006</td>\n      <td>CT 2.5MM STD</td>\n      <td>GE MEDICAL SYSTEMS</td>\n      <td>CT</td>\n      <td>CT Image Storage</td>\n      <td>1.2.840.10008.5.1.4.1.1.2</td>\n      <td>295</td>\n      <td>148.06 MB</td>\n      <td>.\\RIDER Lung PET-CT\\RIDER-8054797922\\01-31-200...</td>\n      <td>2021-07-08T19:05:28.415</td>\n    </tr>\n    <tr>\n      <th>1293</th>\n      <td>1.3.6.1.4.1.9328.50.17.16650979549258755223925...</td>\n      <td>RIDER Lung PET-CT</td>\n      <td>NaN</td>\n      <td>https://doi.org/10.7937/K9/TCIA.2015.OFIP7TVM</td>\n      <td>RIDER-8054797922</td>\n      <td>1.3.6.1.4.1.9328.50.17.72443068618977843685376...</td>\n      <td>FDG 5AFOV TORSO</td>\n      <td>01-31-2006</td>\n      <td>PET FDG SUV</td>\n      <td>GE MEDICAL SYSTEMS</td>\n      <td>PT</td>\n      <td>Positron Emission Tomography Image Storage</td>\n      <td>1.2.840.10008.5.1.4.1.1.128</td>\n      <td>223</td>\n      <td>7.59 MB</td>\n      <td>.\\RIDER Lung PET-CT\\RIDER-8054797922\\01-31-200...</td>\n      <td>2021-07-08T18:51:02.864</td>\n    </tr>\n    <tr>\n      <th>1322</th>\n      <td>1.3.6.1.4.1.9328.50.17.11527879251296425726955...</td>\n      <td>RIDER Lung PET-CT</td>\n      <td>NaN</td>\n      <td>https://doi.org/10.7937/K9/TCIA.2015.OFIP7TVM</td>\n      <td>RIDER-9640765801</td>\n      <td>1.3.6.1.4.1.9328.50.17.11844132793672058035829...</td>\n      <td>FDG 6AFOV TORSO</td>\n      <td>02-02-2006</td>\n      <td>CT 2.5MM STD</td>\n      <td>GE MEDICAL SYSTEMS</td>\n      <td>CT</td>\n      <td>CT Image Storage</td>\n      <td>1.2.840.10008.5.1.4.1.1.2</td>\n      <td>355</td>\n      <td>178.18 MB</td>\n      <td>.\\RIDER Lung PET-CT\\RIDER-9640765801\\02-02-200...</td>\n      <td>2021-07-08T19:42:54.418</td>\n    </tr>\n    <tr>\n      <th>1326</th>\n      <td>1.3.6.1.4.1.9328.50.17.10888495592818845871887...</td>\n      <td>RIDER Lung PET-CT</td>\n      <td>NaN</td>\n      <td>https://doi.org/10.7937/K9/TCIA.2015.OFIP7TVM</td>\n      <td>RIDER-9640765801</td>\n      <td>1.3.6.1.4.1.9328.50.17.11844132793672058035829...</td>\n      <td>FDG 6AFOV TORSO</td>\n      <td>02-02-2006</td>\n      <td>PET FDG SUV</td>\n      <td>GE MEDICAL SYSTEMS</td>\n      <td>PT</td>\n      <td>Positron Emission Tomography Image Storage</td>\n      <td>1.2.840.10008.5.1.4.1.1.128</td>\n      <td>267</td>\n      <td>9.08 MB</td>\n      <td>.\\RIDER Lung PET-CT\\RIDER-9640765801\\02-02-200...</td>\n      <td>2021-07-08T19:34:45.372</td>\n    </tr>\n  </tbody>\n</table>\n<p>104 rows × 17 columns</p>\n</div>"
     },
     "metadata": {},
     "execution_count": 92
    }
   ],
   "source": [
    "# Delete Index\n",
    "EXCEPT_IDX_2 = repair_metadata[repair_metadata['Study UID'].isin(IDEA_IDX)].index\n",
    "prefin_metadata = repair_metadata[~repair_metadata.index.isin(EXCEPT_IDX_2)]\n",
    "prefin_metadata"
   ]
  },
  {
   "cell_type": "code",
   "execution_count": 93,
   "metadata": {},
   "outputs": [
    {
     "output_type": "display_data",
     "data": {
      "text/plain": "<Figure size 720x360 with 2 Axes>",
      "image/svg+xml": "<?xml version=\"1.0\" encoding=\"utf-8\" standalone=\"no\"?>\r\n<!DOCTYPE svg PUBLIC \"-//W3C//DTD SVG 1.1//EN\"\r\n  \"http://www.w3.org/Graphics/SVG/1.1/DTD/svg11.dtd\">\r\n<svg height=\"354.75625pt\" version=\"1.1\" viewBox=\"0 0 672.803125 354.75625\" width=\"672.803125pt\" xmlns=\"http://www.w3.org/2000/svg\" xmlns:xlink=\"http://www.w3.org/1999/xlink\">\r\n <metadata>\r\n  <rdf:RDF xmlns:cc=\"http://creativecommons.org/ns#\" xmlns:dc=\"http://purl.org/dc/elements/1.1/\" xmlns:rdf=\"http://www.w3.org/1999/02/22-rdf-syntax-ns#\">\r\n   <cc:Work>\r\n    <dc:type rdf:resource=\"http://purl.org/dc/dcmitype/StillImage\"/>\r\n    <dc:date>2021-07-10T00:03:31.503448</dc:date>\r\n    <dc:format>image/svg+xml</dc:format>\r\n    <dc:creator>\r\n     <cc:Agent>\r\n      <dc:title>Matplotlib v3.4.2, https://matplotlib.org/</dc:title>\r\n     </cc:Agent>\r\n    </dc:creator>\r\n   </cc:Work>\r\n  </rdf:RDF>\r\n </metadata>\r\n <defs>\r\n  <style type=\"text/css\">*{stroke-linecap:butt;stroke-linejoin:round;}</style>\r\n </defs>\r\n <g id=\"figure_1\">\r\n  <g id=\"patch_1\">\r\n   <path d=\"M 0 354.75625 \r\nL 672.803125 354.75625 \r\nL 672.803125 0 \r\nL 0 0 \r\nz\r\n\" style=\"fill:none;\"/>\r\n  </g>\r\n  <g id=\"axes_1\">\r\n   <g id=\"patch_2\">\r\n    <path d=\"M 40.603125 317.2 \r\nL 294.239489 317.2 \r\nL 294.239489 45.4 \r\nL 40.603125 45.4 \r\nz\r\n\" style=\"fill:#ffffff;\"/>\r\n   </g>\r\n   <g id=\"patch_3\">\r\n    <path clip-path=\"url(#pf7dbbf7760)\" d=\"M 52.132051 317.2 \r\nL 63.660976 317.2 \r\nL 63.660976 73.569748 \r\nL 52.132051 73.569748 \r\nz\r\n\" style=\"fill:#0000ff;fill-opacity:0.75;stroke:#000000;stroke-linejoin:miter;\"/>\r\n   </g>\r\n   <g id=\"patch_4\">\r\n    <path clip-path=\"url(#pf7dbbf7760)\" d=\"M 63.660976 317.2 \r\nL 75.189902 317.2 \r\nL 75.189902 58.342857 \r\nL 63.660976 58.342857 \r\nz\r\n\" style=\"fill:#0000ff;fill-opacity:0.75;stroke:#000000;stroke-linejoin:miter;\"/>\r\n   </g>\r\n   <g id=\"patch_5\">\r\n    <path clip-path=\"url(#pf7dbbf7760)\" d=\"M 75.189902 317.2 \r\nL 86.718827 317.2 \r\nL 86.718827 271.519328 \r\nL 75.189902 271.519328 \r\nz\r\n\" style=\"fill:#0000ff;fill-opacity:0.75;stroke:#000000;stroke-linejoin:miter;\"/>\r\n   </g>\r\n   <g id=\"patch_6\">\r\n    <path clip-path=\"url(#pf7dbbf7760)\" d=\"M 86.718827 317.2 \r\nL 98.247753 317.2 \r\nL 98.247753 271.519328 \r\nL 86.718827 271.519328 \r\nz\r\n\" style=\"fill:#0000ff;fill-opacity:0.75;stroke:#000000;stroke-linejoin:miter;\"/>\r\n   </g>\r\n   <g id=\"patch_7\">\r\n    <path clip-path=\"url(#pf7dbbf7760)\" d=\"M 98.247753 317.2 \r\nL 109.776679 317.2 \r\nL 109.776679 286.746218 \r\nL 98.247753 286.746218 \r\nz\r\n\" style=\"fill:#0000ff;fill-opacity:0.75;stroke:#000000;stroke-linejoin:miter;\"/>\r\n   </g>\r\n   <g id=\"patch_8\">\r\n    <path clip-path=\"url(#pf7dbbf7760)\" d=\"M 109.776679 317.2 \r\nL 121.305604 317.2 \r\nL 121.305604 317.2 \r\nL 109.776679 317.2 \r\nz\r\n\" style=\"fill:#0000ff;fill-opacity:0.75;stroke:#000000;stroke-linejoin:miter;\"/>\r\n   </g>\r\n   <g id=\"patch_9\">\r\n    <path clip-path=\"url(#pf7dbbf7760)\" d=\"M 121.305604 317.2 \r\nL 132.83453 317.2 \r\nL 132.83453 317.2 \r\nL 121.305604 317.2 \r\nz\r\n\" style=\"fill:#0000ff;fill-opacity:0.75;stroke:#000000;stroke-linejoin:miter;\"/>\r\n   </g>\r\n   <g id=\"patch_10\">\r\n    <path clip-path=\"url(#pf7dbbf7760)\" d=\"M 132.83453 317.2 \r\nL 144.363456 317.2 \r\nL 144.363456 317.2 \r\nL 132.83453 317.2 \r\nz\r\n\" style=\"fill:#0000ff;fill-opacity:0.75;stroke:#000000;stroke-linejoin:miter;\"/>\r\n   </g>\r\n   <g id=\"patch_11\">\r\n    <path clip-path=\"url(#pf7dbbf7760)\" d=\"M 144.363456 317.2 \r\nL 155.892381 317.2 \r\nL 155.892381 317.2 \r\nL 144.363456 317.2 \r\nz\r\n\" style=\"fill:#0000ff;fill-opacity:0.75;stroke:#000000;stroke-linejoin:miter;\"/>\r\n   </g>\r\n   <g id=\"patch_12\">\r\n    <path clip-path=\"url(#pf7dbbf7760)\" d=\"M 155.892381 317.2 \r\nL 167.421307 317.2 \r\nL 167.421307 317.2 \r\nL 155.892381 317.2 \r\nz\r\n\" style=\"fill:#0000ff;fill-opacity:0.75;stroke:#000000;stroke-linejoin:miter;\"/>\r\n   </g>\r\n   <g id=\"patch_13\">\r\n    <path clip-path=\"url(#pf7dbbf7760)\" d=\"M 167.421307 317.2 \r\nL 178.950232 317.2 \r\nL 178.950232 317.2 \r\nL 167.421307 317.2 \r\nz\r\n\" style=\"fill:#0000ff;fill-opacity:0.75;stroke:#000000;stroke-linejoin:miter;\"/>\r\n   </g>\r\n   <g id=\"patch_14\">\r\n    <path clip-path=\"url(#pf7dbbf7760)\" d=\"M 178.950232 317.2 \r\nL 190.479158 317.2 \r\nL 190.479158 317.2 \r\nL 178.950232 317.2 \r\nz\r\n\" style=\"fill:#0000ff;fill-opacity:0.75;stroke:#000000;stroke-linejoin:miter;\"/>\r\n   </g>\r\n   <g id=\"patch_15\">\r\n    <path clip-path=\"url(#pf7dbbf7760)\" d=\"M 190.479158 317.2 \r\nL 202.008084 317.2 \r\nL 202.008084 317.2 \r\nL 190.479158 317.2 \r\nz\r\n\" style=\"fill:#0000ff;fill-opacity:0.75;stroke:#000000;stroke-linejoin:miter;\"/>\r\n   </g>\r\n   <g id=\"patch_16\">\r\n    <path clip-path=\"url(#pf7dbbf7760)\" d=\"M 202.008084 317.2 \r\nL 213.537009 317.2 \r\nL 213.537009 301.973109 \r\nL 202.008084 301.973109 \r\nz\r\n\" style=\"fill:#0000ff;fill-opacity:0.75;stroke:#000000;stroke-linejoin:miter;\"/>\r\n   </g>\r\n   <g id=\"patch_17\">\r\n    <path clip-path=\"url(#pf7dbbf7760)\" d=\"M 213.537009 317.2 \r\nL 225.065935 317.2 \r\nL 225.065935 317.2 \r\nL 213.537009 317.2 \r\nz\r\n\" style=\"fill:#0000ff;fill-opacity:0.75;stroke:#000000;stroke-linejoin:miter;\"/>\r\n   </g>\r\n   <g id=\"patch_18\">\r\n    <path clip-path=\"url(#pf7dbbf7760)\" d=\"M 225.065935 317.2 \r\nL 236.594861 317.2 \r\nL 236.594861 317.2 \r\nL 225.065935 317.2 \r\nz\r\n\" style=\"fill:#0000ff;fill-opacity:0.75;stroke:#000000;stroke-linejoin:miter;\"/>\r\n   </g>\r\n   <g id=\"patch_19\">\r\n    <path clip-path=\"url(#pf7dbbf7760)\" d=\"M 236.594861 317.2 \r\nL 248.123786 317.2 \r\nL 248.123786 317.2 \r\nL 236.594861 317.2 \r\nz\r\n\" style=\"fill:#0000ff;fill-opacity:0.75;stroke:#000000;stroke-linejoin:miter;\"/>\r\n   </g>\r\n   <g id=\"patch_20\">\r\n    <path clip-path=\"url(#pf7dbbf7760)\" d=\"M 248.123786 317.2 \r\nL 259.652712 317.2 \r\nL 259.652712 286.746218 \r\nL 248.123786 286.746218 \r\nz\r\n\" style=\"fill:#0000ff;fill-opacity:0.75;stroke:#000000;stroke-linejoin:miter;\"/>\r\n   </g>\r\n   <g id=\"patch_21\">\r\n    <path clip-path=\"url(#pf7dbbf7760)\" d=\"M 259.652712 317.2 \r\nL 271.181637 317.2 \r\nL 271.181637 241.065546 \r\nL 259.652712 241.065546 \r\nz\r\n\" style=\"fill:#0000ff;fill-opacity:0.75;stroke:#000000;stroke-linejoin:miter;\"/>\r\n   </g>\r\n   <g id=\"patch_22\">\r\n    <path clip-path=\"url(#pf7dbbf7760)\" d=\"M 271.181637 317.2 \r\nL 282.710563 317.2 \r\nL 282.710563 271.519328 \r\nL 271.181637 271.519328 \r\nz\r\n\" style=\"fill:#0000ff;fill-opacity:0.75;stroke:#000000;stroke-linejoin:miter;\"/>\r\n   </g>\r\n   <g id=\"matplotlib.axis_1\">\r\n    <g id=\"xtick_1\">\r\n     <g id=\"line2d_1\">\r\n      <defs>\r\n       <path d=\"M 0 0 \r\nL 0 3.5 \r\n\" id=\"me207c422b1\" style=\"stroke:#000000;stroke-width:0.8;\"/>\r\n      </defs>\r\n      <g>\r\n       <use style=\"stroke:#000000;stroke-width:0.8;\" x=\"52.132051\" xlink:href=\"#me207c422b1\" y=\"317.2\"/>\r\n      </g>\r\n     </g>\r\n     <g id=\"text_1\">\r\n      <!-- 290 -->\r\n      <g transform=\"translate(42.588301 331.798437)scale(0.1 -0.1)\">\r\n       <defs>\r\n        <path d=\"M 1228 531 \r\nL 3431 531 \r\nL 3431 0 \r\nL 469 0 \r\nL 469 531 \r\nQ 828 903 1448 1529 \r\nQ 2069 2156 2228 2338 \r\nQ 2531 2678 2651 2914 \r\nQ 2772 3150 2772 3378 \r\nQ 2772 3750 2511 3984 \r\nQ 2250 4219 1831 4219 \r\nQ 1534 4219 1204 4116 \r\nQ 875 4013 500 3803 \r\nL 500 4441 \r\nQ 881 4594 1212 4672 \r\nQ 1544 4750 1819 4750 \r\nQ 2544 4750 2975 4387 \r\nQ 3406 4025 3406 3419 \r\nQ 3406 3131 3298 2873 \r\nQ 3191 2616 2906 2266 \r\nQ 2828 2175 2409 1742 \r\nQ 1991 1309 1228 531 \r\nz\r\n\" id=\"DejaVuSans-32\" transform=\"scale(0.015625)\"/>\r\n        <path d=\"M 703 97 \r\nL 703 672 \r\nQ 941 559 1184 500 \r\nQ 1428 441 1663 441 \r\nQ 2288 441 2617 861 \r\nQ 2947 1281 2994 2138 \r\nQ 2813 1869 2534 1725 \r\nQ 2256 1581 1919 1581 \r\nQ 1219 1581 811 2004 \r\nQ 403 2428 403 3163 \r\nQ 403 3881 828 4315 \r\nQ 1253 4750 1959 4750 \r\nQ 2769 4750 3195 4129 \r\nQ 3622 3509 3622 2328 \r\nQ 3622 1225 3098 567 \r\nQ 2575 -91 1691 -91 \r\nQ 1453 -91 1209 -44 \r\nQ 966 3 703 97 \r\nz\r\nM 1959 2075 \r\nQ 2384 2075 2632 2365 \r\nQ 2881 2656 2881 3163 \r\nQ 2881 3666 2632 3958 \r\nQ 2384 4250 1959 4250 \r\nQ 1534 4250 1286 3958 \r\nQ 1038 3666 1038 3163 \r\nQ 1038 2656 1286 2365 \r\nQ 1534 2075 1959 2075 \r\nz\r\n\" id=\"DejaVuSans-39\" transform=\"scale(0.015625)\"/>\r\n        <path d=\"M 2034 4250 \r\nQ 1547 4250 1301 3770 \r\nQ 1056 3291 1056 2328 \r\nQ 1056 1369 1301 889 \r\nQ 1547 409 2034 409 \r\nQ 2525 409 2770 889 \r\nQ 3016 1369 3016 2328 \r\nQ 3016 3291 2770 3770 \r\nQ 2525 4250 2034 4250 \r\nz\r\nM 2034 4750 \r\nQ 2819 4750 3233 4129 \r\nQ 3647 3509 3647 2328 \r\nQ 3647 1150 3233 529 \r\nQ 2819 -91 2034 -91 \r\nQ 1250 -91 836 529 \r\nQ 422 1150 422 2328 \r\nQ 422 3509 836 4129 \r\nQ 1250 4750 2034 4750 \r\nz\r\n\" id=\"DejaVuSans-30\" transform=\"scale(0.015625)\"/>\r\n       </defs>\r\n       <use xlink:href=\"#DejaVuSans-32\"/>\r\n       <use x=\"63.623047\" xlink:href=\"#DejaVuSans-39\"/>\r\n       <use x=\"127.246094\" xlink:href=\"#DejaVuSans-30\"/>\r\n      </g>\r\n     </g>\r\n    </g>\r\n    <g id=\"xtick_2\">\r\n     <g id=\"line2d_2\">\r\n      <g>\r\n       <use style=\"stroke:#000000;stroke-width:0.8;\" x=\"84.607897\" xlink:href=\"#me207c422b1\" y=\"317.2\"/>\r\n      </g>\r\n     </g>\r\n     <g id=\"text_2\">\r\n      <!-- 300 -->\r\n      <g transform=\"translate(75.064147 331.798437)scale(0.1 -0.1)\">\r\n       <defs>\r\n        <path d=\"M 2597 2516 \r\nQ 3050 2419 3304 2112 \r\nQ 3559 1806 3559 1356 \r\nQ 3559 666 3084 287 \r\nQ 2609 -91 1734 -91 \r\nQ 1441 -91 1130 -33 \r\nQ 819 25 488 141 \r\nL 488 750 \r\nQ 750 597 1062 519 \r\nQ 1375 441 1716 441 \r\nQ 2309 441 2620 675 \r\nQ 2931 909 2931 1356 \r\nQ 2931 1769 2642 2001 \r\nQ 2353 2234 1838 2234 \r\nL 1294 2234 \r\nL 1294 2753 \r\nL 1863 2753 \r\nQ 2328 2753 2575 2939 \r\nQ 2822 3125 2822 3475 \r\nQ 2822 3834 2567 4026 \r\nQ 2313 4219 1838 4219 \r\nQ 1578 4219 1281 4162 \r\nQ 984 4106 628 3988 \r\nL 628 4550 \r\nQ 988 4650 1302 4700 \r\nQ 1616 4750 1894 4750 \r\nQ 2613 4750 3031 4423 \r\nQ 3450 4097 3450 3541 \r\nQ 3450 3153 3228 2886 \r\nQ 3006 2619 2597 2516 \r\nz\r\n\" id=\"DejaVuSans-33\" transform=\"scale(0.015625)\"/>\r\n       </defs>\r\n       <use xlink:href=\"#DejaVuSans-33\"/>\r\n       <use x=\"63.623047\" xlink:href=\"#DejaVuSans-30\"/>\r\n       <use x=\"127.246094\" xlink:href=\"#DejaVuSans-30\"/>\r\n      </g>\r\n     </g>\r\n    </g>\r\n    <g id=\"xtick_3\">\r\n     <g id=\"line2d_3\">\r\n      <g>\r\n       <use style=\"stroke:#000000;stroke-width:0.8;\" x=\"117.083744\" xlink:href=\"#me207c422b1\" y=\"317.2\"/>\r\n      </g>\r\n     </g>\r\n     <g id=\"text_3\">\r\n      <!-- 310 -->\r\n      <g transform=\"translate(107.539994 331.798437)scale(0.1 -0.1)\">\r\n       <defs>\r\n        <path d=\"M 794 531 \r\nL 1825 531 \r\nL 1825 4091 \r\nL 703 3866 \r\nL 703 4441 \r\nL 1819 4666 \r\nL 2450 4666 \r\nL 2450 531 \r\nL 3481 531 \r\nL 3481 0 \r\nL 794 0 \r\nL 794 531 \r\nz\r\n\" id=\"DejaVuSans-31\" transform=\"scale(0.015625)\"/>\r\n       </defs>\r\n       <use xlink:href=\"#DejaVuSans-33\"/>\r\n       <use x=\"63.623047\" xlink:href=\"#DejaVuSans-31\"/>\r\n       <use x=\"127.246094\" xlink:href=\"#DejaVuSans-30\"/>\r\n      </g>\r\n     </g>\r\n    </g>\r\n    <g id=\"xtick_4\">\r\n     <g id=\"line2d_4\">\r\n      <g>\r\n       <use style=\"stroke:#000000;stroke-width:0.8;\" x=\"149.559591\" xlink:href=\"#me207c422b1\" y=\"317.2\"/>\r\n      </g>\r\n     </g>\r\n     <g id=\"text_4\">\r\n      <!-- 320 -->\r\n      <g transform=\"translate(140.015841 331.798437)scale(0.1 -0.1)\">\r\n       <use xlink:href=\"#DejaVuSans-33\"/>\r\n       <use x=\"63.623047\" xlink:href=\"#DejaVuSans-32\"/>\r\n       <use x=\"127.246094\" xlink:href=\"#DejaVuSans-30\"/>\r\n      </g>\r\n     </g>\r\n    </g>\r\n    <g id=\"xtick_5\">\r\n     <g id=\"line2d_5\">\r\n      <g>\r\n       <use style=\"stroke:#000000;stroke-width:0.8;\" x=\"182.035438\" xlink:href=\"#me207c422b1\" y=\"317.2\"/>\r\n      </g>\r\n     </g>\r\n     <g id=\"text_5\">\r\n      <!-- 330 -->\r\n      <g transform=\"translate(172.491688 331.798437)scale(0.1 -0.1)\">\r\n       <use xlink:href=\"#DejaVuSans-33\"/>\r\n       <use x=\"63.623047\" xlink:href=\"#DejaVuSans-33\"/>\r\n       <use x=\"127.246094\" xlink:href=\"#DejaVuSans-30\"/>\r\n      </g>\r\n     </g>\r\n    </g>\r\n    <g id=\"xtick_6\">\r\n     <g id=\"line2d_6\">\r\n      <g>\r\n       <use style=\"stroke:#000000;stroke-width:0.8;\" x=\"214.511285\" xlink:href=\"#me207c422b1\" y=\"317.2\"/>\r\n      </g>\r\n     </g>\r\n     <g id=\"text_6\">\r\n      <!-- 340 -->\r\n      <g transform=\"translate(204.967535 331.798437)scale(0.1 -0.1)\">\r\n       <defs>\r\n        <path d=\"M 2419 4116 \r\nL 825 1625 \r\nL 2419 1625 \r\nL 2419 4116 \r\nz\r\nM 2253 4666 \r\nL 3047 4666 \r\nL 3047 1625 \r\nL 3713 1625 \r\nL 3713 1100 \r\nL 3047 1100 \r\nL 3047 0 \r\nL 2419 0 \r\nL 2419 1100 \r\nL 313 1100 \r\nL 313 1709 \r\nL 2253 4666 \r\nz\r\n\" id=\"DejaVuSans-34\" transform=\"scale(0.015625)\"/>\r\n       </defs>\r\n       <use xlink:href=\"#DejaVuSans-33\"/>\r\n       <use x=\"63.623047\" xlink:href=\"#DejaVuSans-34\"/>\r\n       <use x=\"127.246094\" xlink:href=\"#DejaVuSans-30\"/>\r\n      </g>\r\n     </g>\r\n    </g>\r\n    <g id=\"xtick_7\">\r\n     <g id=\"line2d_7\">\r\n      <g>\r\n       <use style=\"stroke:#000000;stroke-width:0.8;\" x=\"246.987132\" xlink:href=\"#me207c422b1\" y=\"317.2\"/>\r\n      </g>\r\n     </g>\r\n     <g id=\"text_7\">\r\n      <!-- 350 -->\r\n      <g transform=\"translate(237.443382 331.798437)scale(0.1 -0.1)\">\r\n       <defs>\r\n        <path d=\"M 691 4666 \r\nL 3169 4666 \r\nL 3169 4134 \r\nL 1269 4134 \r\nL 1269 2991 \r\nQ 1406 3038 1543 3061 \r\nQ 1681 3084 1819 3084 \r\nQ 2600 3084 3056 2656 \r\nQ 3513 2228 3513 1497 \r\nQ 3513 744 3044 326 \r\nQ 2575 -91 1722 -91 \r\nQ 1428 -91 1123 -41 \r\nQ 819 9 494 109 \r\nL 494 744 \r\nQ 775 591 1075 516 \r\nQ 1375 441 1709 441 \r\nQ 2250 441 2565 725 \r\nQ 2881 1009 2881 1497 \r\nQ 2881 1984 2565 2268 \r\nQ 2250 2553 1709 2553 \r\nQ 1456 2553 1204 2497 \r\nQ 953 2441 691 2322 \r\nL 691 4666 \r\nz\r\n\" id=\"DejaVuSans-35\" transform=\"scale(0.015625)\"/>\r\n       </defs>\r\n       <use xlink:href=\"#DejaVuSans-33\"/>\r\n       <use x=\"63.623047\" xlink:href=\"#DejaVuSans-35\"/>\r\n       <use x=\"127.246094\" xlink:href=\"#DejaVuSans-30\"/>\r\n      </g>\r\n     </g>\r\n    </g>\r\n    <g id=\"xtick_8\">\r\n     <g id=\"line2d_8\">\r\n      <g>\r\n       <use style=\"stroke:#000000;stroke-width:0.8;\" x=\"279.462978\" xlink:href=\"#me207c422b1\" y=\"317.2\"/>\r\n      </g>\r\n     </g>\r\n     <g id=\"text_8\">\r\n      <!-- 360 -->\r\n      <g transform=\"translate(269.919228 331.798437)scale(0.1 -0.1)\">\r\n       <defs>\r\n        <path d=\"M 2113 2584 \r\nQ 1688 2584 1439 2293 \r\nQ 1191 2003 1191 1497 \r\nQ 1191 994 1439 701 \r\nQ 1688 409 2113 409 \r\nQ 2538 409 2786 701 \r\nQ 3034 994 3034 1497 \r\nQ 3034 2003 2786 2293 \r\nQ 2538 2584 2113 2584 \r\nz\r\nM 3366 4563 \r\nL 3366 3988 \r\nQ 3128 4100 2886 4159 \r\nQ 2644 4219 2406 4219 \r\nQ 1781 4219 1451 3797 \r\nQ 1122 3375 1075 2522 \r\nQ 1259 2794 1537 2939 \r\nQ 1816 3084 2150 3084 \r\nQ 2853 3084 3261 2657 \r\nQ 3669 2231 3669 1497 \r\nQ 3669 778 3244 343 \r\nQ 2819 -91 2113 -91 \r\nQ 1303 -91 875 529 \r\nQ 447 1150 447 2328 \r\nQ 447 3434 972 4092 \r\nQ 1497 4750 2381 4750 \r\nQ 2619 4750 2861 4703 \r\nQ 3103 4656 3366 4563 \r\nz\r\n\" id=\"DejaVuSans-36\" transform=\"scale(0.015625)\"/>\r\n       </defs>\r\n       <use xlink:href=\"#DejaVuSans-33\"/>\r\n       <use x=\"63.623047\" xlink:href=\"#DejaVuSans-36\"/>\r\n       <use x=\"127.246094\" xlink:href=\"#DejaVuSans-30\"/>\r\n      </g>\r\n     </g>\r\n    </g>\r\n    <g id=\"text_9\">\r\n     <!-- Number of Images -->\r\n     <g transform=\"translate(121.072869 345.476562)scale(0.1 -0.1)\">\r\n      <defs>\r\n       <path d=\"M 628 4666 \r\nL 1478 4666 \r\nL 3547 763 \r\nL 3547 4666 \r\nL 4159 4666 \r\nL 4159 0 \r\nL 3309 0 \r\nL 1241 3903 \r\nL 1241 0 \r\nL 628 0 \r\nL 628 4666 \r\nz\r\n\" id=\"DejaVuSans-4e\" transform=\"scale(0.015625)\"/>\r\n       <path d=\"M 544 1381 \r\nL 544 3500 \r\nL 1119 3500 \r\nL 1119 1403 \r\nQ 1119 906 1312 657 \r\nQ 1506 409 1894 409 \r\nQ 2359 409 2629 706 \r\nQ 2900 1003 2900 1516 \r\nL 2900 3500 \r\nL 3475 3500 \r\nL 3475 0 \r\nL 2900 0 \r\nL 2900 538 \r\nQ 2691 219 2414 64 \r\nQ 2138 -91 1772 -91 \r\nQ 1169 -91 856 284 \r\nQ 544 659 544 1381 \r\nz\r\nM 1991 3584 \r\nL 1991 3584 \r\nz\r\n\" id=\"DejaVuSans-75\" transform=\"scale(0.015625)\"/>\r\n       <path d=\"M 3328 2828 \r\nQ 3544 3216 3844 3400 \r\nQ 4144 3584 4550 3584 \r\nQ 5097 3584 5394 3201 \r\nQ 5691 2819 5691 2113 \r\nL 5691 0 \r\nL 5113 0 \r\nL 5113 2094 \r\nQ 5113 2597 4934 2840 \r\nQ 4756 3084 4391 3084 \r\nQ 3944 3084 3684 2787 \r\nQ 3425 2491 3425 1978 \r\nL 3425 0 \r\nL 2847 0 \r\nL 2847 2094 \r\nQ 2847 2600 2669 2842 \r\nQ 2491 3084 2119 3084 \r\nQ 1678 3084 1418 2786 \r\nQ 1159 2488 1159 1978 \r\nL 1159 0 \r\nL 581 0 \r\nL 581 3500 \r\nL 1159 3500 \r\nL 1159 2956 \r\nQ 1356 3278 1631 3431 \r\nQ 1906 3584 2284 3584 \r\nQ 2666 3584 2933 3390 \r\nQ 3200 3197 3328 2828 \r\nz\r\n\" id=\"DejaVuSans-6d\" transform=\"scale(0.015625)\"/>\r\n       <path d=\"M 3116 1747 \r\nQ 3116 2381 2855 2742 \r\nQ 2594 3103 2138 3103 \r\nQ 1681 3103 1420 2742 \r\nQ 1159 2381 1159 1747 \r\nQ 1159 1113 1420 752 \r\nQ 1681 391 2138 391 \r\nQ 2594 391 2855 752 \r\nQ 3116 1113 3116 1747 \r\nz\r\nM 1159 2969 \r\nQ 1341 3281 1617 3432 \r\nQ 1894 3584 2278 3584 \r\nQ 2916 3584 3314 3078 \r\nQ 3713 2572 3713 1747 \r\nQ 3713 922 3314 415 \r\nQ 2916 -91 2278 -91 \r\nQ 1894 -91 1617 61 \r\nQ 1341 213 1159 525 \r\nL 1159 0 \r\nL 581 0 \r\nL 581 4863 \r\nL 1159 4863 \r\nL 1159 2969 \r\nz\r\n\" id=\"DejaVuSans-62\" transform=\"scale(0.015625)\"/>\r\n       <path d=\"M 3597 1894 \r\nL 3597 1613 \r\nL 953 1613 \r\nQ 991 1019 1311 708 \r\nQ 1631 397 2203 397 \r\nQ 2534 397 2845 478 \r\nQ 3156 559 3463 722 \r\nL 3463 178 \r\nQ 3153 47 2828 -22 \r\nQ 2503 -91 2169 -91 \r\nQ 1331 -91 842 396 \r\nQ 353 884 353 1716 \r\nQ 353 2575 817 3079 \r\nQ 1281 3584 2069 3584 \r\nQ 2775 3584 3186 3129 \r\nQ 3597 2675 3597 1894 \r\nz\r\nM 3022 2063 \r\nQ 3016 2534 2758 2815 \r\nQ 2500 3097 2075 3097 \r\nQ 1594 3097 1305 2825 \r\nQ 1016 2553 972 2059 \r\nL 3022 2063 \r\nz\r\n\" id=\"DejaVuSans-65\" transform=\"scale(0.015625)\"/>\r\n       <path d=\"M 2631 2963 \r\nQ 2534 3019 2420 3045 \r\nQ 2306 3072 2169 3072 \r\nQ 1681 3072 1420 2755 \r\nQ 1159 2438 1159 1844 \r\nL 1159 0 \r\nL 581 0 \r\nL 581 3500 \r\nL 1159 3500 \r\nL 1159 2956 \r\nQ 1341 3275 1631 3429 \r\nQ 1922 3584 2338 3584 \r\nQ 2397 3584 2469 3576 \r\nQ 2541 3569 2628 3553 \r\nL 2631 2963 \r\nz\r\n\" id=\"DejaVuSans-72\" transform=\"scale(0.015625)\"/>\r\n       <path id=\"DejaVuSans-20\" transform=\"scale(0.015625)\"/>\r\n       <path d=\"M 1959 3097 \r\nQ 1497 3097 1228 2736 \r\nQ 959 2375 959 1747 \r\nQ 959 1119 1226 758 \r\nQ 1494 397 1959 397 \r\nQ 2419 397 2687 759 \r\nQ 2956 1122 2956 1747 \r\nQ 2956 2369 2687 2733 \r\nQ 2419 3097 1959 3097 \r\nz\r\nM 1959 3584 \r\nQ 2709 3584 3137 3096 \r\nQ 3566 2609 3566 1747 \r\nQ 3566 888 3137 398 \r\nQ 2709 -91 1959 -91 \r\nQ 1206 -91 779 398 \r\nQ 353 888 353 1747 \r\nQ 353 2609 779 3096 \r\nQ 1206 3584 1959 3584 \r\nz\r\n\" id=\"DejaVuSans-6f\" transform=\"scale(0.015625)\"/>\r\n       <path d=\"M 2375 4863 \r\nL 2375 4384 \r\nL 1825 4384 \r\nQ 1516 4384 1395 4259 \r\nQ 1275 4134 1275 3809 \r\nL 1275 3500 \r\nL 2222 3500 \r\nL 2222 3053 \r\nL 1275 3053 \r\nL 1275 0 \r\nL 697 0 \r\nL 697 3053 \r\nL 147 3053 \r\nL 147 3500 \r\nL 697 3500 \r\nL 697 3744 \r\nQ 697 4328 969 4595 \r\nQ 1241 4863 1831 4863 \r\nL 2375 4863 \r\nz\r\n\" id=\"DejaVuSans-66\" transform=\"scale(0.015625)\"/>\r\n       <path d=\"M 628 4666 \r\nL 1259 4666 \r\nL 1259 0 \r\nL 628 0 \r\nL 628 4666 \r\nz\r\n\" id=\"DejaVuSans-49\" transform=\"scale(0.015625)\"/>\r\n       <path d=\"M 2194 1759 \r\nQ 1497 1759 1228 1600 \r\nQ 959 1441 959 1056 \r\nQ 959 750 1161 570 \r\nQ 1363 391 1709 391 \r\nQ 2188 391 2477 730 \r\nQ 2766 1069 2766 1631 \r\nL 2766 1759 \r\nL 2194 1759 \r\nz\r\nM 3341 1997 \r\nL 3341 0 \r\nL 2766 0 \r\nL 2766 531 \r\nQ 2569 213 2275 61 \r\nQ 1981 -91 1556 -91 \r\nQ 1019 -91 701 211 \r\nQ 384 513 384 1019 \r\nQ 384 1609 779 1909 \r\nQ 1175 2209 1959 2209 \r\nL 2766 2209 \r\nL 2766 2266 \r\nQ 2766 2663 2505 2880 \r\nQ 2244 3097 1772 3097 \r\nQ 1472 3097 1187 3025 \r\nQ 903 2953 641 2809 \r\nL 641 3341 \r\nQ 956 3463 1253 3523 \r\nQ 1550 3584 1831 3584 \r\nQ 2591 3584 2966 3190 \r\nQ 3341 2797 3341 1997 \r\nz\r\n\" id=\"DejaVuSans-61\" transform=\"scale(0.015625)\"/>\r\n       <path d=\"M 2906 1791 \r\nQ 2906 2416 2648 2759 \r\nQ 2391 3103 1925 3103 \r\nQ 1463 3103 1205 2759 \r\nQ 947 2416 947 1791 \r\nQ 947 1169 1205 825 \r\nQ 1463 481 1925 481 \r\nQ 2391 481 2648 825 \r\nQ 2906 1169 2906 1791 \r\nz\r\nM 3481 434 \r\nQ 3481 -459 3084 -895 \r\nQ 2688 -1331 1869 -1331 \r\nQ 1566 -1331 1297 -1286 \r\nQ 1028 -1241 775 -1147 \r\nL 775 -588 \r\nQ 1028 -725 1275 -790 \r\nQ 1522 -856 1778 -856 \r\nQ 2344 -856 2625 -561 \r\nQ 2906 -266 2906 331 \r\nL 2906 616 \r\nQ 2728 306 2450 153 \r\nQ 2172 0 1784 0 \r\nQ 1141 0 747 490 \r\nQ 353 981 353 1791 \r\nQ 353 2603 747 3093 \r\nQ 1141 3584 1784 3584 \r\nQ 2172 3584 2450 3431 \r\nQ 2728 3278 2906 2969 \r\nL 2906 3500 \r\nL 3481 3500 \r\nL 3481 434 \r\nz\r\n\" id=\"DejaVuSans-67\" transform=\"scale(0.015625)\"/>\r\n       <path d=\"M 2834 3397 \r\nL 2834 2853 \r\nQ 2591 2978 2328 3040 \r\nQ 2066 3103 1784 3103 \r\nQ 1356 3103 1142 2972 \r\nQ 928 2841 928 2578 \r\nQ 928 2378 1081 2264 \r\nQ 1234 2150 1697 2047 \r\nL 1894 2003 \r\nQ 2506 1872 2764 1633 \r\nQ 3022 1394 3022 966 \r\nQ 3022 478 2636 193 \r\nQ 2250 -91 1575 -91 \r\nQ 1294 -91 989 -36 \r\nQ 684 19 347 128 \r\nL 347 722 \r\nQ 666 556 975 473 \r\nQ 1284 391 1588 391 \r\nQ 1994 391 2212 530 \r\nQ 2431 669 2431 922 \r\nQ 2431 1156 2273 1281 \r\nQ 2116 1406 1581 1522 \r\nL 1381 1569 \r\nQ 847 1681 609 1914 \r\nQ 372 2147 372 2553 \r\nQ 372 3047 722 3315 \r\nQ 1072 3584 1716 3584 \r\nQ 2034 3584 2315 3537 \r\nQ 2597 3491 2834 3397 \r\nz\r\n\" id=\"DejaVuSans-73\" transform=\"scale(0.015625)\"/>\r\n      </defs>\r\n      <use xlink:href=\"#DejaVuSans-4e\"/>\r\n      <use x=\"74.804688\" xlink:href=\"#DejaVuSans-75\"/>\r\n      <use x=\"138.183594\" xlink:href=\"#DejaVuSans-6d\"/>\r\n      <use x=\"235.595703\" xlink:href=\"#DejaVuSans-62\"/>\r\n      <use x=\"299.072266\" xlink:href=\"#DejaVuSans-65\"/>\r\n      <use x=\"360.595703\" xlink:href=\"#DejaVuSans-72\"/>\r\n      <use x=\"401.708984\" xlink:href=\"#DejaVuSans-20\"/>\r\n      <use x=\"433.496094\" xlink:href=\"#DejaVuSans-6f\"/>\r\n      <use x=\"494.677734\" xlink:href=\"#DejaVuSans-66\"/>\r\n      <use x=\"529.882812\" xlink:href=\"#DejaVuSans-20\"/>\r\n      <use x=\"561.669922\" xlink:href=\"#DejaVuSans-49\"/>\r\n      <use x=\"591.162109\" xlink:href=\"#DejaVuSans-6d\"/>\r\n      <use x=\"688.574219\" xlink:href=\"#DejaVuSans-61\"/>\r\n      <use x=\"749.853516\" xlink:href=\"#DejaVuSans-67\"/>\r\n      <use x=\"813.330078\" xlink:href=\"#DejaVuSans-65\"/>\r\n      <use x=\"874.853516\" xlink:href=\"#DejaVuSans-73\"/>\r\n     </g>\r\n    </g>\r\n   </g>\r\n   <g id=\"matplotlib.axis_2\">\r\n    <g id=\"ytick_1\">\r\n     <g id=\"line2d_9\">\r\n      <defs>\r\n       <path d=\"M 0 0 \r\nL -3.5 0 \r\n\" id=\"ma1109c9c53\" style=\"stroke:#000000;stroke-width:0.8;\"/>\r\n      </defs>\r\n      <g>\r\n       <use style=\"stroke:#000000;stroke-width:0.8;\" x=\"40.603125\" xlink:href=\"#ma1109c9c53\" y=\"317.2\"/>\r\n      </g>\r\n     </g>\r\n     <g id=\"text_10\">\r\n      <!-- 0 -->\r\n      <g transform=\"translate(27.240625 320.999219)scale(0.1 -0.1)\">\r\n       <use xlink:href=\"#DejaVuSans-30\"/>\r\n      </g>\r\n     </g>\r\n    </g>\r\n    <g id=\"ytick_2\">\r\n     <g id=\"line2d_10\">\r\n      <g>\r\n       <use style=\"stroke:#000000;stroke-width:0.8;\" x=\"40.603125\" xlink:href=\"#ma1109c9c53\" y=\"286.746218\"/>\r\n      </g>\r\n     </g>\r\n     <g id=\"text_11\">\r\n      <!-- 2 -->\r\n      <g transform=\"translate(27.240625 290.545437)scale(0.1 -0.1)\">\r\n       <use xlink:href=\"#DejaVuSans-32\"/>\r\n      </g>\r\n     </g>\r\n    </g>\r\n    <g id=\"ytick_3\">\r\n     <g id=\"line2d_11\">\r\n      <g>\r\n       <use style=\"stroke:#000000;stroke-width:0.8;\" x=\"40.603125\" xlink:href=\"#ma1109c9c53\" y=\"256.292437\"/>\r\n      </g>\r\n     </g>\r\n     <g id=\"text_12\">\r\n      <!-- 4 -->\r\n      <g transform=\"translate(27.240625 260.091656)scale(0.1 -0.1)\">\r\n       <use xlink:href=\"#DejaVuSans-34\"/>\r\n      </g>\r\n     </g>\r\n    </g>\r\n    <g id=\"ytick_4\">\r\n     <g id=\"line2d_12\">\r\n      <g>\r\n       <use style=\"stroke:#000000;stroke-width:0.8;\" x=\"40.603125\" xlink:href=\"#ma1109c9c53\" y=\"225.838655\"/>\r\n      </g>\r\n     </g>\r\n     <g id=\"text_13\">\r\n      <!-- 6 -->\r\n      <g transform=\"translate(27.240625 229.637874)scale(0.1 -0.1)\">\r\n       <use xlink:href=\"#DejaVuSans-36\"/>\r\n      </g>\r\n     </g>\r\n    </g>\r\n    <g id=\"ytick_5\">\r\n     <g id=\"line2d_13\">\r\n      <g>\r\n       <use style=\"stroke:#000000;stroke-width:0.8;\" x=\"40.603125\" xlink:href=\"#ma1109c9c53\" y=\"195.384874\"/>\r\n      </g>\r\n     </g>\r\n     <g id=\"text_14\">\r\n      <!-- 8 -->\r\n      <g transform=\"translate(27.240625 199.184093)scale(0.1 -0.1)\">\r\n       <defs>\r\n        <path d=\"M 2034 2216 \r\nQ 1584 2216 1326 1975 \r\nQ 1069 1734 1069 1313 \r\nQ 1069 891 1326 650 \r\nQ 1584 409 2034 409 \r\nQ 2484 409 2743 651 \r\nQ 3003 894 3003 1313 \r\nQ 3003 1734 2745 1975 \r\nQ 2488 2216 2034 2216 \r\nz\r\nM 1403 2484 \r\nQ 997 2584 770 2862 \r\nQ 544 3141 544 3541 \r\nQ 544 4100 942 4425 \r\nQ 1341 4750 2034 4750 \r\nQ 2731 4750 3128 4425 \r\nQ 3525 4100 3525 3541 \r\nQ 3525 3141 3298 2862 \r\nQ 3072 2584 2669 2484 \r\nQ 3125 2378 3379 2068 \r\nQ 3634 1759 3634 1313 \r\nQ 3634 634 3220 271 \r\nQ 2806 -91 2034 -91 \r\nQ 1263 -91 848 271 \r\nQ 434 634 434 1313 \r\nQ 434 1759 690 2068 \r\nQ 947 2378 1403 2484 \r\nz\r\nM 1172 3481 \r\nQ 1172 3119 1398 2916 \r\nQ 1625 2713 2034 2713 \r\nQ 2441 2713 2670 2916 \r\nQ 2900 3119 2900 3481 \r\nQ 2900 3844 2670 4047 \r\nQ 2441 4250 2034 4250 \r\nQ 1625 4250 1398 4047 \r\nQ 1172 3844 1172 3481 \r\nz\r\n\" id=\"DejaVuSans-38\" transform=\"scale(0.015625)\"/>\r\n       </defs>\r\n       <use xlink:href=\"#DejaVuSans-38\"/>\r\n      </g>\r\n     </g>\r\n    </g>\r\n    <g id=\"ytick_6\">\r\n     <g id=\"line2d_14\">\r\n      <g>\r\n       <use style=\"stroke:#000000;stroke-width:0.8;\" x=\"40.603125\" xlink:href=\"#ma1109c9c53\" y=\"164.931092\"/>\r\n      </g>\r\n     </g>\r\n     <g id=\"text_15\">\r\n      <!-- 10 -->\r\n      <g transform=\"translate(20.878125 168.730311)scale(0.1 -0.1)\">\r\n       <use xlink:href=\"#DejaVuSans-31\"/>\r\n       <use x=\"63.623047\" xlink:href=\"#DejaVuSans-30\"/>\r\n      </g>\r\n     </g>\r\n    </g>\r\n    <g id=\"ytick_7\">\r\n     <g id=\"line2d_15\">\r\n      <g>\r\n       <use style=\"stroke:#000000;stroke-width:0.8;\" x=\"40.603125\" xlink:href=\"#ma1109c9c53\" y=\"134.477311\"/>\r\n      </g>\r\n     </g>\r\n     <g id=\"text_16\">\r\n      <!-- 12 -->\r\n      <g transform=\"translate(20.878125 138.27653)scale(0.1 -0.1)\">\r\n       <use xlink:href=\"#DejaVuSans-31\"/>\r\n       <use x=\"63.623047\" xlink:href=\"#DejaVuSans-32\"/>\r\n      </g>\r\n     </g>\r\n    </g>\r\n    <g id=\"ytick_8\">\r\n     <g id=\"line2d_16\">\r\n      <g>\r\n       <use style=\"stroke:#000000;stroke-width:0.8;\" x=\"40.603125\" xlink:href=\"#ma1109c9c53\" y=\"104.023529\"/>\r\n      </g>\r\n     </g>\r\n     <g id=\"text_17\">\r\n      <!-- 14 -->\r\n      <g transform=\"translate(20.878125 107.822748)scale(0.1 -0.1)\">\r\n       <use xlink:href=\"#DejaVuSans-31\"/>\r\n       <use x=\"63.623047\" xlink:href=\"#DejaVuSans-34\"/>\r\n      </g>\r\n     </g>\r\n    </g>\r\n    <g id=\"ytick_9\">\r\n     <g id=\"line2d_17\">\r\n      <g>\r\n       <use style=\"stroke:#000000;stroke-width:0.8;\" x=\"40.603125\" xlink:href=\"#ma1109c9c53\" y=\"73.569748\"/>\r\n      </g>\r\n     </g>\r\n     <g id=\"text_18\">\r\n      <!-- 16 -->\r\n      <g transform=\"translate(20.878125 77.368967)scale(0.1 -0.1)\">\r\n       <use xlink:href=\"#DejaVuSans-31\"/>\r\n       <use x=\"63.623047\" xlink:href=\"#DejaVuSans-36\"/>\r\n      </g>\r\n     </g>\r\n    </g>\r\n    <g id=\"text_19\">\r\n     <!-- Count -->\r\n     <g transform=\"translate(14.798437 196.148437)rotate(-90)scale(0.1 -0.1)\">\r\n      <defs>\r\n       <path d=\"M 4122 4306 \r\nL 4122 3641 \r\nQ 3803 3938 3442 4084 \r\nQ 3081 4231 2675 4231 \r\nQ 1875 4231 1450 3742 \r\nQ 1025 3253 1025 2328 \r\nQ 1025 1406 1450 917 \r\nQ 1875 428 2675 428 \r\nQ 3081 428 3442 575 \r\nQ 3803 722 4122 1019 \r\nL 4122 359 \r\nQ 3791 134 3420 21 \r\nQ 3050 -91 2638 -91 \r\nQ 1578 -91 968 557 \r\nQ 359 1206 359 2328 \r\nQ 359 3453 968 4101 \r\nQ 1578 4750 2638 4750 \r\nQ 3056 4750 3426 4639 \r\nQ 3797 4528 4122 4306 \r\nz\r\n\" id=\"DejaVuSans-43\" transform=\"scale(0.015625)\"/>\r\n       <path d=\"M 3513 2113 \r\nL 3513 0 \r\nL 2938 0 \r\nL 2938 2094 \r\nQ 2938 2591 2744 2837 \r\nQ 2550 3084 2163 3084 \r\nQ 1697 3084 1428 2787 \r\nQ 1159 2491 1159 1978 \r\nL 1159 0 \r\nL 581 0 \r\nL 581 3500 \r\nL 1159 3500 \r\nL 1159 2956 \r\nQ 1366 3272 1645 3428 \r\nQ 1925 3584 2291 3584 \r\nQ 2894 3584 3203 3211 \r\nQ 3513 2838 3513 2113 \r\nz\r\n\" id=\"DejaVuSans-6e\" transform=\"scale(0.015625)\"/>\r\n       <path d=\"M 1172 4494 \r\nL 1172 3500 \r\nL 2356 3500 \r\nL 2356 3053 \r\nL 1172 3053 \r\nL 1172 1153 \r\nQ 1172 725 1289 603 \r\nQ 1406 481 1766 481 \r\nL 2356 481 \r\nL 2356 0 \r\nL 1766 0 \r\nQ 1100 0 847 248 \r\nQ 594 497 594 1153 \r\nL 594 3053 \r\nL 172 3053 \r\nL 172 3500 \r\nL 594 3500 \r\nL 594 4494 \r\nL 1172 4494 \r\nz\r\n\" id=\"DejaVuSans-74\" transform=\"scale(0.015625)\"/>\r\n      </defs>\r\n      <use xlink:href=\"#DejaVuSans-43\"/>\r\n      <use x=\"69.824219\" xlink:href=\"#DejaVuSans-6f\"/>\r\n      <use x=\"131.005859\" xlink:href=\"#DejaVuSans-75\"/>\r\n      <use x=\"194.384766\" xlink:href=\"#DejaVuSans-6e\"/>\r\n      <use x=\"257.763672\" xlink:href=\"#DejaVuSans-74\"/>\r\n     </g>\r\n    </g>\r\n   </g>\r\n   <g id=\"patch_23\">\r\n    <path d=\"M 40.603125 317.2 \r\nL 40.603125 45.4 \r\n\" style=\"fill:none;stroke:#000000;stroke-linecap:square;stroke-linejoin:miter;stroke-width:0.8;\"/>\r\n   </g>\r\n   <g id=\"patch_24\">\r\n    <path d=\"M 294.239489 317.2 \r\nL 294.239489 45.4 \r\n\" style=\"fill:none;stroke:#000000;stroke-linecap:square;stroke-linejoin:miter;stroke-width:0.8;\"/>\r\n   </g>\r\n   <g id=\"patch_25\">\r\n    <path d=\"M 40.603125 317.2 \r\nL 294.239489 317.2 \r\n\" style=\"fill:none;stroke:#000000;stroke-linecap:square;stroke-linejoin:miter;stroke-width:0.8;\"/>\r\n   </g>\r\n   <g id=\"patch_26\">\r\n    <path d=\"M 40.603125 45.4 \r\nL 294.239489 45.4 \r\n\" style=\"fill:none;stroke:#000000;stroke-linecap:square;stroke-linejoin:miter;stroke-width:0.8;\"/>\r\n   </g>\r\n  </g>\r\n  <g id=\"axes_2\">\r\n   <g id=\"patch_27\">\r\n    <path d=\"M 344.966761 317.2 \r\nL 598.603125 317.2 \r\nL 598.603125 45.4 \r\nL 344.966761 45.4 \r\nz\r\n\" style=\"fill:#ffffff;\"/>\r\n   </g>\r\n   <g id=\"patch_28\">\r\n    <path clip-path=\"url(#pb28bbc8e1b)\" d=\"M 356.495687 317.2 \r\nL 368.024613 317.2 \r\nL 368.024613 58.342857 \r\nL 356.495687 58.342857 \r\nz\r\n\" style=\"fill:#ff0000;fill-opacity:0.75;stroke:#000000;stroke-linejoin:miter;\"/>\r\n   </g>\r\n   <g id=\"patch_29\">\r\n    <path clip-path=\"url(#pb28bbc8e1b)\" d=\"M 368.024613 317.2 \r\nL 379.553538 317.2 \r\nL 379.553538 317.2 \r\nL 368.024613 317.2 \r\nz\r\n\" style=\"fill:#ff0000;fill-opacity:0.75;stroke:#000000;stroke-linejoin:miter;\"/>\r\n   </g>\r\n   <g id=\"patch_30\">\r\n    <path clip-path=\"url(#pb28bbc8e1b)\" d=\"M 379.553538 317.2 \r\nL 391.082464 317.2 \r\nL 391.082464 317.2 \r\nL 379.553538 317.2 \r\nz\r\n\" style=\"fill:#ff0000;fill-opacity:0.75;stroke:#000000;stroke-linejoin:miter;\"/>\r\n   </g>\r\n   <g id=\"patch_31\">\r\n    <path clip-path=\"url(#pb28bbc8e1b)\" d=\"M 391.082464 317.2 \r\nL 402.611389 317.2 \r\nL 402.611389 317.2 \r\nL 391.082464 317.2 \r\nz\r\n\" style=\"fill:#ff0000;fill-opacity:0.75;stroke:#000000;stroke-linejoin:miter;\"/>\r\n   </g>\r\n   <g id=\"patch_32\">\r\n    <path clip-path=\"url(#pb28bbc8e1b)\" d=\"M 402.611389 317.2 \r\nL 414.140315 317.2 \r\nL 414.140315 317.2 \r\nL 402.611389 317.2 \r\nz\r\n\" style=\"fill:#ff0000;fill-opacity:0.75;stroke:#000000;stroke-linejoin:miter;\"/>\r\n   </g>\r\n   <g id=\"patch_33\">\r\n    <path clip-path=\"url(#pb28bbc8e1b)\" d=\"M 414.140315 317.2 \r\nL 425.669241 317.2 \r\nL 425.669241 317.2 \r\nL 414.140315 317.2 \r\nz\r\n\" style=\"fill:#ff0000;fill-opacity:0.75;stroke:#000000;stroke-linejoin:miter;\"/>\r\n   </g>\r\n   <g id=\"patch_34\">\r\n    <path clip-path=\"url(#pb28bbc8e1b)\" d=\"M 425.669241 317.2 \r\nL 437.198166 317.2 \r\nL 437.198166 317.2 \r\nL 425.669241 317.2 \r\nz\r\n\" style=\"fill:#ff0000;fill-opacity:0.75;stroke:#000000;stroke-linejoin:miter;\"/>\r\n   </g>\r\n   <g id=\"patch_35\">\r\n    <path clip-path=\"url(#pb28bbc8e1b)\" d=\"M 437.198166 317.2 \r\nL 448.727092 317.2 \r\nL 448.727092 317.2 \r\nL 437.198166 317.2 \r\nz\r\n\" style=\"fill:#ff0000;fill-opacity:0.75;stroke:#000000;stroke-linejoin:miter;\"/>\r\n   </g>\r\n   <g id=\"patch_36\">\r\n    <path clip-path=\"url(#pb28bbc8e1b)\" d=\"M 448.727092 317.2 \r\nL 460.256018 317.2 \r\nL 460.256018 317.2 \r\nL 448.727092 317.2 \r\nz\r\n\" style=\"fill:#ff0000;fill-opacity:0.75;stroke:#000000;stroke-linejoin:miter;\"/>\r\n   </g>\r\n   <g id=\"patch_37\">\r\n    <path clip-path=\"url(#pb28bbc8e1b)\" d=\"M 460.256018 317.2 \r\nL 471.784943 317.2 \r\nL 471.784943 317.2 \r\nL 460.256018 317.2 \r\nz\r\n\" style=\"fill:#ff0000;fill-opacity:0.75;stroke:#000000;stroke-linejoin:miter;\"/>\r\n   </g>\r\n   <g id=\"patch_38\">\r\n    <path clip-path=\"url(#pb28bbc8e1b)\" d=\"M 471.784943 317.2 \r\nL 483.313869 317.2 \r\nL 483.313869 317.2 \r\nL 471.784943 317.2 \r\nz\r\n\" style=\"fill:#ff0000;fill-opacity:0.75;stroke:#000000;stroke-linejoin:miter;\"/>\r\n   </g>\r\n   <g id=\"patch_39\">\r\n    <path clip-path=\"url(#pb28bbc8e1b)\" d=\"M 483.313869 317.2 \r\nL 494.842794 317.2 \r\nL 494.842794 317.2 \r\nL 483.313869 317.2 \r\nz\r\n\" style=\"fill:#ff0000;fill-opacity:0.75;stroke:#000000;stroke-linejoin:miter;\"/>\r\n   </g>\r\n   <g id=\"patch_40\">\r\n    <path clip-path=\"url(#pb28bbc8e1b)\" d=\"M 494.842794 317.2 \r\nL 506.37172 317.2 \r\nL 506.37172 317.2 \r\nL 494.842794 317.2 \r\nz\r\n\" style=\"fill:#ff0000;fill-opacity:0.75;stroke:#000000;stroke-linejoin:miter;\"/>\r\n   </g>\r\n   <g id=\"patch_41\">\r\n    <path clip-path=\"url(#pb28bbc8e1b)\" d=\"M 506.37172 317.2 \r\nL 517.900646 317.2 \r\nL 517.900646 317.2 \r\nL 506.37172 317.2 \r\nz\r\n\" style=\"fill:#ff0000;fill-opacity:0.75;stroke:#000000;stroke-linejoin:miter;\"/>\r\n   </g>\r\n   <g id=\"patch_42\">\r\n    <path clip-path=\"url(#pb28bbc8e1b)\" d=\"M 517.900646 317.2 \r\nL 529.429571 317.2 \r\nL 529.429571 317.2 \r\nL 517.900646 317.2 \r\nz\r\n\" style=\"fill:#ff0000;fill-opacity:0.75;stroke:#000000;stroke-linejoin:miter;\"/>\r\n   </g>\r\n   <g id=\"patch_43\">\r\n    <path clip-path=\"url(#pb28bbc8e1b)\" d=\"M 529.429571 317.2 \r\nL 540.958497 317.2 \r\nL 540.958497 317.2 \r\nL 529.429571 317.2 \r\nz\r\n\" style=\"fill:#ff0000;fill-opacity:0.75;stroke:#000000;stroke-linejoin:miter;\"/>\r\n   </g>\r\n   <g id=\"patch_44\">\r\n    <path clip-path=\"url(#pb28bbc8e1b)\" d=\"M 540.958497 317.2 \r\nL 552.487423 317.2 \r\nL 552.487423 317.2 \r\nL 540.958497 317.2 \r\nz\r\n\" style=\"fill:#ff0000;fill-opacity:0.75;stroke:#000000;stroke-linejoin:miter;\"/>\r\n   </g>\r\n   <g id=\"patch_45\">\r\n    <path clip-path=\"url(#pb28bbc8e1b)\" d=\"M 552.487423 317.2 \r\nL 564.016348 317.2 \r\nL 564.016348 317.2 \r\nL 552.487423 317.2 \r\nz\r\n\" style=\"fill:#ff0000;fill-opacity:0.75;stroke:#000000;stroke-linejoin:miter;\"/>\r\n   </g>\r\n   <g id=\"patch_46\">\r\n    <path clip-path=\"url(#pb28bbc8e1b)\" d=\"M 564.016348 317.2 \r\nL 575.545274 317.2 \r\nL 575.545274 317.2 \r\nL 564.016348 317.2 \r\nz\r\n\" style=\"fill:#ff0000;fill-opacity:0.75;stroke:#000000;stroke-linejoin:miter;\"/>\r\n   </g>\r\n   <g id=\"patch_47\">\r\n    <path clip-path=\"url(#pb28bbc8e1b)\" d=\"M 575.545274 317.2 \r\nL 587.074199 317.2 \r\nL 587.074199 247.750523 \r\nL 575.545274 247.750523 \r\nz\r\n\" style=\"fill:#ff0000;fill-opacity:0.75;stroke:#000000;stroke-linejoin:miter;\"/>\r\n   </g>\r\n   <g id=\"matplotlib.axis_3\">\r\n    <g id=\"xtick_9\">\r\n     <g id=\"line2d_18\">\r\n      <g>\r\n       <use style=\"stroke:#000000;stroke-width:0.8;\" x=\"393.178632\" xlink:href=\"#me207c422b1\" y=\"317.2\"/>\r\n      </g>\r\n     </g>\r\n     <g id=\"text_20\">\r\n      <!-- 230 -->\r\n      <g transform=\"translate(383.634882 331.798437)scale(0.1 -0.1)\">\r\n       <use xlink:href=\"#DejaVuSans-32\"/>\r\n       <use x=\"63.623047\" xlink:href=\"#DejaVuSans-33\"/>\r\n       <use x=\"127.246094\" xlink:href=\"#DejaVuSans-30\"/>\r\n      </g>\r\n     </g>\r\n    </g>\r\n    <g id=\"xtick_10\">\r\n     <g id=\"line2d_19\">\r\n      <g>\r\n       <use style=\"stroke:#000000;stroke-width:0.8;\" x=\"445.58284\" xlink:href=\"#me207c422b1\" y=\"317.2\"/>\r\n      </g>\r\n     </g>\r\n     <g id=\"text_21\">\r\n      <!-- 240 -->\r\n      <g transform=\"translate(436.03909 331.798437)scale(0.1 -0.1)\">\r\n       <use xlink:href=\"#DejaVuSans-32\"/>\r\n       <use x=\"63.623047\" xlink:href=\"#DejaVuSans-34\"/>\r\n       <use x=\"127.246094\" xlink:href=\"#DejaVuSans-30\"/>\r\n      </g>\r\n     </g>\r\n    </g>\r\n    <g id=\"xtick_11\">\r\n     <g id=\"line2d_20\">\r\n      <g>\r\n       <use style=\"stroke:#000000;stroke-width:0.8;\" x=\"497.987047\" xlink:href=\"#me207c422b1\" y=\"317.2\"/>\r\n      </g>\r\n     </g>\r\n     <g id=\"text_22\">\r\n      <!-- 250 -->\r\n      <g transform=\"translate(488.443297 331.798437)scale(0.1 -0.1)\">\r\n       <use xlink:href=\"#DejaVuSans-32\"/>\r\n       <use x=\"63.623047\" xlink:href=\"#DejaVuSans-35\"/>\r\n       <use x=\"127.246094\" xlink:href=\"#DejaVuSans-30\"/>\r\n      </g>\r\n     </g>\r\n    </g>\r\n    <g id=\"xtick_12\">\r\n     <g id=\"line2d_21\">\r\n      <g>\r\n       <use style=\"stroke:#000000;stroke-width:0.8;\" x=\"550.391254\" xlink:href=\"#me207c422b1\" y=\"317.2\"/>\r\n      </g>\r\n     </g>\r\n     <g id=\"text_23\">\r\n      <!-- 260 -->\r\n      <g transform=\"translate(540.847504 331.798437)scale(0.1 -0.1)\">\r\n       <use xlink:href=\"#DejaVuSans-32\"/>\r\n       <use x=\"63.623047\" xlink:href=\"#DejaVuSans-36\"/>\r\n       <use x=\"127.246094\" xlink:href=\"#DejaVuSans-30\"/>\r\n      </g>\r\n     </g>\r\n    </g>\r\n    <g id=\"text_24\">\r\n     <!-- Number of Images -->\r\n     <g transform=\"translate(425.436506 345.476562)scale(0.1 -0.1)\">\r\n      <use xlink:href=\"#DejaVuSans-4e\"/>\r\n      <use x=\"74.804688\" xlink:href=\"#DejaVuSans-75\"/>\r\n      <use x=\"138.183594\" xlink:href=\"#DejaVuSans-6d\"/>\r\n      <use x=\"235.595703\" xlink:href=\"#DejaVuSans-62\"/>\r\n      <use x=\"299.072266\" xlink:href=\"#DejaVuSans-65\"/>\r\n      <use x=\"360.595703\" xlink:href=\"#DejaVuSans-72\"/>\r\n      <use x=\"401.708984\" xlink:href=\"#DejaVuSans-20\"/>\r\n      <use x=\"433.496094\" xlink:href=\"#DejaVuSans-6f\"/>\r\n      <use x=\"494.677734\" xlink:href=\"#DejaVuSans-66\"/>\r\n      <use x=\"529.882812\" xlink:href=\"#DejaVuSans-20\"/>\r\n      <use x=\"561.669922\" xlink:href=\"#DejaVuSans-49\"/>\r\n      <use x=\"591.162109\" xlink:href=\"#DejaVuSans-6d\"/>\r\n      <use x=\"688.574219\" xlink:href=\"#DejaVuSans-61\"/>\r\n      <use x=\"749.853516\" xlink:href=\"#DejaVuSans-67\"/>\r\n      <use x=\"813.330078\" xlink:href=\"#DejaVuSans-65\"/>\r\n      <use x=\"874.853516\" xlink:href=\"#DejaVuSans-73\"/>\r\n     </g>\r\n    </g>\r\n   </g>\r\n   <g id=\"matplotlib.axis_4\">\r\n    <g id=\"ytick_10\">\r\n     <g id=\"line2d_22\">\r\n      <g>\r\n       <use style=\"stroke:#000000;stroke-width:0.8;\" x=\"344.966761\" xlink:href=\"#ma1109c9c53\" y=\"317.2\"/>\r\n      </g>\r\n     </g>\r\n     <g id=\"text_25\">\r\n      <!-- 0 -->\r\n      <g transform=\"translate(331.604261 320.999219)scale(0.1 -0.1)\">\r\n       <use xlink:href=\"#DejaVuSans-30\"/>\r\n      </g>\r\n     </g>\r\n    </g>\r\n    <g id=\"ytick_11\">\r\n     <g id=\"line2d_23\">\r\n      <g>\r\n       <use style=\"stroke:#000000;stroke-width:0.8;\" x=\"344.966761\" xlink:href=\"#ma1109c9c53\" y=\"285.632056\"/>\r\n      </g>\r\n     </g>\r\n     <g id=\"text_26\">\r\n      <!-- 5 -->\r\n      <g transform=\"translate(331.604261 289.431274)scale(0.1 -0.1)\">\r\n       <use xlink:href=\"#DejaVuSans-35\"/>\r\n      </g>\r\n     </g>\r\n    </g>\r\n    <g id=\"ytick_12\">\r\n     <g id=\"line2d_24\">\r\n      <g>\r\n       <use style=\"stroke:#000000;stroke-width:0.8;\" x=\"344.966761\" xlink:href=\"#ma1109c9c53\" y=\"254.064111\"/>\r\n      </g>\r\n     </g>\r\n     <g id=\"text_27\">\r\n      <!-- 10 -->\r\n      <g transform=\"translate(325.241761 257.86333)scale(0.1 -0.1)\">\r\n       <use xlink:href=\"#DejaVuSans-31\"/>\r\n       <use x=\"63.623047\" xlink:href=\"#DejaVuSans-30\"/>\r\n      </g>\r\n     </g>\r\n    </g>\r\n    <g id=\"ytick_13\">\r\n     <g id=\"line2d_25\">\r\n      <g>\r\n       <use style=\"stroke:#000000;stroke-width:0.8;\" x=\"344.966761\" xlink:href=\"#ma1109c9c53\" y=\"222.496167\"/>\r\n      </g>\r\n     </g>\r\n     <g id=\"text_28\">\r\n      <!-- 15 -->\r\n      <g transform=\"translate(325.241761 226.295386)scale(0.1 -0.1)\">\r\n       <use xlink:href=\"#DejaVuSans-31\"/>\r\n       <use x=\"63.623047\" xlink:href=\"#DejaVuSans-35\"/>\r\n      </g>\r\n     </g>\r\n    </g>\r\n    <g id=\"ytick_14\">\r\n     <g id=\"line2d_26\">\r\n      <g>\r\n       <use style=\"stroke:#000000;stroke-width:0.8;\" x=\"344.966761\" xlink:href=\"#ma1109c9c53\" y=\"190.928223\"/>\r\n      </g>\r\n     </g>\r\n     <g id=\"text_29\">\r\n      <!-- 20 -->\r\n      <g transform=\"translate(325.241761 194.727442)scale(0.1 -0.1)\">\r\n       <use xlink:href=\"#DejaVuSans-32\"/>\r\n       <use x=\"63.623047\" xlink:href=\"#DejaVuSans-30\"/>\r\n      </g>\r\n     </g>\r\n    </g>\r\n    <g id=\"ytick_15\">\r\n     <g id=\"line2d_27\">\r\n      <g>\r\n       <use style=\"stroke:#000000;stroke-width:0.8;\" x=\"344.966761\" xlink:href=\"#ma1109c9c53\" y=\"159.360279\"/>\r\n      </g>\r\n     </g>\r\n     <g id=\"text_30\">\r\n      <!-- 25 -->\r\n      <g transform=\"translate(325.241761 163.159497)scale(0.1 -0.1)\">\r\n       <use xlink:href=\"#DejaVuSans-32\"/>\r\n       <use x=\"63.623047\" xlink:href=\"#DejaVuSans-35\"/>\r\n      </g>\r\n     </g>\r\n    </g>\r\n    <g id=\"ytick_16\">\r\n     <g id=\"line2d_28\">\r\n      <g>\r\n       <use style=\"stroke:#000000;stroke-width:0.8;\" x=\"344.966761\" xlink:href=\"#ma1109c9c53\" y=\"127.792334\"/>\r\n      </g>\r\n     </g>\r\n     <g id=\"text_31\">\r\n      <!-- 30 -->\r\n      <g transform=\"translate(325.241761 131.591553)scale(0.1 -0.1)\">\r\n       <use xlink:href=\"#DejaVuSans-33\"/>\r\n       <use x=\"63.623047\" xlink:href=\"#DejaVuSans-30\"/>\r\n      </g>\r\n     </g>\r\n    </g>\r\n    <g id=\"ytick_17\">\r\n     <g id=\"line2d_29\">\r\n      <g>\r\n       <use style=\"stroke:#000000;stroke-width:0.8;\" x=\"344.966761\" xlink:href=\"#ma1109c9c53\" y=\"96.22439\"/>\r\n      </g>\r\n     </g>\r\n     <g id=\"text_32\">\r\n      <!-- 35 -->\r\n      <g transform=\"translate(325.241761 100.023609)scale(0.1 -0.1)\">\r\n       <use xlink:href=\"#DejaVuSans-33\"/>\r\n       <use x=\"63.623047\" xlink:href=\"#DejaVuSans-35\"/>\r\n      </g>\r\n     </g>\r\n    </g>\r\n    <g id=\"ytick_18\">\r\n     <g id=\"line2d_30\">\r\n      <g>\r\n       <use style=\"stroke:#000000;stroke-width:0.8;\" x=\"344.966761\" xlink:href=\"#ma1109c9c53\" y=\"64.656446\"/>\r\n      </g>\r\n     </g>\r\n     <g id=\"text_33\">\r\n      <!-- 40 -->\r\n      <g transform=\"translate(325.241761 68.455665)scale(0.1 -0.1)\">\r\n       <use xlink:href=\"#DejaVuSans-34\"/>\r\n       <use x=\"63.623047\" xlink:href=\"#DejaVuSans-30\"/>\r\n      </g>\r\n     </g>\r\n    </g>\r\n    <g id=\"text_34\">\r\n     <!-- Count -->\r\n     <g transform=\"translate(319.162074 196.148437)rotate(-90)scale(0.1 -0.1)\">\r\n      <use xlink:href=\"#DejaVuSans-43\"/>\r\n      <use x=\"69.824219\" xlink:href=\"#DejaVuSans-6f\"/>\r\n      <use x=\"131.005859\" xlink:href=\"#DejaVuSans-75\"/>\r\n      <use x=\"194.384766\" xlink:href=\"#DejaVuSans-6e\"/>\r\n      <use x=\"257.763672\" xlink:href=\"#DejaVuSans-74\"/>\r\n     </g>\r\n    </g>\r\n   </g>\r\n   <g id=\"patch_48\">\r\n    <path d=\"M 344.966761 317.2 \r\nL 344.966761 45.4 \r\n\" style=\"fill:none;stroke:#000000;stroke-linecap:square;stroke-linejoin:miter;stroke-width:0.8;\"/>\r\n   </g>\r\n   <g id=\"patch_49\">\r\n    <path d=\"M 598.603125 317.2 \r\nL 598.603125 45.4 \r\n\" style=\"fill:none;stroke:#000000;stroke-linecap:square;stroke-linejoin:miter;stroke-width:0.8;\"/>\r\n   </g>\r\n   <g id=\"patch_50\">\r\n    <path d=\"M 344.966761 317.2 \r\nL 598.603125 317.2 \r\n\" style=\"fill:none;stroke:#000000;stroke-linecap:square;stroke-linejoin:miter;stroke-width:0.8;\"/>\r\n   </g>\r\n   <g id=\"patch_51\">\r\n    <path d=\"M 344.966761 45.4 \r\nL 598.603125 45.4 \r\n\" style=\"fill:none;stroke:#000000;stroke-linecap:square;stroke-linejoin:miter;stroke-width:0.8;\"/>\r\n   </g>\r\n  </g>\r\n  <g id=\"legend_1\">\r\n   <g id=\"patch_52\">\r\n    <path d=\"M 619.184375 52.034375 \r\nL 665.803125 52.034375 \r\nQ 667.803125 52.034375 667.803125 50.034375 \r\nL 667.803125 7 \r\nQ 667.803125 5 665.803125 5 \r\nL 619.184375 5 \r\nQ 617.184375 5 617.184375 7 \r\nL 617.184375 50.034375 \r\nQ 617.184375 52.034375 619.184375 52.034375 \r\nz\r\n\" style=\"fill:#ffffff;opacity:0.8;stroke:#cccccc;stroke-linejoin:miter;\"/>\r\n   </g>\r\n   <g id=\"text_35\">\r\n    <!-- Modality -->\r\n    <g transform=\"translate(621.184375 16.598437)scale(0.1 -0.1)\">\r\n     <defs>\r\n      <path d=\"M 628 4666 \r\nL 1569 4666 \r\nL 2759 1491 \r\nL 3956 4666 \r\nL 4897 4666 \r\nL 4897 0 \r\nL 4281 0 \r\nL 4281 4097 \r\nL 3078 897 \r\nL 2444 897 \r\nL 1241 4097 \r\nL 1241 0 \r\nL 628 0 \r\nL 628 4666 \r\nz\r\n\" id=\"DejaVuSans-4d\" transform=\"scale(0.015625)\"/>\r\n      <path d=\"M 2906 2969 \r\nL 2906 4863 \r\nL 3481 4863 \r\nL 3481 0 \r\nL 2906 0 \r\nL 2906 525 \r\nQ 2725 213 2448 61 \r\nQ 2172 -91 1784 -91 \r\nQ 1150 -91 751 415 \r\nQ 353 922 353 1747 \r\nQ 353 2572 751 3078 \r\nQ 1150 3584 1784 3584 \r\nQ 2172 3584 2448 3432 \r\nQ 2725 3281 2906 2969 \r\nz\r\nM 947 1747 \r\nQ 947 1113 1208 752 \r\nQ 1469 391 1925 391 \r\nQ 2381 391 2643 752 \r\nQ 2906 1113 2906 1747 \r\nQ 2906 2381 2643 2742 \r\nQ 2381 3103 1925 3103 \r\nQ 1469 3103 1208 2742 \r\nQ 947 2381 947 1747 \r\nz\r\n\" id=\"DejaVuSans-64\" transform=\"scale(0.015625)\"/>\r\n      <path d=\"M 603 4863 \r\nL 1178 4863 \r\nL 1178 0 \r\nL 603 0 \r\nL 603 4863 \r\nz\r\n\" id=\"DejaVuSans-6c\" transform=\"scale(0.015625)\"/>\r\n      <path d=\"M 603 3500 \r\nL 1178 3500 \r\nL 1178 0 \r\nL 603 0 \r\nL 603 3500 \r\nz\r\nM 603 4863 \r\nL 1178 4863 \r\nL 1178 4134 \r\nL 603 4134 \r\nL 603 4863 \r\nz\r\n\" id=\"DejaVuSans-69\" transform=\"scale(0.015625)\"/>\r\n      <path d=\"M 2059 -325 \r\nQ 1816 -950 1584 -1140 \r\nQ 1353 -1331 966 -1331 \r\nL 506 -1331 \r\nL 506 -850 \r\nL 844 -850 \r\nQ 1081 -850 1212 -737 \r\nQ 1344 -625 1503 -206 \r\nL 1606 56 \r\nL 191 3500 \r\nL 800 3500 \r\nL 1894 763 \r\nL 2988 3500 \r\nL 3597 3500 \r\nL 2059 -325 \r\nz\r\n\" id=\"DejaVuSans-79\" transform=\"scale(0.015625)\"/>\r\n     </defs>\r\n     <use xlink:href=\"#DejaVuSans-4d\"/>\r\n     <use x=\"86.279297\" xlink:href=\"#DejaVuSans-6f\"/>\r\n     <use x=\"147.460938\" xlink:href=\"#DejaVuSans-64\"/>\r\n     <use x=\"210.9375\" xlink:href=\"#DejaVuSans-61\"/>\r\n     <use x=\"272.216797\" xlink:href=\"#DejaVuSans-6c\"/>\r\n     <use x=\"300\" xlink:href=\"#DejaVuSans-69\"/>\r\n     <use x=\"327.783203\" xlink:href=\"#DejaVuSans-74\"/>\r\n     <use x=\"366.992188\" xlink:href=\"#DejaVuSans-79\"/>\r\n    </g>\r\n   </g>\r\n   <g id=\"patch_53\">\r\n    <path d=\"M 621.948438 31.276563 \r\nL 641.948438 31.276563 \r\nL 641.948438 24.276563 \r\nL 621.948438 24.276563 \r\nz\r\n\" style=\"fill:#0000ff;fill-opacity:0.75;stroke:#000000;stroke-linejoin:miter;\"/>\r\n   </g>\r\n   <g id=\"text_36\">\r\n    <!-- CT -->\r\n    <g transform=\"translate(649.948438 31.276563)scale(0.1 -0.1)\">\r\n     <defs>\r\n      <path d=\"M -19 4666 \r\nL 3928 4666 \r\nL 3928 4134 \r\nL 2272 4134 \r\nL 2272 0 \r\nL 1638 0 \r\nL 1638 4134 \r\nL -19 4134 \r\nL -19 4666 \r\nz\r\n\" id=\"DejaVuSans-54\" transform=\"scale(0.015625)\"/>\r\n     </defs>\r\n     <use xlink:href=\"#DejaVuSans-43\"/>\r\n     <use x=\"69.824219\" xlink:href=\"#DejaVuSans-54\"/>\r\n    </g>\r\n   </g>\r\n   <g id=\"patch_54\">\r\n    <path d=\"M 621.948438 45.954688 \r\nL 641.948438 45.954688 \r\nL 641.948438 38.954688 \r\nL 621.948438 38.954688 \r\nz\r\n\" style=\"fill:#ff0000;fill-opacity:0.75;stroke:#000000;stroke-linejoin:miter;\"/>\r\n   </g>\r\n   <g id=\"text_37\">\r\n    <!-- PT -->\r\n    <g transform=\"translate(649.948438 45.954688)scale(0.1 -0.1)\">\r\n     <defs>\r\n      <path d=\"M 1259 4147 \r\nL 1259 2394 \r\nL 2053 2394 \r\nQ 2494 2394 2734 2622 \r\nQ 2975 2850 2975 3272 \r\nQ 2975 3691 2734 3919 \r\nQ 2494 4147 2053 4147 \r\nL 1259 4147 \r\nz\r\nM 628 4666 \r\nL 2053 4666 \r\nQ 2838 4666 3239 4311 \r\nQ 3641 3956 3641 3272 \r\nQ 3641 2581 3239 2228 \r\nQ 2838 1875 2053 1875 \r\nL 1259 1875 \r\nL 1259 0 \r\nL 628 0 \r\nL 628 4666 \r\nz\r\n\" id=\"DejaVuSans-50\" transform=\"scale(0.015625)\"/>\r\n     </defs>\r\n     <use xlink:href=\"#DejaVuSans-50\"/>\r\n     <use x=\"60.302734\" xlink:href=\"#DejaVuSans-54\"/>\r\n    </g>\r\n   </g>\r\n  </g>\r\n </g>\r\n <defs>\r\n  <clipPath id=\"pf7dbbf7760\">\r\n   <rect height=\"271.8\" width=\"253.636364\" x=\"40.603125\" y=\"45.4\"/>\r\n  </clipPath>\r\n  <clipPath id=\"pb28bbc8e1b\">\r\n   <rect height=\"271.8\" width=\"253.636364\" x=\"344.966761\" y=\"45.4\"/>\r\n  </clipPath>\r\n </defs>\r\n</svg>\r\n",
      "image/png": "[encoded data removed]"
     },
     "metadata": {
      "needs_background": "light"
     }
    }
   ],
   "source": [
    "# Check Number of .dcm Files\n",
    "fig, axes = plt.subplots(1, 2, figsize=(10,5))\n",
    "sns.histplot(prefin_metadata[prefin_metadata.Modality=='CT']['Number of Images'],\n",
    "             color='blue', label='CT', ax=axes[0], bins=20)\n",
    "sns.histplot(prefin_metadata[prefin_metadata.Modality=='PT']['Number of Images'],\n",
    "             color='red', label='PT', ax=axes[1], bins=20)\n",
    "fig.legend(title='Modality')\n",
    "plt.show()"
   ]
  },
  {
   "cell_type": "code",
   "execution_count": 94,
   "metadata": {},
   "outputs": [],
   "source": [
    "# Save Prefinal Metadata to csv\n",
    "prefin_metadata.to_csv(DIR_PATH + '/prefin_metadata.csv', na_rep='null')"
   ]
  },
  {
   "source": [
    "## 3. Voxel Generation"
   ],
   "cell_type": "markdown",
   "metadata": {}
  },
  {
   "source": [
    "### 1) Debugging"
   ],
   "cell_type": "markdown",
   "metadata": {}
  },
  {
   "cell_type": "code",
   "execution_count": 3,
   "metadata": {},
   "outputs": [
    {
     "output_type": "execute_result",
     "data": {
      "text/plain": [
       "                                             Series UID         Collection  \\\n",
       "62    1.3.6.1.4.1.9328.50.17.23500193269190786828912...  RIDER Lung PET-CT   \n",
       "65    1.3.6.1.4.1.9328.50.17.71370567559995220330016...  RIDER Lung PET-CT   \n",
       "69    1.3.6.1.4.1.9328.50.17.28880173671501351185240...  RIDER Lung PET-CT   \n",
       "71    1.3.6.1.4.1.9328.50.17.10308613002188064065304...  RIDER Lung PET-CT   \n",
       "90    1.3.6.1.4.1.9328.50.17.23846650305435481959640...  RIDER Lung PET-CT   \n",
       "...                                                 ...                ...   \n",
       "1287  1.3.6.1.4.1.9328.50.17.19429515156664107209992...  RIDER Lung PET-CT   \n",
       "1290  1.3.6.1.4.1.9328.50.17.23927517269629765042831...  RIDER Lung PET-CT   \n",
       "1293  1.3.6.1.4.1.9328.50.17.16650979549258755223925...  RIDER Lung PET-CT   \n",
       "1322  1.3.6.1.4.1.9328.50.17.11527879251296425726955...  RIDER Lung PET-CT   \n",
       "1326  1.3.6.1.4.1.9328.50.17.10888495592818845871887...  RIDER Lung PET-CT   \n",
       "\n",
       "      3rd Party Analysis                           Data Description URI  \\\n",
       "62                   NaN  https://doi.org/10.7937/K9/TCIA.2015.OFIP7TVM   \n",
       "65                   NaN  https://doi.org/10.7937/K9/TCIA.2015.OFIP7TVM   \n",
       "69                   NaN  https://doi.org/10.7937/K9/TCIA.2015.OFIP7TVM   \n",
       "71                   NaN  https://doi.org/10.7937/K9/TCIA.2015.OFIP7TVM   \n",
       "90                   NaN  https://doi.org/10.7937/K9/TCIA.2015.OFIP7TVM   \n",
       "...                  ...                                            ...   \n",
       "1287                 NaN  https://doi.org/10.7937/K9/TCIA.2015.OFIP7TVM   \n",
       "1290                 NaN  https://doi.org/10.7937/K9/TCIA.2015.OFIP7TVM   \n",
       "1293                 NaN  https://doi.org/10.7937/K9/TCIA.2015.OFIP7TVM   \n",
       "1322                 NaN  https://doi.org/10.7937/K9/TCIA.2015.OFIP7TVM   \n",
       "1326                 NaN  https://doi.org/10.7937/K9/TCIA.2015.OFIP7TVM   \n",
       "\n",
       "            Subject ID                                          Study UID  \\\n",
       "62    RIDER-1172912404  1.3.6.1.4.1.9328.50.17.24892338155574864998303...   \n",
       "65    RIDER-1172912404  1.3.6.1.4.1.9328.50.17.24892338155574864998303...   \n",
       "69    RIDER-1172912404  1.3.6.1.4.1.9328.50.17.29723960320980340557147...   \n",
       "71    RIDER-1172912404  1.3.6.1.4.1.9328.50.17.29723960320980340557147...   \n",
       "90    RIDER-1284094278  1.3.6.1.4.1.9328.50.17.22545924354527867084396...   \n",
       "...                ...                                                ...   \n",
       "1287  RIDER-8054797922  1.3.6.1.4.1.9328.50.17.26884175944205502857742...   \n",
       "1290  RIDER-8054797922  1.3.6.1.4.1.9328.50.17.72443068618977843685376...   \n",
       "1293  RIDER-8054797922  1.3.6.1.4.1.9328.50.17.72443068618977843685376...   \n",
       "1322  RIDER-9640765801  1.3.6.1.4.1.9328.50.17.11844132793672058035829...   \n",
       "1326  RIDER-9640765801  1.3.6.1.4.1.9328.50.17.11844132793672058035829...   \n",
       "\n",
       "     Study Description  Study Date      Series Description  \\\n",
       "62     FDG 5AFOV TORSO  12-15-2005            CT 2.5MM STD   \n",
       "65     FDG 5AFOV TORSO  12-15-2005             PET FDG SUV   \n",
       "69     FDG 5AFOV TORSO  06-14-2005  Recon 2 CTAC 2.5 THICK   \n",
       "71     FDG 5AFOV TORSO  06-14-2005             PET FDG SUV   \n",
       "90    FDG 7 AFOV TORSO  11-24-2006            CT 2.5MM STD   \n",
       "...                ...         ...                     ...   \n",
       "1287   FDG 5AFOV TORSO  06-02-2005             PET FDG SUV   \n",
       "1290   FDG 5AFOV TORSO  01-31-2006            CT 2.5MM STD   \n",
       "1293   FDG 5AFOV TORSO  01-31-2006             PET FDG SUV   \n",
       "1322   FDG 6AFOV TORSO  02-02-2006            CT 2.5MM STD   \n",
       "1326   FDG 6AFOV TORSO  02-02-2006             PET FDG SUV   \n",
       "\n",
       "            Manufacturer Modality                              SOP Class Name  \\\n",
       "62    GE MEDICAL SYSTEMS       CT                            CT Image Storage   \n",
       "65    GE MEDICAL SYSTEMS       PT  Positron Emission Tomography Image Storage   \n",
       "69    GE MEDICAL SYSTEMS       CT                            CT Image Storage   \n",
       "71    GE MEDICAL SYSTEMS       PT  Positron Emission Tomography Image Storage   \n",
       "90    GE MEDICAL SYSTEMS       CT                            CT Image Storage   \n",
       "...                  ...      ...                                         ...   \n",
       "1287  GE MEDICAL SYSTEMS       PT  Positron Emission Tomography Image Storage   \n",
       "1290  GE MEDICAL SYSTEMS       CT                            CT Image Storage   \n",
       "1293  GE MEDICAL SYSTEMS       PT  Positron Emission Tomography Image Storage   \n",
       "1322  GE MEDICAL SYSTEMS       CT                            CT Image Storage   \n",
       "1326  GE MEDICAL SYSTEMS       PT  Positron Emission Tomography Image Storage   \n",
       "\n",
       "                    SOP Class UID  Number of Images  File Size  \\\n",
       "62      1.2.840.10008.5.1.4.1.1.2               290  145.55 MB   \n",
       "65    1.2.840.10008.5.1.4.1.1.128               223    7.58 MB   \n",
       "69      1.2.840.10008.5.1.4.1.1.2               291  146.03 MB   \n",
       "71    1.2.840.10008.5.1.4.1.1.128               223    7.59 MB   \n",
       "90      1.2.840.10008.5.1.4.1.1.2               358  179.67 MB   \n",
       "...                           ...               ...        ...   \n",
       "1287  1.2.840.10008.5.1.4.1.1.128               223    7.59 MB   \n",
       "1290    1.2.840.10008.5.1.4.1.1.2               295  148.06 MB   \n",
       "1293  1.2.840.10008.5.1.4.1.1.128               223    7.59 MB   \n",
       "1322    1.2.840.10008.5.1.4.1.1.2               355  178.18 MB   \n",
       "1326  1.2.840.10008.5.1.4.1.1.128               267    9.08 MB   \n",
       "\n",
       "                                          File Location  \\\n",
       "62    .\\RIDER Lung PET-CT\\RIDER-1172912404\\12-15-200...   \n",
       "65    .\\RIDER Lung PET-CT\\RIDER-1172912404\\12-15-200...   \n",
       "69    .\\RIDER Lung PET-CT\\RIDER-1172912404\\06-14-200...   \n",
       "71    .\\RIDER Lung PET-CT\\RIDER-1172912404\\06-14-200...   \n",
       "90    .\\RIDER Lung PET-CT\\RIDER-1284094278\\11-24-200...   \n",
       "...                                                 ...   \n",
       "1287  .\\RIDER Lung PET-CT\\RIDER-8054797922\\06-02-200...   \n",
       "1290  .\\RIDER Lung PET-CT\\RIDER-8054797922\\01-31-200...   \n",
       "1293  .\\RIDER Lung PET-CT\\RIDER-8054797922\\01-31-200...   \n",
       "1322  .\\RIDER Lung PET-CT\\RIDER-9640765801\\02-02-200...   \n",
       "1326  .\\RIDER Lung PET-CT\\RIDER-9640765801\\02-02-200...   \n",
       "\n",
       "           Download Timestamp  \n",
       "62     2021-07-07T22:18:24.46  \n",
       "65    2021-07-07T22:19:49.764  \n",
       "69    2021-07-07T22:30:22.011  \n",
       "71    2021-07-07T22:20:57.592  \n",
       "90    2021-07-07T22:50:03.194  \n",
       "...                       ...  \n",
       "1287  2021-07-08T18:42:24.587  \n",
       "1290  2021-07-08T19:05:28.415  \n",
       "1293  2021-07-08T18:51:02.864  \n",
       "1322  2021-07-08T19:42:54.418  \n",
       "1326  2021-07-08T19:34:45.372  \n",
       "\n",
       "[104 rows x 17 columns]"
      ],
      "text/html": "<div>\n<style scoped>\n    .dataframe tbody tr th:only-of-type {\n        vertical-align: middle;\n    }\n\n    .dataframe tbody tr th {\n        vertical-align: top;\n    }\n\n    .dataframe thead th {\n        text-align: right;\n    }\n</style>\n<table border=\"1\" class=\"dataframe\">\n  <thead>\n    <tr style=\"text-align: right;\">\n      <th></th>\n      <th>Series UID</th>\n      <th>Collection</th>\n      <th>3rd Party Analysis</th>\n      <th>Data Description URI</th>\n      <th>Subject ID</th>\n      <th>Study UID</th>\n      <th>Study Description</th>\n      <th>Study Date</th>\n      <th>Series Description</th>\n      <th>Manufacturer</th>\n      <th>Modality</th>\n      <th>SOP Class Name</th>\n      <th>SOP Class UID</th>\n      <th>Number of Images</th>\n      <th>File Size</th>\n      <th>File Location</th>\n      <th>Download Timestamp</th>\n    </tr>\n  </thead>\n  <tbody>\n    <tr>\n      <th>62</th>\n      <td>1.3.6.1.4.1.9328.50.17.23500193269190786828912...</td>\n      <td>RIDER Lung PET-CT</td>\n      <td>NaN</td>\n      <td>https://doi.org/10.7937/K9/TCIA.2015.OFIP7TVM</td>\n      <td>RIDER-1172912404</td>\n      <td>1.3.6.1.4.1.9328.50.17.24892338155574864998303...</td>\n      <td>FDG 5AFOV TORSO</td>\n      <td>12-15-2005</td>\n      <td>CT 2.5MM STD</td>\n      <td>GE MEDICAL SYSTEMS</td>\n      <td>CT</td>\n      <td>CT Image Storage</td>\n      <td>1.2.840.10008.5.1.4.1.1.2</td>\n      <td>290</td>\n      <td>145.55 MB</td>\n      <td>.\\RIDER Lung PET-CT\\RIDER-1172912404\\12-15-200...</td>\n      <td>2021-07-07T22:18:24.46</td>\n    </tr>\n    <tr>\n      <th>65</th>\n      <td>1.3.6.1.4.1.9328.50.17.71370567559995220330016...</td>\n      <td>RIDER Lung PET-CT</td>\n      <td>NaN</td>\n      <td>https://doi.org/10.7937/K9/TCIA.2015.OFIP7TVM</td>\n      <td>RIDER-1172912404</td>\n      <td>1.3.6.1.4.1.9328.50.17.24892338155574864998303...</td>\n      <td>FDG 5AFOV TORSO</td>\n      <td>12-15-2005</td>\n      <td>PET FDG SUV</td>\n      <td>GE MEDICAL SYSTEMS</td>\n      <td>PT</td>\n      <td>Positron Emission Tomography Image Storage</td>\n      <td>1.2.840.10008.5.1.4.1.1.128</td>\n      <td>223</td>\n      <td>7.58 MB</td>\n      <td>.\\RIDER Lung PET-CT\\RIDER-1172912404\\12-15-200...</td>\n      <td>2021-07-07T22:19:49.764</td>\n    </tr>\n    <tr>\n      <th>69</th>\n      <td>1.3.6.1.4.1.9328.50.17.28880173671501351185240...</td>\n      <td>RIDER Lung PET-CT</td>\n      <td>NaN</td>\n      <td>https://doi.org/10.7937/K9/TCIA.2015.OFIP7TVM</td>\n      <td>RIDER-1172912404</td>\n      <td>1.3.6.1.4.1.9328.50.17.29723960320980340557147...</td>\n      <td>FDG 5AFOV TORSO</td>\n      <td>06-14-2005</td>\n      <td>Recon 2 CTAC 2.5 THICK</td>\n      <td>GE MEDICAL SYSTEMS</td>\n      <td>CT</td>\n      <td>CT Image Storage</td>\n      <td>1.2.840.10008.5.1.4.1.1.2</td>\n      <td>291</td>\n      <td>146.03 MB</td>\n      <td>.\\RIDER Lung PET-CT\\RIDER-1172912404\\06-14-200...</td>\n      <td>2021-07-07T22:30:22.011</td>\n    </tr>\n    <tr>\n      <th>71</th>\n      <td>1.3.6.1.4.1.9328.50.17.10308613002188064065304...</td>\n      <td>RIDER Lung PET-CT</td>\n      <td>NaN</td>\n      <td>https://doi.org/10.7937/K9/TCIA.2015.OFIP7TVM</td>\n      <td>RIDER-1172912404</td>\n      <td>1.3.6.1.4.1.9328.50.17.29723960320980340557147...</td>\n      <td>FDG 5AFOV TORSO</td>\n      <td>06-14-2005</td>\n      <td>PET FDG SUV</td>\n      <td>GE MEDICAL SYSTEMS</td>\n      <td>PT</td>\n      <td>Positron Emission Tomography Image Storage</td>\n      <td>1.2.840.10008.5.1.4.1.1.128</td>\n      <td>223</td>\n      <td>7.59 MB</td>\n      <td>.\\RIDER Lung PET-CT\\RIDER-1172912404\\06-14-200...</td>\n      <td>2021-07-07T22:20:57.592</td>\n    </tr>\n    <tr>\n      <th>90</th>\n      <td>1.3.6.1.4.1.9328.50.17.23846650305435481959640...</td>\n      <td>RIDER Lung PET-CT</td>\n      <td>NaN</td>\n      <td>https://doi.org/10.7937/K9/TCIA.2015.OFIP7TVM</td>\n      <td>RIDER-1284094278</td>\n      <td>1.3.6.1.4.1.9328.50.17.22545924354527867084396...</td>\n      <td>FDG 7 AFOV TORSO</td>\n      <td>11-24-2006</td>\n      <td>CT 2.5MM STD</td>\n      <td>GE MEDICAL SYSTEMS</td>\n      <td>CT</td>\n      <td>CT Image Storage</td>\n      <td>1.2.840.10008.5.1.4.1.1.2</td>\n      <td>358</td>\n      <td>179.67 MB</td>\n      <td>.\\RIDER Lung PET-CT\\RIDER-1284094278\\11-24-200...</td>\n      <td>2021-07-07T22:50:03.194</td>\n    </tr>\n    <tr>\n      <th>...</th>\n      <td>...</td>\n      <td>...</td>\n      <td>...</td>\n      <td>...</td>\n      <td>...</td>\n      <td>...</td>\n      <td>...</td>\n      <td>...</td>\n      <td>...</td>\n      <td>...</td>\n      <td>...</td>\n      <td>...</td>\n      <td>...</td>\n      <td>...</td>\n      <td>...</td>\n      <td>...</td>\n      <td>...</td>\n    </tr>\n    <tr>\n      <th>1287</th>\n      <td>1.3.6.1.4.1.9328.50.17.19429515156664107209992...</td>\n      <td>RIDER Lung PET-CT</td>\n      <td>NaN</td>\n      <td>https://doi.org/10.7937/K9/TCIA.2015.OFIP7TVM</td>\n      <td>RIDER-8054797922</td>\n      <td>1.3.6.1.4.1.9328.50.17.26884175944205502857742...</td>\n      <td>FDG 5AFOV TORSO</td>\n      <td>06-02-2005</td>\n      <td>PET FDG SUV</td>\n      <td>GE MEDICAL SYSTEMS</td>\n      <td>PT</td>\n      <td>Positron Emission Tomography Image Storage</td>\n      <td>1.2.840.10008.5.1.4.1.1.128</td>\n      <td>223</td>\n      <td>7.59 MB</td>\n      <td>.\\RIDER Lung PET-CT\\RIDER-8054797922\\06-02-200...</td>\n      <td>2021-07-08T18:42:24.587</td>\n    </tr>\n    <tr>\n      <th>1290</th>\n      <td>1.3.6.1.4.1.9328.50.17.23927517269629765042831...</td>\n      <td>RIDER Lung PET-CT</td>\n      <td>NaN</td>\n      <td>https://doi.org/10.7937/K9/TCIA.2015.OFIP7TVM</td>\n      <td>RIDER-8054797922</td>\n      <td>1.3.6.1.4.1.9328.50.17.72443068618977843685376...</td>\n      <td>FDG 5AFOV TORSO</td>\n      <td>01-31-2006</td>\n      <td>CT 2.5MM STD</td>\n      <td>GE MEDICAL SYSTEMS</td>\n      <td>CT</td>\n      <td>CT Image Storage</td>\n      <td>1.2.840.10008.5.1.4.1.1.2</td>\n      <td>295</td>\n      <td>148.06 MB</td>\n      <td>.\\RIDER Lung PET-CT\\RIDER-8054797922\\01-31-200...</td>\n      <td>2021-07-08T19:05:28.415</td>\n    </tr>\n    <tr>\n      <th>1293</th>\n      <td>1.3.6.1.4.1.9328.50.17.16650979549258755223925...</td>\n      <td>RIDER Lung PET-CT</td>\n      <td>NaN</td>\n      <td>https://doi.org/10.7937/K9/TCIA.2015.OFIP7TVM</td>\n      <td>RIDER-8054797922</td>\n      <td>1.3.6.1.4.1.9328.50.17.72443068618977843685376...</td>\n      <td>FDG 5AFOV TORSO</td>\n      <td>01-31-2006</td>\n      <td>PET FDG SUV</td>\n      <td>GE MEDICAL SYSTEMS</td>\n      <td>PT</td>\n      <td>Positron Emission Tomography Image Storage</td>\n      <td>1.2.840.10008.5.1.4.1.1.128</td>\n      <td>223</td>\n      <td>7.59 MB</td>\n      <td>.\\RIDER Lung PET-CT\\RIDER-8054797922\\01-31-200...</td>\n      <td>2021-07-08T18:51:02.864</td>\n    </tr>\n    <tr>\n      <th>1322</th>\n      <td>1.3.6.1.4.1.9328.50.17.11527879251296425726955...</td>\n      <td>RIDER Lung PET-CT</td>\n      <td>NaN</td>\n      <td>https://doi.org/10.7937/K9/TCIA.2015.OFIP7TVM</td>\n      <td>RIDER-9640765801</td>\n      <td>1.3.6.1.4.1.9328.50.17.11844132793672058035829...</td>\n      <td>FDG 6AFOV TORSO</td>\n      <td>02-02-2006</td>\n      <td>CT 2.5MM STD</td>\n      <td>GE MEDICAL SYSTEMS</td>\n      <td>CT</td>\n      <td>CT Image Storage</td>\n      <td>1.2.840.10008.5.1.4.1.1.2</td>\n      <td>355</td>\n      <td>178.18 MB</td>\n      <td>.\\RIDER Lung PET-CT\\RIDER-9640765801\\02-02-200...</td>\n      <td>2021-07-08T19:42:54.418</td>\n    </tr>\n    <tr>\n      <th>1326</th>\n      <td>1.3.6.1.4.1.9328.50.17.10888495592818845871887...</td>\n      <td>RIDER Lung PET-CT</td>\n      <td>NaN</td>\n      <td>https://doi.org/10.7937/K9/TCIA.2015.OFIP7TVM</td>\n      <td>RIDER-9640765801</td>\n      <td>1.3.6.1.4.1.9328.50.17.11844132793672058035829...</td>\n      <td>FDG 6AFOV TORSO</td>\n      <td>02-02-2006</td>\n      <td>PET FDG SUV</td>\n      <td>GE MEDICAL SYSTEMS</td>\n      <td>PT</td>\n      <td>Positron Emission Tomography Image Storage</td>\n      <td>1.2.840.10008.5.1.4.1.1.128</td>\n      <td>267</td>\n      <td>9.08 MB</td>\n      <td>.\\RIDER Lung PET-CT\\RIDER-9640765801\\02-02-200...</td>\n      <td>2021-07-08T19:34:45.372</td>\n    </tr>\n  </tbody>\n</table>\n<p>104 rows × 17 columns</p>\n</div>"
     },
     "metadata": {},
     "execution_count": 3
    }
   ],
   "source": [
    "# Load prefin_metadata if needed\n",
    "prefin_metadata = pd.read_csv(DIR_PATH + '/prefin_metadata.csv', index_col=0)\n",
    "prefin_metadata"
   ]
  },
  {
   "cell_type": "code",
   "execution_count": 4,
   "metadata": {},
   "outputs": [
    {
     "output_type": "display_data",
     "data": {
      "text/plain": "Debugging:   0%|          | 0/104 [00:00<?, ?it/s]",
      "application/vnd.jupyter.widget-view+json": {
       "version_major": 2,
       "version_minor": 0,
       "model_id": "dc678c1d4bca45f6bc3dde2ac9b6a607"
      }
     },
     "metadata": {}
    }
   ],
   "source": [
    "# Debugging before generating voxels\n",
    "\n",
    "def voxel_debug(df, DIR_PATH): \n",
    "    debug_list = []\n",
    "    for i in tqdm(range(len(df)), desc='Debugging'):\n",
    "        idx = df.index[i]\n",
    "        DCM_PATH = DIR_PATH + df.loc[idx,'File Location'][1:]\n",
    "        for DCM in glob(os.path.join(DCM_PATH, '*.dcm')):\n",
    "            DCM_DATA = pydicom.dcmread(DCM)\n",
    "            if '1-' not in os.path.basename(DCM):\n",
    "                debug_list.append(DCM)\n",
    "            else:\n",
    "                try: dummy = DCM_DATA.pixel_array\n",
    "                except: debug_list.append(DCM)\n",
    "    return debug_list\n",
    " \n",
    "debug_list = voxel_debug(prefin_metadata, DIR_PATH)"
   ]
  },
  {
   "cell_type": "code",
   "execution_count": 5,
   "metadata": {},
   "outputs": [
    {
     "output_type": "stream",
     "name": "stdout",
     "text": [
      "[ 0] RIDER-1172912404\\12-15-2005-FDG 5AFOV TORSO-60805\\6.000000-PET FDG SUV-57573\\1.2.276.0.7230010.3.1.4.3765360647.2568.1625893976.820.dcm\n[ 1] RIDER-1284094278\\11-24-2006-FDG 7 AFOV TORSO-61585\\6.000000-PET FDG SUV-06196\\1.2.276.0.7230010.3.1.4.3765360647.40180.1625830876.836.dcm\n[ 2] RIDER-1343746903\\05-27-2006-FDG 5AFOV TORSO-70036\\6.000000-PET FDG SUV-20467\\1.2.276.0.7230010.3.1.4.3765360647.15028.1625831427.260.dcm\n[ 3] RIDER-1542248368\\01-09-2007-PET CT MID BODY-97982\\6.000000-PET FDG SUV-42300\\1.2.276.0.7230010.3.1.4.3765360647.26652.1625832044.615.dcm\n[ 4] RIDER-2117238498\\10-22-2005-PET TUMOR METAB-02377\\6.000000-PET FDG SUV-47003\\1.2.276.0.7230010.3.1.4.3765360647.31124.1625833597.240.dcm\n[ 5] RIDER-2117238498\\03-02-2006-FDG 5AFOV TORSO-92609\\6.000000-PET FDG SUV-22590\\1.2.276.0.7230010.3.1.4.3765360647.37828.1625833604.21.dcm\n[ 6] RIDER-2388849043\\09-06-2006-e1 FDG 6AFOV TORSO-67859\\6.000000-PET FDG SUV-94285\\1.2.276.0.7230010.3.1.4.3765360647.18132.1625833590.784.dcm\n[ 7] RIDER-2491061956\\07-26-2005-FDG 5AFOV TORSO-89764\\401.000000-PET FDG SUV-42975\\1.2.276.0.7230010.3.1.4.3765360647.34172.1625833712.480.dcm\n[ 8] RIDER-2610856938\\01-10-2007-FDG 5FOV TORSO-48498\\6.000000-PET FDG SUV-38968\\1.2.276.0.7230010.3.1.4.3765360647.2708.1625835530.85.dcm\n[ 9] RIDER-2617411955\\09-12-2006-PET CT WHOLE BODY-08407\\6.000000-PET FDG SUV-92503\\1.2.276.0.7230010.3.1.4.3765360647.13512.1625828532.820.dcm\n[10] RIDER-2624615528\\09-02-2006-FDG 5AFOV TORSO-07225\\6.000000-PET FDG SUV-11759\\1.2.276.0.7230010.3.1.4.3765360647.10924.1625828197.657.dcm\n[11] RIDER-2736200846\\01-09-2007-FDG 5AFOV TORSO-49542\\6.000000-PET FDG SUV-67721\\1.2.276.0.7230010.3.1.4.2893710068.1744.1625841511.214.dcm\n[12] RIDER-2796673129\\07-28-2006-PET TUMOR METABOLISM-13305\\6.000000-PET FDG SUV-62463\\1.2.276.0.7230010.3.1.4.3765360647.31984.1625818128.569.dcm\n[13] RIDER-2900155912\\11-27-2006-FDG5AFOV TORSO-63641\\6.000000-PET FDG SUV-44023\\1.2.276.0.7230010.3.1.4.3765360647.33624.1625835542.938.dcm\n[14] RIDER-8054797922\\03-21-2006-FDG 5AFOV LUNG-38782\\6.000000-PET FDG SUV-02407\\1.2.276.0.7230010.3.1.4.3765360647.40240.1625835489.894.dcm\n[15] RIDER-8054797922\\01-31-2006-FDG 5AFOV TORSO-28028\\6.000000-PET FDG SUV-44854\\1.2.276.0.7230010.3.1.4.3765360647.40888.1625835553.67.dcm\n[16] RIDER-9640765801\\02-02-2006-FDG 6AFOV TORSO-98743\\6.000000-PET FDG SUV-79015\\1.2.276.0.7230010.3.1.4.3765360647.38776.1625835497.862.dcm\n"
     ]
    }
   ],
   "source": [
    "for i, DCM in enumerate(debug_list):\n",
    "    print ('[{:2d}]'.format(i), os.path.join(*DCM.split(os.path.sep)[3:]))"
   ]
  },
  {
   "cell_type": "code",
   "execution_count": 65,
   "metadata": {},
   "outputs": [
    {
     "output_type": "stream",
     "name": "stdout",
     "text": [
      "Files in Debug List are independent of Number of Images.\nIgnore debug_list in voxel generation.\n"
     ]
    }
   ],
   "source": [
    "print (\"Files in Debug List are independent of Number of Images.\")\n",
    "print (\"Ignore debug_list in voxel generation.\")"
   ]
  },
  {
   "source": [
    "### 2) Voxel Generation"
   ],
   "cell_type": "markdown",
   "metadata": {}
  },
  {
   "cell_type": "code",
   "execution_count": 6,
   "metadata": {},
   "outputs": [],
   "source": [
    "def path2voxel(PATH, debug_list):\n",
    "\n",
    "    FILES = glob(os.path.join(PATH, '*.dcm'))\n",
    "    for debug in debug_list:\n",
    "        if debug in FILES: FILES.remove(debug)\n",
    "    FILES = [pydicom.dcmread(DCM) for DCM in FILES]\n",
    "    FILES.sort(key = lambda x: int(x.InstanceNumber))\n",
    "\n",
    "    dsRef = FILES[0]\n",
    "    dims = (int(dsRef.Rows), int(dsRef.Columns), len(FILES))\n",
    "    voxel = np.zeros(dims)\n",
    "    for i, DCM in enumerate(FILES):\n",
    "        voxel[:,:,i] = DCM.pixel_array\n",
    "\n",
    "    return voxel, dsRef"
   ]
  },
  {
   "cell_type": "code",
   "execution_count": 7,
   "metadata": {},
   "outputs": [],
   "source": [
    "def dfref2dict(df, dsRef):\n",
    "\n",
    "    x = dict()\n",
    "\n",
    "    # From df\n",
    "    x['Subject ID'] = df['Subject ID']\n",
    "    x['Study UID'] = df['Study UID']\n",
    "    x['Study Description'] = df['Study Description']\n",
    "    x['Study Date'] = df['Study Date']\n",
    "    x['Series Description'] = df['Series Description']\n",
    "    x['Modality'] = df['Modality']\n",
    "    x['Number of Images'] = df['Number of Images']\n",
    "    x['File Location'] = df['File Location']\n",
    "\n",
    "    # From dsRef\n",
    "    x['Thickness'] = (float(dsRef.PixelSpacing[0]), float(dsRef.PixelSpacing[1]), float(dsRef.SliceThickness))\n",
    "    \n",
    "    return x"
   ]
  },
  {
   "cell_type": "code",
   "execution_count": 8,
   "metadata": {},
   "outputs": [],
   "source": [
    "def voxel_generator(df, DIR_PATH, debug_list, FOLDER='voxel'):\n",
    "\n",
    "    FOLDER_PATH = os.path.join(DIR_PATH, FOLDER)\n",
    "    DATA_PATH = os.path.join(FOLDER_PATH, 'data')\n",
    "    REF_PATH = os.path.join(FOLDER_PATH, 'dcmref')\n",
    "    if not os.path.exists(FOLDER_PATH): os.mkdir(FOLDER_PATH)\n",
    "    if not os.path.exists(DATA_PATH): os.mkdir(DATA_PATH)\n",
    "    if not os.path.exists(REF_PATH): os.mkdir(REF_PATH)\n",
    "\n",
    "    for i in tqdm(range(len(df)), desc='Generating'):\n",
    "        \n",
    "        # Voxel / Reference / Dictionary Generation\n",
    "        idx = df.index[i]\n",
    "        DCM_PATH = DIR_PATH + df.loc[idx,'File Location'][1:]\n",
    "        voxel, dsRef = path2voxel(DCM_PATH, debug_list)\n",
    "        dic = dfref2dict(df.loc[idx], dsRef)\n",
    "        mod = dic['Modality']\n",
    "        FILE_NAME = '{}_{:02d}'.format(mod, i//2)\n",
    "\n",
    "        # Summary DataFrame Generation\n",
    "        if i == 0:\n",
    "            column_list = list(dic.keys())[:-1] + ['File Name']\n",
    "            final_df = pd.DataFrame(list(dic.values())[:-1] + [FILE_NAME]).T\n",
    "            final_df.columns = column_list\n",
    "        else:\n",
    "            temp_df = pd.DataFrame(list(dic.values())[:-1] + [FILE_NAME]).T\n",
    "            temp_df.columns = column_list\n",
    "            final_df = pd.concat([final_df, temp_df], axis=0)\n",
    "        \n",
    "        # Save Voxel / Reference\n",
    "        np.save(os.path.join(DATA_PATH, FILE_NAME), voxel)\n",
    "        shutil.copy(glob(os.path.join(DCM_PATH, '*.dcm'))[0], os.path.join(REF_PATH, FILE_NAME) + '.dcm')\n",
    "        \n",
    "    # Save Summary DataFrame\n",
    "    final_df.reset_index(drop=True, inplace=True)\n",
    "    final_df.to_csv(os.path.join(FOLDER_PATH, 'summary.csv'), na_rep='null')\n",
    "\n",
    "    return final_df"
   ]
  },
  {
   "cell_type": "code",
   "execution_count": 9,
   "metadata": {
    "tags": []
   },
   "outputs": [
    {
     "output_type": "display_data",
     "data": {
      "text/plain": "Generating:   0%|          | 0/104 [00:00<?, ?it/s]",
      "application/vnd.jupyter.widget-view+json": {
       "version_major": 2,
       "version_minor": 0,
       "model_id": "8b4490adb85042e88fb1d92147722a0b"
      }
     },
     "metadata": {}
    },
    {
     "output_type": "execute_result",
     "data": {
      "text/plain": [
       "           Subject ID                                          Study UID  \\\n",
       "0    RIDER-1172912404  1.3.6.1.4.1.9328.50.17.24892338155574864998303...   \n",
       "1    RIDER-1172912404  1.3.6.1.4.1.9328.50.17.24892338155574864998303...   \n",
       "2    RIDER-1172912404  1.3.6.1.4.1.9328.50.17.29723960320980340557147...   \n",
       "3    RIDER-1172912404  1.3.6.1.4.1.9328.50.17.29723960320980340557147...   \n",
       "4    RIDER-1284094278  1.3.6.1.4.1.9328.50.17.22545924354527867084396...   \n",
       "..                ...                                                ...   \n",
       "99   RIDER-8054797922  1.3.6.1.4.1.9328.50.17.26884175944205502857742...   \n",
       "100  RIDER-8054797922  1.3.6.1.4.1.9328.50.17.72443068618977843685376...   \n",
       "101  RIDER-8054797922  1.3.6.1.4.1.9328.50.17.72443068618977843685376...   \n",
       "102  RIDER-9640765801  1.3.6.1.4.1.9328.50.17.11844132793672058035829...   \n",
       "103  RIDER-9640765801  1.3.6.1.4.1.9328.50.17.11844132793672058035829...   \n",
       "\n",
       "    Study Description  Study Date      Series Description Modality  \\\n",
       "0     FDG 5AFOV TORSO  12-15-2005            CT 2.5MM STD       CT   \n",
       "1     FDG 5AFOV TORSO  12-15-2005             PET FDG SUV       PT   \n",
       "2     FDG 5AFOV TORSO  06-14-2005  Recon 2 CTAC 2.5 THICK       CT   \n",
       "3     FDG 5AFOV TORSO  06-14-2005             PET FDG SUV       PT   \n",
       "4    FDG 7 AFOV TORSO  11-24-2006            CT 2.5MM STD       CT   \n",
       "..                ...         ...                     ...      ...   \n",
       "99    FDG 5AFOV TORSO  06-02-2005             PET FDG SUV       PT   \n",
       "100   FDG 5AFOV TORSO  01-31-2006            CT 2.5MM STD       CT   \n",
       "101   FDG 5AFOV TORSO  01-31-2006             PET FDG SUV       PT   \n",
       "102   FDG 6AFOV TORSO  02-02-2006            CT 2.5MM STD       CT   \n",
       "103   FDG 6AFOV TORSO  02-02-2006             PET FDG SUV       PT   \n",
       "\n",
       "    Number of Images                                      File Location  \\\n",
       "0                290  .\\RIDER Lung PET-CT\\RIDER-1172912404\\12-15-200...   \n",
       "1                223  .\\RIDER Lung PET-CT\\RIDER-1172912404\\12-15-200...   \n",
       "2                291  .\\RIDER Lung PET-CT\\RIDER-1172912404\\06-14-200...   \n",
       "3                223  .\\RIDER Lung PET-CT\\RIDER-1172912404\\06-14-200...   \n",
       "4                358  .\\RIDER Lung PET-CT\\RIDER-1284094278\\11-24-200...   \n",
       "..               ...                                                ...   \n",
       "99               223  .\\RIDER Lung PET-CT\\RIDER-8054797922\\06-02-200...   \n",
       "100              295  .\\RIDER Lung PET-CT\\RIDER-8054797922\\01-31-200...   \n",
       "101              223  .\\RIDER Lung PET-CT\\RIDER-8054797922\\01-31-200...   \n",
       "102              355  .\\RIDER Lung PET-CT\\RIDER-9640765801\\02-02-200...   \n",
       "103              267  .\\RIDER Lung PET-CT\\RIDER-9640765801\\02-02-200...   \n",
       "\n",
       "    File Name  \n",
       "0       CT_00  \n",
       "1       PT_00  \n",
       "2       CT_01  \n",
       "3       PT_01  \n",
       "4       CT_02  \n",
       "..        ...  \n",
       "99      PT_49  \n",
       "100     CT_50  \n",
       "101     PT_50  \n",
       "102     CT_51  \n",
       "103     PT_51  \n",
       "\n",
       "[104 rows x 9 columns]"
      ],
      "text/html": "<div>\n<style scoped>\n    .dataframe tbody tr th:only-of-type {\n        vertical-align: middle;\n    }\n\n    .dataframe tbody tr th {\n        vertical-align: top;\n    }\n\n    .dataframe thead th {\n        text-align: right;\n    }\n</style>\n<table border=\"1\" class=\"dataframe\">\n  <thead>\n    <tr style=\"text-align: right;\">\n      <th></th>\n      <th>Subject ID</th>\n      <th>Study UID</th>\n      <th>Study Description</th>\n      <th>Study Date</th>\n      <th>Series Description</th>\n      <th>Modality</th>\n      <th>Number of Images</th>\n      <th>File Location</th>\n      <th>File Name</th>\n    </tr>\n  </thead>\n  <tbody>\n    <tr>\n      <th>0</th>\n      <td>RIDER-1172912404</td>\n      <td>1.3.6.1.4.1.9328.50.17.24892338155574864998303...</td>\n      <td>FDG 5AFOV TORSO</td>\n      <td>12-15-2005</td>\n      <td>CT 2.5MM STD</td>\n      <td>CT</td>\n      <td>290</td>\n      <td>.\\RIDER Lung PET-CT\\RIDER-1172912404\\12-15-200...</td>\n      <td>CT_00</td>\n    </tr>\n    <tr>\n      <th>1</th>\n      <td>RIDER-1172912404</td>\n      <td>1.3.6.1.4.1.9328.50.17.24892338155574864998303...</td>\n      <td>FDG 5AFOV TORSO</td>\n      <td>12-15-2005</td>\n      <td>PET FDG SUV</td>\n      <td>PT</td>\n      <td>223</td>\n      <td>.\\RIDER Lung PET-CT\\RIDER-1172912404\\12-15-200...</td>\n      <td>PT_00</td>\n    </tr>\n    <tr>\n      <th>2</th>\n      <td>RIDER-1172912404</td>\n      <td>1.3.6.1.4.1.9328.50.17.29723960320980340557147...</td>\n      <td>FDG 5AFOV TORSO</td>\n      <td>06-14-2005</td>\n      <td>Recon 2 CTAC 2.5 THICK</td>\n      <td>CT</td>\n      <td>291</td>\n      <td>.\\RIDER Lung PET-CT\\RIDER-1172912404\\06-14-200...</td>\n      <td>CT_01</td>\n    </tr>\n    <tr>\n      <th>3</th>\n      <td>RIDER-1172912404</td>\n      <td>1.3.6.1.4.1.9328.50.17.29723960320980340557147...</td>\n      <td>FDG 5AFOV TORSO</td>\n      <td>06-14-2005</td>\n      <td>PET FDG SUV</td>\n      <td>PT</td>\n      <td>223</td>\n      <td>.\\RIDER Lung PET-CT\\RIDER-1172912404\\06-14-200...</td>\n      <td>PT_01</td>\n    </tr>\n    <tr>\n      <th>4</th>\n      <td>RIDER-1284094278</td>\n      <td>1.3.6.1.4.1.9328.50.17.22545924354527867084396...</td>\n      <td>FDG 7 AFOV TORSO</td>\n      <td>11-24-2006</td>\n      <td>CT 2.5MM STD</td>\n      <td>CT</td>\n      <td>358</td>\n      <td>.\\RIDER Lung PET-CT\\RIDER-1284094278\\11-24-200...</td>\n      <td>CT_02</td>\n    </tr>\n    <tr>\n      <th>...</th>\n      <td>...</td>\n      <td>...</td>\n      <td>...</td>\n      <td>...</td>\n      <td>...</td>\n      <td>...</td>\n      <td>...</td>\n      <td>...</td>\n      <td>...</td>\n    </tr>\n    <tr>\n      <th>99</th>\n      <td>RIDER-8054797922</td>\n      <td>1.3.6.1.4.1.9328.50.17.26884175944205502857742...</td>\n      <td>FDG 5AFOV TORSO</td>\n      <td>06-02-2005</td>\n      <td>PET FDG SUV</td>\n      <td>PT</td>\n      <td>223</td>\n      <td>.\\RIDER Lung PET-CT\\RIDER-8054797922\\06-02-200...</td>\n      <td>PT_49</td>\n    </tr>\n    <tr>\n      <th>100</th>\n      <td>RIDER-8054797922</td>\n      <td>1.3.6.1.4.1.9328.50.17.72443068618977843685376...</td>\n      <td>FDG 5AFOV TORSO</td>\n      <td>01-31-2006</td>\n      <td>CT 2.5MM STD</td>\n      <td>CT</td>\n      <td>295</td>\n      <td>.\\RIDER Lung PET-CT\\RIDER-8054797922\\01-31-200...</td>\n      <td>CT_50</td>\n    </tr>\n    <tr>\n      <th>101</th>\n      <td>RIDER-8054797922</td>\n      <td>1.3.6.1.4.1.9328.50.17.72443068618977843685376...</td>\n      <td>FDG 5AFOV TORSO</td>\n      <td>01-31-2006</td>\n      <td>PET FDG SUV</td>\n      <td>PT</td>\n      <td>223</td>\n      <td>.\\RIDER Lung PET-CT\\RIDER-8054797922\\01-31-200...</td>\n      <td>PT_50</td>\n    </tr>\n    <tr>\n      <th>102</th>\n      <td>RIDER-9640765801</td>\n      <td>1.3.6.1.4.1.9328.50.17.11844132793672058035829...</td>\n      <td>FDG 6AFOV TORSO</td>\n      <td>02-02-2006</td>\n      <td>CT 2.5MM STD</td>\n      <td>CT</td>\n      <td>355</td>\n      <td>.\\RIDER Lung PET-CT\\RIDER-9640765801\\02-02-200...</td>\n      <td>CT_51</td>\n    </tr>\n    <tr>\n      <th>103</th>\n      <td>RIDER-9640765801</td>\n      <td>1.3.6.1.4.1.9328.50.17.11844132793672058035829...</td>\n      <td>FDG 6AFOV TORSO</td>\n      <td>02-02-2006</td>\n      <td>PET FDG SUV</td>\n      <td>PT</td>\n      <td>267</td>\n      <td>.\\RIDER Lung PET-CT\\RIDER-9640765801\\02-02-200...</td>\n      <td>PT_51</td>\n    </tr>\n  </tbody>\n</table>\n<p>104 rows × 9 columns</p>\n</div>"
     },
     "metadata": {},
     "execution_count": 9
    }
   ],
   "source": [
    "# Voxel Generation\n",
    "FOLDER = 'voxel'\n",
    "fin_metadata = voxel_generator(prefin_metadata, DIR_PATH, debug_list, FOLDER=FOLDER)\n",
    "fin_metadata"
   ]
  },
  {
   "cell_type": "code",
   "execution_count": null,
   "metadata": {},
   "outputs": [],
   "source": []
  }
 ]
}